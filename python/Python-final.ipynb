{
 "cells": [
  {
   "cell_type": "markdown",
   "metadata": {},
   "source": [
    "# Python Intro - Final Exercise\n"
   ]
  },
  {
   "cell_type": "code",
   "execution_count": 2,
   "metadata": {},
   "outputs": [],
   "source": [
    "import pyodbc\n",
    "import pandas as pd\n",
    "import numpy as np"
   ]
  },
  {
   "cell_type": "code",
   "execution_count": 3,
   "metadata": {},
   "outputs": [],
   "source": [
    "### In windows, Using a ODBC DNS (predefined connection name)\n",
    "conn = pyodbc.connect('DSN=COLLEGE;Trusted_Connection=yes;')\n"
   ]
  },
  {
   "cell_type": "code",
   "execution_count": 118,
   "metadata": {},
   "outputs": [
    {
     "name": "stdout",
     "output_type": "stream",
     "text": [
      "     StudentId FirstName   LastName Gender\n",
      "0          162    Elmira    Holston      F\n",
      "1          154    Sierra  Van Vorst      F\n",
      "2           28     Mycah    Bingham      F\n",
      "3           54      Alia      Jones      F\n",
      "4           31    Chanda   Fillmore      F\n",
      "..         ...       ...        ...    ...\n",
      "275        246   Preston    Sprouse      M\n",
      "276         55   Dmitriy       Gage      M\n",
      "277        218    Skyler     Norris      M\n",
      "278        269     Tyler    Raymond      M\n",
      "279        228     Dylan      Davis      M\n",
      "\n",
      "[280 rows x 4 columns]\n",
      "    TeacherId  FirstName      LastName Gender\n",
      "0           1     Kaylea      Monzingo      F\n",
      "1           2     Amanda       Dworkin      F\n",
      "2           3     Jordyn         Baron      F\n",
      "3           4  Katherine        Dibari      F\n",
      "4           5    Heather       Metcalf      F\n",
      "5           6    Madison         Batan      F\n",
      "6           7    Cortnee  Kinderknecht      F\n",
      "7           8   Caroline       Knuesel      F\n",
      "8           9   Katerina         Young      F\n",
      "9          10  Mackenzie         Olsen      F\n",
      "10         11    Kaitlin        Delude      F\n",
      "11         12    Mikayla       Russell      F\n",
      "12         13  Alexander         Watts      M\n",
      "13         14    Jeffrey        Batzel      M\n",
      "14         15      Conor    Mckittrick      M\n",
      "15         16     Robert      Aivazian      M\n",
      "16         17     Tanner    Fitzsimons      M\n",
      "17         18     Daniel         Bland      M\n",
      "18         19     Terran         Beaty      M\n",
      "19         20    Zachary         Healy      M\n",
      "20         21     Ernest      Stoyanov      M\n",
      "21         22     Darick          Hess      M\n",
      "22         23    Maxwell        Romkee      M\n",
      "23         24     Keegan         Price      M\n",
      "    CourseId            CourseName  DepartmentId  TeacherId\n",
      "0          1     English Begginers             1         15\n",
      "1          2      Advanced English             1         15\n",
      "2          3  Proffesional English             1         15\n",
      "3          4       Mathematics 101             2          2\n",
      "4          5   Matematics Advanced             2         13\n",
      "5          6               Algebra             2         13\n",
      "6          7              Geometry             2         13\n",
      "7          8             Chemistry             2         14\n",
      "8          9               Physics             2         13\n",
      "9         10               Biology             2          3\n",
      "10        11              Genetics             2         19\n",
      "11        12          Neurobiology             2         19\n",
      "12        13            Statistics             2          5\n",
      "13        14      Computer Science             2          1\n",
      "14        15          Data Science             2         10\n",
      "15        16                   SQL             2         20\n",
      "16        17                Python             2         19\n",
      "17        18                     R             2         17\n",
      "18        19                  Java             2         22\n",
      "19        20       History of Arts             3          8\n",
      "20        21              Painting             3          9\n",
      "21        22             Sculpture             3         16\n",
      "22        23            Musicology             3          6\n",
      "23        24               Theater             3         21\n",
      "24        25            Literature             3         18\n",
      "25        26            Basketball             4          4\n",
      "26        27            Volleyball             4         11\n",
      "27        28              Football             4          7\n",
      "28        29                 Tenis             4         24\n",
      "29        30              Swimming             4         12\n",
      "30        31            Gymnastics             4         23\n",
      "   DepartmentId DepartmentName\n",
      "0             1        English\n",
      "1             2        Science\n",
      "2             3           Arts\n",
      "3             4          Sport\n",
      "     CourseId  StudentId     Degree\n",
      "0           1        202  92.031070\n",
      "1           1         12  81.175916\n",
      "2           1        232  82.396587\n",
      "3           1        123  62.420449\n",
      "4           1        274  72.569900\n",
      "..        ...        ...        ...\n",
      "749        31         77  78.480534\n",
      "750        31        108  79.660333\n",
      "751        31        193  80.876061\n",
      "752        31        233  92.495579\n",
      "753        31         16  78.507968\n",
      "\n",
      "[754 rows x 3 columns]\n"
     ]
    }
   ],
   "source": [
    "### Get the students table\n",
    "students = pd.read_sql(\"SELECT * FROM Students;\",conn) \n",
    "teachers = pd.read_sql(\"SELECT * FROM Teachers;\",conn) \n",
    "courses = pd.read_sql(\"SELECT * FROM Courses;\",conn) \n",
    "departments = pd.read_sql(\"SELECT * FROM Departments;\",conn) \n",
    "classrooms = pd.read_sql(\"SELECT * FROM Classrooms;\",conn)\n",
    "print(students)\n",
    "print(teachers)\n",
    "print(courses)\n",
    "print(departments)\n",
    "print(classrooms)"
   ]
  },
  {
   "cell_type": "code",
   "execution_count": null,
   "metadata": {},
   "outputs": [],
   "source": []
  },
  {
   "cell_type": "markdown",
   "metadata": {},
   "source": [
    "# Questions\n",
    " \n",
    " \n",
    "## Q1. Count the number of students on each department"
   ]
  },
  {
   "cell_type": "code",
   "execution_count": 41,
   "metadata": {},
   "outputs": [
    {
     "name": "stdout",
     "output_type": "stream",
     "text": [
      "               StudentId\n",
      "                 nunique\n",
      "DepartmentName          \n",
      "Arts                 137\n",
      "English               84\n",
      "Science              200\n",
      "Sport                 81\n"
     ]
    }
   ],
   "source": [
    "result = pd.merge(courses,departments , on=\"DepartmentId\" )\n",
    "result = pd.merge(result,classrooms , on=\"CourseId\" )\n",
    "result = result.drop_duplicates(subset=['DepartmentId','StudentId'], keep='first')\n",
    "result = result.groupby(['DepartmentName']).agg({\"StudentId\":['nunique']})\n",
    "print(result)"
   ]
  },
  {
   "cell_type": "markdown",
   "metadata": {},
   "source": [
    "## Q2. How many students have each course of the English department and the total number of students in the department?"
   ]
  },
  {
   "cell_type": "code",
   "execution_count": 77,
   "metadata": {},
   "outputs": [
    {
     "name": "stdout",
     "output_type": "stream",
     "text": [
      "                     StudentId\n",
      "                         count\n",
      "CourseName                    \n",
      "Advanced English            24\n",
      "English Begginers           32\n",
      "Proffesional English        38\n",
      "the number of students in the department 84\n"
     ]
    }
   ],
   "source": [
    "result = pd.merge(courses,classrooms , on=\"CourseId\"  )\n",
    "result = result[(result.DepartmentId == 1)]\n",
    "result1 = result.groupby(['CourseName']).agg({\"StudentId\":['count']})\n",
    "print(result1)\n",
    "result2 = result.drop_duplicates(subset=['StudentId'], keep='first')[\"StudentId\"].count()\n",
    "print(\"the number of students in the department\"  ,result2 )\n",
    "      "
   ]
  },
  {
   "cell_type": "markdown",
   "metadata": {},
   "source": [
    "## Q3. How many small (<22 students) and large (22+ students) classrooms are needed for the Science department?"
   ]
  },
  {
   "cell_type": "code",
   "execution_count": 138,
   "metadata": {},
   "outputs": [
    {
     "name": "stdout",
     "output_type": "stream",
     "text": [
      "          classtype\n",
      "              count\n",
      "classtype          \n",
      "big              10\n",
      "small             6\n"
     ]
    }
   ],
   "source": [
    "result = pd.merge(courses,classrooms , on=\"CourseId\"  )\n",
    "result = result[(result.DepartmentId == 2)]\n",
    "result = result.groupby(['CourseName']).agg({\"StudentId\":['count']})\n",
    "result['classtype'] = 'big'\n",
    "result.loc[(result.iloc[:,0]<=22) , 'classtype']='small'\n",
    "result1 = result.groupby(['classtype']).agg({\"classtype\":['count']})\n",
    "print(result1)\n",
    "\n",
    "\n"
   ]
  },
  {
   "cell_type": "markdown",
   "metadata": {},
   "source": [
    "## Q4. A feminist student claims that there are more male than female in the College. Justify if the argument is correct"
   ]
  },
  {
   "cell_type": "code",
   "execution_count": 121,
   "metadata": {},
   "outputs": [
    {
     "name": "stdout",
     "output_type": "stream",
     "text": [
      "       StudentId\n",
      "           count\n",
      "Gender          \n",
      "F            165\n",
      "M            115\n"
     ]
    }
   ],
   "source": [
    "print(students.groupby(['Gender']).agg({\"StudentId\":['count']}))\n",
    "\n",
    "\n",
    "\n"
   ]
  },
  {
   "cell_type": "markdown",
   "metadata": {},
   "source": [
    "## Q5. For which courses the percentage of male/female students is over 70%?"
   ]
  },
  {
   "cell_type": "code",
   "execution_count": 223,
   "metadata": {},
   "outputs": [
    {
     "name": "stdout",
     "output_type": "stream",
     "text": [
      "            males  females  total\n",
      "CourseName                       \n",
      "Sculpture       7       17     24\n",
      "Tenis           5       13     18\n"
     ]
    }
   ],
   "source": [
    "result = pd.merge(courses,classrooms , on=\"CourseId\"  )\n",
    "result = pd.merge(result,students , on=\"StudentId\"  )\n",
    "a = result.groupby(['CourseName']).agg(total=(\"StudentId\", \"count\"))\n",
    "m = result[(result.Gender == \"M\")]\n",
    "f = result[(result.Gender == \"F\")]\n",
    "m = m.groupby(['CourseName']).agg(males=(\"StudentId\", \"count\"))\n",
    "f = f.groupby(['CourseName']).agg(females=(\"StudentId\", \"count\"))\n",
    "resultall = pd.merge(m, f,  on=\"CourseName\" ,how = 'inner')\n",
    "resultall = pd.merge(resultall, a,  on=\"CourseName\" ,how = 'inner')\n",
    "resultall['pm'] = resultall['males'] / resultall ['total'] > 0.7\n",
    "resultall['pf'] = resultall['females'] / resultall ['total'] > 0.7\n",
    "resultall = resultall[(resultall.pf == True) | (resultall.pm == True) ]\n",
    "print(resultall.iloc[:,0:3])"
   ]
  },
  {
   "cell_type": "markdown",
   "metadata": {},
   "source": [
    "## Q6. For each department, how many students passed with a grades over 80?"
   ]
  },
  {
   "cell_type": "code",
   "execution_count": 231,
   "metadata": {},
   "outputs": [
    {
     "name": "stdout",
     "output_type": "stream",
     "text": [
      "                over80\n",
      "DepartmentName        \n",
      "Arts                61\n",
      "English             40\n",
      "Science            122\n",
      "Sport               39\n"
     ]
    }
   ],
   "source": [
    "result = pd.merge(courses,departments , on=\"DepartmentId\" )\n",
    "result = pd.merge(result,classrooms , on=\"CourseId\"  )\n",
    "result = pd.merge(result,students , on=\"StudentId\"  )\n",
    "result = result[(result.Degree >80 )]\n",
    "result = result.groupby(['DepartmentName']).agg(over80=(\"StudentId\", \"nunique\"))\n",
    "print(result)\n"
   ]
  },
  {
   "cell_type": "markdown",
   "metadata": {},
   "source": [
    "## Q7. For each department, how many students passed with a grades under 60?"
   ]
  },
  {
   "cell_type": "code",
   "execution_count": 232,
   "metadata": {},
   "outputs": [
    {
     "name": "stdout",
     "output_type": "stream",
     "text": [
      "                over80\n",
      "DepartmentName        \n",
      "Arts                 3\n",
      "English              2\n",
      "Science              7\n",
      "Sport                1\n"
     ]
    }
   ],
   "source": [
    "result = pd.merge(courses,departments , on=\"DepartmentId\" )\n",
    "result = pd.merge(result,classrooms , on=\"CourseId\"  )\n",
    "result = pd.merge(result,students , on=\"StudentId\"  )\n",
    "result = result[(result.Degree <60 )]\n",
    "result = result.groupby(['DepartmentName']).agg(over80=(\"StudentId\", \"nunique\"))\n",
    "print(result)\n"
   ]
  },
  {
   "cell_type": "markdown",
   "metadata": {},
   "source": [
    "## Q8. Rate the teachers by their average student's grades (in descending order)."
   ]
  },
  {
   "cell_type": "code",
   "execution_count": null,
   "metadata": {},
   "outputs": [],
   "source": []
  },
  {
   "cell_type": "markdown",
   "metadata": {},
   "source": [
    "## Q9. Create a dataframe showing the courses, departments they are associated with, the teacher in each course, and the number of students enrolled in the course (for each course, department and teacher show the names)."
   ]
  },
  {
   "cell_type": "code",
   "execution_count": null,
   "metadata": {},
   "outputs": [],
   "source": []
  },
  {
   "cell_type": "markdown",
   "metadata": {},
   "source": [
    "## Q10. Create a dataframe showing the students, the number of courses they take, the average of the grades per class, and their overall average (for each student show the student name)."
   ]
  },
  {
   "cell_type": "code",
   "execution_count": null,
   "metadata": {},
   "outputs": [],
   "source": []
  }
 ],
 "metadata": {
  "kernelspec": {
   "display_name": "Python 3",
   "language": "python",
   "name": "python3"
  },
  "language_info": {
   "codemirror_mode": {
    "name": "ipython",
    "version": 3
   },
   "file_extension": ".py",
   "mimetype": "text/x-python",
   "name": "python",
   "nbconvert_exporter": "python",
   "pygments_lexer": "ipython3",
   "version": "3.6.8"
  }
 },
 "nbformat": 4,
 "nbformat_minor": 2
}
