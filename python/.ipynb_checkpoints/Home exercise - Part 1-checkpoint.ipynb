{
 "cells": [
  {
   "cell_type": "markdown",
   "metadata": {},
   "source": [
    "# Exercises for part I - Try it at home"
   ]
  },
  {
   "cell_type": "markdown",
   "metadata": {},
   "source": [
    "## List\n",
    " \n",
    "1. Create a list of numbers from 1 to 10"
   ]
  },
  {
   "cell_type": "code",
   "execution_count": 55,
   "metadata": {},
   "outputs": [
    {
     "data": {
      "text/plain": [
       "[1, 2, 3, 4, 5, 6, 7, 8, 9]"
      ]
     },
     "execution_count": 55,
     "metadata": {},
     "output_type": "execute_result"
    }
   ],
   "source": [
    "a = list(range (1,10))\n",
    "a"
   ]
  },
  {
   "cell_type": "markdown",
   "metadata": {},
   "source": [
    "2. Append to the list the number 20"
   ]
  },
  {
   "cell_type": "code",
   "execution_count": 56,
   "metadata": {},
   "outputs": [
    {
     "data": {
      "text/plain": [
       "[1, 2, 3, 4, 5, 6, 7, 8, 9, 20]"
      ]
     },
     "execution_count": 56,
     "metadata": {},
     "output_type": "execute_result"
    }
   ],
   "source": [
    "a.append(20)\n",
    "a"
   ]
  },
  {
   "cell_type": "markdown",
   "metadata": {},
   "source": [
    "3. Insert two zeros after the fourth place of the list"
   ]
  },
  {
   "cell_type": "code",
   "execution_count": 57,
   "metadata": {},
   "outputs": [
    {
     "data": {
      "text/plain": [
       "[1, 2, 3, 4, 0, 0, 5, 6, 7, 8, 9, 20]"
      ]
     },
     "execution_count": 57,
     "metadata": {},
     "output_type": "execute_result"
    }
   ],
   "source": [
    "a.insert(4,0)\n",
    "a.insert(5,0)\n",
    "a"
   ]
  },
  {
   "cell_type": "markdown",
   "metadata": {},
   "source": [
    "4. Sort the list in reverse order"
   ]
  },
  {
   "cell_type": "code",
   "execution_count": 47,
   "metadata": {},
   "outputs": [
    {
     "data": {
      "text/plain": [
       "[20, 9, 8, 7, 6, 5, 4, 3, 2, 1, 0, 0]"
      ]
     },
     "execution_count": 47,
     "metadata": {},
     "output_type": "execute_result"
    }
   ],
   "source": [
    "a.sort(reverse=True)\n",
    "a"
   ]
  },
  {
   "cell_type": "markdown",
   "metadata": {},
   "source": [
    "5. Remove the last two items from the list"
   ]
  },
  {
   "cell_type": "code",
   "execution_count": 48,
   "metadata": {},
   "outputs": [
    {
     "data": {
      "text/plain": [
       "[20, 9, 8, 7, 6, 5, 4, 3, 2, 1]"
      ]
     },
     "execution_count": 48,
     "metadata": {},
     "output_type": "execute_result"
    }
   ],
   "source": [
    "a.pop()\n",
    "a.pop()\n",
    "a"
   ]
  },
  {
   "cell_type": "markdown",
   "metadata": {},
   "source": [
    "6. Invert the order of the list"
   ]
  },
  {
   "cell_type": "code",
   "execution_count": 49,
   "metadata": {},
   "outputs": [
    {
     "data": {
      "text/plain": [
       "[1, 2, 3, 4, 5, 6, 7, 8, 9, 20]"
      ]
     },
     "execution_count": 49,
     "metadata": {},
     "output_type": "execute_result"
    }
   ],
   "source": [
    "a.reverse()\n",
    "a"
   ]
  },
  {
   "cell_type": "markdown",
   "metadata": {},
   "source": [
    "7. How many items has the list?"
   ]
  },
  {
   "cell_type": "code",
   "execution_count": 63,
   "metadata": {},
   "outputs": [
    {
     "data": {
      "text/plain": [
       "12"
      ]
     },
     "execution_count": 63,
     "metadata": {},
     "output_type": "execute_result"
    }
   ],
   "source": [
    "len(a)"
   ]
  },
  {
   "cell_type": "markdown",
   "metadata": {},
   "source": [
    "8. Give the minimum, maximum and the sum of all the items in the list"
   ]
  },
  {
   "cell_type": "code",
   "execution_count": null,
   "metadata": {},
   "outputs": [],
   "source": []
  },
  {
   "cell_type": "markdown",
   "metadata": {},
   "source": [
    "9. What will happen if you multiply the list by 2?"
   ]
  },
  {
   "cell_type": "code",
   "execution_count": 64,
   "metadata": {},
   "outputs": [
    {
     "data": {
      "text/plain": [
       "[1, 2, 3, 4, 0, 0, 5, 6, 7, 8, 9, 20, 1, 2, 3, 4, 0, 0, 5, 6, 7, 8, 9, 20]"
      ]
     },
     "execution_count": 64,
     "metadata": {},
     "output_type": "execute_result"
    }
   ],
   "source": [
    "a * 2"
   ]
  },
  {
   "cell_type": "markdown",
   "metadata": {},
   "source": [
    "10. Can you divide the list by 3?"
   ]
  },
  {
   "cell_type": "markdown",
   "metadata": {},
   "source": [
    "NO"
   ]
  },
  {
   "cell_type": "markdown",
   "metadata": {},
   "source": [
    "# Tupples\n",
    " \n",
    "1. Create a tupple with three characters and four numbers"
   ]
  },
  {
   "cell_type": "code",
   "execution_count": null,
   "metadata": {},
   "outputs": [],
   "source": []
  },
  {
   "cell_type": "markdown",
   "metadata": {},
   "source": [
    "2. Append two booleans (false, true) to the tupple"
   ]
  },
  {
   "cell_type": "code",
   "execution_count": null,
   "metadata": {},
   "outputs": [],
   "source": []
  },
  {
   "cell_type": "markdown",
   "metadata": {},
   "source": [
    "3. Retrieve the third to sixth items from the tupple"
   ]
  },
  {
   "cell_type": "code",
   "execution_count": null,
   "metadata": {},
   "outputs": [],
   "source": []
  },
  {
   "cell_type": "markdown",
   "metadata": {},
   "source": [
    "4. Divide the tupple by data type and create a list for each, then create a muttable tupple using these lists "
   ]
  },
  {
   "cell_type": "code",
   "execution_count": null,
   "metadata": {},
   "outputs": [],
   "source": []
  },
  {
   "cell_type": "markdown",
   "metadata": {},
   "source": [
    "# Sets\n",
    " \n",
    "1. Create a set using the following paragraph:\n",
    " \n",
    "<quote>\n",
    "\"Shallow copy is a bit-wise copy of an object. A new object is created that has an exact copy of the values in the original object\"\n",
    "<quote>\n",
    " \n",
    "Note: Each part of the set must be a word, not a character!"
   ]
  },
  {
   "cell_type": "code",
   "execution_count": null,
   "metadata": {},
   "outputs": [],
   "source": []
  },
  {
   "cell_type": "markdown",
   "metadata": {},
   "source": [
    "2. Do you see something wierd in this set? What? How can you prevent that?"
   ]
  },
  {
   "cell_type": "code",
   "execution_count": null,
   "metadata": {},
   "outputs": [],
   "source": []
  },
  {
   "cell_type": "markdown",
   "metadata": {},
   "source": [
    "# Dictionary\n",
    " \n",
    "1. Generate a dictionary from the following table:\n",
    "\n",
    "<table>\n",
    "    <tr> <th> EmployeeID </th> <th> Name </th> <th> Position </th> <th> Phone </th> </tr>\n",
    "    <tr> <td> 1020 </td> <td> Harry Smith </td> <td> Sales Manager </td> <td> 030-223.65.44 </td> </tr>\n",
    "    <tr> <td> 2201 </td><td> Margaret Holsum </td> <td> Sales Representative </td> <td> 030-223.64.12 </td> </tr>\n",
    "    <tr> <td> 3320 </td><td> Lasly Howard </td> <td> Human Resources </td> <td> 030-223.83.33 </td> </tr>\n",
    "    <tr> <td> 8111 </td><td> Larry Johnson </td> <td> Project Manager </td> <td> 030-224.22.00 </td> </tr>\n",
    "    <tr> <td> 2733 </td><td> Hellen Young </td> <td> Customer Service </td> <td> 030-223.03.20 </td> </tr>\n",
    "</table>\n"
   ]
  },
  {
   "cell_type": "code",
   "execution_count": null,
   "metadata": {},
   "outputs": [],
   "source": []
  },
  {
   "cell_type": "markdown",
   "metadata": {},
   "source": [
    "1. Get all the keys of the dictionary"
   ]
  },
  {
   "cell_type": "code",
   "execution_count": null,
   "metadata": {},
   "outputs": [],
   "source": []
  },
  {
   "cell_type": "markdown",
   "metadata": {},
   "source": [
    "2. Get all the values of the dictionary"
   ]
  },
  {
   "cell_type": "code",
   "execution_count": null,
   "metadata": {},
   "outputs": [],
   "source": []
  },
  {
   "cell_type": "markdown",
   "metadata": {},
   "source": [
    "3. Show the third row of the table by calling the dictionary using the respective EmployeeID"
   ]
  },
  {
   "cell_type": "code",
   "execution_count": null,
   "metadata": {},
   "outputs": [],
   "source": []
  },
  {
   "cell_type": "markdown",
   "metadata": {},
   "source": [
    "# Loop programming in python\n",
    " \n",
    "1. Write a script that shows all the primary numbers from 1 to 100. Use for.. loop and if..else"
   ]
  },
  {
   "cell_type": "code",
   "execution_count": 50,
   "metadata": {},
   "outputs": [
    {
     "name": "stdout",
     "output_type": "stream",
     "text": [
      "Prime number is: 2\n",
      "Prime number is: 3\n",
      "Prime number is: 5\n",
      "Prime number is: 7\n",
      "Prime number is: 11\n",
      "Prime number is: 13\n",
      "Prime number is: 17\n",
      "Prime number is: 19\n",
      "Prime number is: 23\n",
      "Prime number is: 29\n",
      "Prime number is: 31\n",
      "Prime number is: 37\n",
      "Prime number is: 41\n",
      "Prime number is: 43\n",
      "Prime number is: 47\n",
      "Prime number is: 53\n",
      "Prime number is: 59\n",
      "Prime number is: 61\n",
      "Prime number is: 67\n",
      "Prime number is: 71\n",
      "Prime number is: 73\n",
      "Prime number is: 79\n",
      "Prime number is: 83\n",
      "Prime number is: 89\n",
      "Prime number is: 97\n"
     ]
    }
   ],
   "source": [
    "n=100\n",
    "for i in range(n-1):\n",
    "    isPrime = True\n",
    "    num = i + 2\n",
    "    for temp in range(int(num/2-1)):\n",
    "        checkIfDev = temp + 2\n",
    "        if (num % checkIfDev == 0):\n",
    "            isPrime = False\n",
    "            break\n",
    "    if isPrime:\n",
    "        print (\"Prime number is: %d\" % num)"
   ]
  },
  {
   "cell_type": "markdown",
   "metadata": {},
   "source": [
    "2. Write a different solution to the problem in the last question, but using while.. in place of for.."
   ]
  },
  {
   "cell_type": "code",
   "execution_count": 51,
   "metadata": {},
   "outputs": [
    {
     "name": "stdout",
     "output_type": "stream",
     "text": [
      "Prime: 2\n",
      "Prime: 3\n",
      "Prime: 5\n",
      "Prime: 7\n",
      "Prime: 11\n",
      "Prime: 13\n",
      "Prime: 17\n",
      "Prime: 19\n",
      "Prime: 23\n",
      "Prime: 29\n",
      "Prime: 31\n",
      "Prime: 37\n",
      "Prime: 41\n",
      "Prime: 43\n",
      "Prime: 47\n",
      "Prime: 53\n",
      "Prime: 59\n",
      "Prime: 61\n",
      "Prime: 67\n",
      "Prime: 71\n",
      "Prime: 73\n",
      "Prime: 79\n",
      "Prime: 83\n",
      "Prime: 89\n",
      "Prime: 97\n"
     ]
    }
   ],
   "source": [
    "def isPrime(num):\n",
    "    if (num == 1):\n",
    "        return False\n",
    "    checkUntil = num/2\n",
    "    i=2\n",
    "    while i <= checkUntil:\n",
    "        if (num % i == 0):\n",
    "            return False\n",
    "        i = i + 1\n",
    "    return True\n",
    "\n",
    "\n",
    "n = 100\n",
    "i = 1\n",
    "while i<= n:\n",
    "    if isPrime(i):\n",
    "        print (\"Prime: %d\" % i)\n",
    "    i = i + 1\n",
    "    "
   ]
  },
  {
   "cell_type": "code",
   "execution_count": null,
   "metadata": {},
   "outputs": [],
   "source": []
  }
 ],
 "metadata": {
  "kernelspec": {
   "display_name": "Python 3",
   "language": "python",
   "name": "python3"
  },
  "language_info": {
   "codemirror_mode": {
    "name": "ipython",
    "version": 3
   },
   "file_extension": ".py",
   "mimetype": "text/x-python",
   "name": "python",
   "nbconvert_exporter": "python",
   "pygments_lexer": "ipython3",
   "version": "3.6.8"
  }
 },
 "nbformat": 4,
 "nbformat_minor": 2
}
