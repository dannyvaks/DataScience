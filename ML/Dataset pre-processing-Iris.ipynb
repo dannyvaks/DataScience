{
 "cells": [
  {
   "cell_type": "markdown",
   "metadata": {},
   "source": [
    "# Preparing the data for modeling"
   ]
  },
  {
   "cell_type": "markdown",
   "metadata": {},
   "source": [
    "## Subsetting the dataset\n",
    " \n",
    "When our flat-file is ready for modeling we have to procede to generate the partitions that we will use for modeling. No matter which method we will use for training our data, we have to generate first a test dataset. This test dataset has to be set on hold aside and only used at the end of the whole process of training and selecting the best model.\n",
    " \n",
    "After we selected the test dataset we proceed to use the rest of the data for training the models. There are three main strategies for that:\n",
    " \n",
    "* Dividing into train and dev\n",
    "* Using Cross-validation\n",
    "* Using Bootstrapping\n",
    "\n",
    "\n",
    "## Test dataset"
   ]
  },
  {
   "cell_type": "code",
   "execution_count": 1,
   "metadata": {},
   "outputs": [],
   "source": [
    "data <- iris"
   ]
  },
  {
   "cell_type": "code",
   "execution_count": 2,
   "metadata": {},
   "outputs": [
    {
     "data": {
      "text/html": [
       "<table>\n",
       "<caption>A data.frame: 6 × 5</caption>\n",
       "<thead>\n",
       "\t<tr><th scope=col>Sepal.Length</th><th scope=col>Sepal.Width</th><th scope=col>Petal.Length</th><th scope=col>Petal.Width</th><th scope=col>Species</th></tr>\n",
       "\t<tr><th scope=col>&lt;dbl&gt;</th><th scope=col>&lt;dbl&gt;</th><th scope=col>&lt;dbl&gt;</th><th scope=col>&lt;dbl&gt;</th><th scope=col>&lt;fct&gt;</th></tr>\n",
       "</thead>\n",
       "<tbody>\n",
       "\t<tr><td>5.1</td><td>3.5</td><td>1.4</td><td>0.2</td><td>setosa</td></tr>\n",
       "\t<tr><td>4.9</td><td>3.0</td><td>1.4</td><td>0.2</td><td>setosa</td></tr>\n",
       "\t<tr><td>4.7</td><td>3.2</td><td>1.3</td><td>0.2</td><td>setosa</td></tr>\n",
       "\t<tr><td>4.6</td><td>3.1</td><td>1.5</td><td>0.2</td><td>setosa</td></tr>\n",
       "\t<tr><td>5.0</td><td>3.6</td><td>1.4</td><td>0.2</td><td>setosa</td></tr>\n",
       "\t<tr><td>5.4</td><td>3.9</td><td>1.7</td><td>0.4</td><td>setosa</td></tr>\n",
       "</tbody>\n",
       "</table>\n"
      ],
      "text/latex": [
       "A data.frame: 6 × 5\n",
       "\\begin{tabular}{r|lllll}\n",
       " Sepal.Length & Sepal.Width & Petal.Length & Petal.Width & Species\\\\\n",
       " <dbl> & <dbl> & <dbl> & <dbl> & <fct>\\\\\n",
       "\\hline\n",
       "\t 5.1 & 3.5 & 1.4 & 0.2 & setosa\\\\\n",
       "\t 4.9 & 3.0 & 1.4 & 0.2 & setosa\\\\\n",
       "\t 4.7 & 3.2 & 1.3 & 0.2 & setosa\\\\\n",
       "\t 4.6 & 3.1 & 1.5 & 0.2 & setosa\\\\\n",
       "\t 5.0 & 3.6 & 1.4 & 0.2 & setosa\\\\\n",
       "\t 5.4 & 3.9 & 1.7 & 0.4 & setosa\\\\\n",
       "\\end{tabular}\n"
      ],
      "text/markdown": [
       "\n",
       "A data.frame: 6 × 5\n",
       "\n",
       "| Sepal.Length &lt;dbl&gt; | Sepal.Width &lt;dbl&gt; | Petal.Length &lt;dbl&gt; | Petal.Width &lt;dbl&gt; | Species &lt;fct&gt; |\n",
       "|---|---|---|---|---|\n",
       "| 5.1 | 3.5 | 1.4 | 0.2 | setosa |\n",
       "| 4.9 | 3.0 | 1.4 | 0.2 | setosa |\n",
       "| 4.7 | 3.2 | 1.3 | 0.2 | setosa |\n",
       "| 4.6 | 3.1 | 1.5 | 0.2 | setosa |\n",
       "| 5.0 | 3.6 | 1.4 | 0.2 | setosa |\n",
       "| 5.4 | 3.9 | 1.7 | 0.4 | setosa |\n",
       "\n"
      ],
      "text/plain": [
       "  Sepal.Length Sepal.Width Petal.Length Petal.Width Species\n",
       "1 5.1          3.5         1.4          0.2         setosa \n",
       "2 4.9          3.0         1.4          0.2         setosa \n",
       "3 4.7          3.2         1.3          0.2         setosa \n",
       "4 4.6          3.1         1.5          0.2         setosa \n",
       "5 5.0          3.6         1.4          0.2         setosa \n",
       "6 5.4          3.9         1.7          0.4         setosa "
      ]
     },
     "metadata": {},
     "output_type": "display_data"
    }
   ],
   "source": [
    "head(data)"
   ]
  },
  {
   "cell_type": "code",
   "execution_count": 3,
   "metadata": {},
   "outputs": [
    {
     "data": {
      "text/plain": [
       "  Sepal.Length    Sepal.Width     Petal.Length    Petal.Width   \n",
       " Min.   :4.300   Min.   :2.000   Min.   :1.000   Min.   :0.100  \n",
       " 1st Qu.:5.100   1st Qu.:2.800   1st Qu.:1.600   1st Qu.:0.300  \n",
       " Median :5.800   Median :3.000   Median :4.350   Median :1.300  \n",
       " Mean   :5.843   Mean   :3.057   Mean   :3.758   Mean   :1.199  \n",
       " 3rd Qu.:6.400   3rd Qu.:3.300   3rd Qu.:5.100   3rd Qu.:1.800  \n",
       " Max.   :7.900   Max.   :4.400   Max.   :6.900   Max.   :2.500  \n",
       "       Species  \n",
       " setosa    :50  \n",
       " versicolor:50  \n",
       " virginica :50  \n",
       "                \n",
       "                \n",
       "                "
      ]
     },
     "metadata": {},
     "output_type": "display_data"
    }
   ],
   "source": [
    "summary(data)"
   ]
  },
  {
   "cell_type": "code",
   "execution_count": 5,
   "metadata": {},
   "outputs": [],
   "source": [
    "#library(devtools)\n",
    "#install_github(\"karpatit/mechkar\")\n",
    "require(mechkar)"
   ]
  },
  {
   "cell_type": "code",
   "execution_count": 7,
   "metadata": {},
   "outputs": [
    {
     "name": "stdout",
     "output_type": "stream",
     "text": [
      "  |======================================================================| 100%"
     ]
    },
    {
     "name": "stderr",
     "output_type": "stream",
     "text": [
      "Coefficient covariances computed by hccm()\n",
      "\n",
      "Coefficient covariances computed by hccm()\n",
      "\n",
      "Coefficient covariances computed by hccm()\n",
      "\n"
     ]
    },
    {
     "data": {
      "text/html": [
       "<table>\n",
       "<caption>A tibble: 12 × 7</caption>\n",
       "<thead>\n",
       "\t<tr><th scope=col>V1</th><th scope=col>V2</th><th scope=col>Pop</th><th scope=col>setosa</th><th scope=col>versicolor</th><th scope=col>virginica</th><th scope=col>pval</th></tr>\n",
       "\t<tr><th scope=col>&lt;chr&gt;</th><th scope=col>&lt;chr&gt;</th><th scope=col>&lt;chr&gt;</th><th scope=col>&lt;fct&gt;</th><th scope=col>&lt;fct&gt;</th><th scope=col>&lt;fct&gt;</th><th scope=col>&lt;fct&gt;</th></tr>\n",
       "</thead>\n",
       "<tbody>\n",
       "\t<tr><td>Individuals </td><td>n           </td><td>150          </td><td>50           </td><td>50           </td><td>50           </td><td>NA</td></tr>\n",
       "\t<tr><td>Sepal.Length</td><td>Mean (SD)   </td><td>5.8 (0.8)    </td><td>5.0 (0.4)    </td><td>5.9 (0.5)    </td><td>6.6 (0.6)    </td><td>NA</td></tr>\n",
       "\t<tr><td>Sepal.Length</td><td>Median (IQR)</td><td>5.8 (5.1-6.4)</td><td>5.0 (4.8-5.2)</td><td>5.9 (5.6-6.3)</td><td>6.5 (6.2-6.9)</td><td>0 </td></tr>\n",
       "\t<tr><td>Sepal.Width </td><td>Mean (SD)   </td><td>3.1 (0.4)    </td><td>3.4 (0.4)    </td><td>2.8 (0.3)    </td><td>3.0 (0.3)    </td><td>NA</td></tr>\n",
       "\t<tr><td>Sepal.Width </td><td>Median (IQR)</td><td>3.0 (2.8-3.3)</td><td>3.4 (3.2-3.7)</td><td>2.8 (2.5-3.0)</td><td>3.0 (2.8-3.2)</td><td>0 </td></tr>\n",
       "\t<tr><td>Petal.Length</td><td>Mean (SD)   </td><td>3.8 (1.8)    </td><td>1.5 (0.2)    </td><td>4.3 (0.5)    </td><td>5.6 (0.6)    </td><td>NA</td></tr>\n",
       "\t<tr><td>Petal.Length</td><td>Median (IQR)</td><td>4.3 (1.6-5.1)</td><td>1.5 (1.4-1.6)</td><td>4.3 (4.0-4.6)</td><td>5.5 (5.1-5.9)</td><td>0 </td></tr>\n",
       "\t<tr><td>Petal.Width </td><td>Mean (SD)   </td><td>1.2 (0.8)    </td><td>0.2 (0.1)    </td><td>1.3 (0.2)    </td><td>2.0 (0.3)    </td><td>NA</td></tr>\n",
       "\t<tr><td>Petal.Width </td><td>Median (IQR)</td><td>1.3 (0.3-1.8)</td><td>0.2 (0.2-0.3)</td><td>1.3 (1.2-1.5)</td><td>2.0 (1.8-2.3)</td><td>0 </td></tr>\n",
       "\t<tr><td>Species     </td><td>setosa      </td><td>50 (33.3%)   </td><td>50 (100.0%)  </td><td>0 (0.0%)     </td><td>0 (0.0%)     </td><td>NA</td></tr>\n",
       "\t<tr><td>Species     </td><td>versicolor  </td><td>50 (33.3%)   </td><td>0 (0.0%)     </td><td>50 (100.0%)  </td><td>0 (0.0%)     </td><td>0 </td></tr>\n",
       "\t<tr><td>Species     </td><td>virginica   </td><td>50 (33.3%)   </td><td>0 (0.0%)     </td><td>0 (0.0%)     </td><td>50 (100.0%)  </td><td>NA</td></tr>\n",
       "</tbody>\n",
       "</table>\n"
      ],
      "text/latex": [
       "A tibble: 12 × 7\n",
       "\\begin{tabular}{r|lllllll}\n",
       " V1 & V2 & Pop & setosa & versicolor & virginica & pval\\\\\n",
       " <chr> & <chr> & <chr> & <fct> & <fct> & <fct> & <fct>\\\\\n",
       "\\hline\n",
       "\t Individuals  & n            & 150           & 50            & 50            & 50            & NA\\\\\n",
       "\t Sepal.Length & Mean (SD)    & 5.8 (0.8)     & 5.0 (0.4)     & 5.9 (0.5)     & 6.6 (0.6)     & NA\\\\\n",
       "\t Sepal.Length & Median (IQR) & 5.8 (5.1-6.4) & 5.0 (4.8-5.2) & 5.9 (5.6-6.3) & 6.5 (6.2-6.9) & 0 \\\\\n",
       "\t Sepal.Width  & Mean (SD)    & 3.1 (0.4)     & 3.4 (0.4)     & 2.8 (0.3)     & 3.0 (0.3)     & NA\\\\\n",
       "\t Sepal.Width  & Median (IQR) & 3.0 (2.8-3.3) & 3.4 (3.2-3.7) & 2.8 (2.5-3.0) & 3.0 (2.8-3.2) & 0 \\\\\n",
       "\t Petal.Length & Mean (SD)    & 3.8 (1.8)     & 1.5 (0.2)     & 4.3 (0.5)     & 5.6 (0.6)     & NA\\\\\n",
       "\t Petal.Length & Median (IQR) & 4.3 (1.6-5.1) & 1.5 (1.4-1.6) & 4.3 (4.0-4.6) & 5.5 (5.1-5.9) & 0 \\\\\n",
       "\t Petal.Width  & Mean (SD)    & 1.2 (0.8)     & 0.2 (0.1)     & 1.3 (0.2)     & 2.0 (0.3)     & NA\\\\\n",
       "\t Petal.Width  & Median (IQR) & 1.3 (0.3-1.8) & 0.2 (0.2-0.3) & 1.3 (1.2-1.5) & 2.0 (1.8-2.3) & 0 \\\\\n",
       "\t Species      & setosa       & 50 (33.3\\%)    & 50 (100.0\\%)   & 0 (0.0\\%)      & 0 (0.0\\%)      & NA\\\\\n",
       "\t Species      & versicolor   & 50 (33.3\\%)    & 0 (0.0\\%)      & 50 (100.0\\%)   & 0 (0.0\\%)      & 0 \\\\\n",
       "\t Species      & virginica    & 50 (33.3\\%)    & 0 (0.0\\%)      & 0 (0.0\\%)      & 50 (100.0\\%)   & NA\\\\\n",
       "\\end{tabular}\n"
      ],
      "text/markdown": [
       "\n",
       "A tibble: 12 × 7\n",
       "\n",
       "| V1 &lt;chr&gt; | V2 &lt;chr&gt; | Pop &lt;chr&gt; | setosa &lt;fct&gt; | versicolor &lt;fct&gt; | virginica &lt;fct&gt; | pval &lt;fct&gt; |\n",
       "|---|---|---|---|---|---|---|\n",
       "| Individuals  | n            | 150           | 50            | 50            | 50            | NA |\n",
       "| Sepal.Length | Mean (SD)    | 5.8 (0.8)     | 5.0 (0.4)     | 5.9 (0.5)     | 6.6 (0.6)     | NA |\n",
       "| Sepal.Length | Median (IQR) | 5.8 (5.1-6.4) | 5.0 (4.8-5.2) | 5.9 (5.6-6.3) | 6.5 (6.2-6.9) | 0  |\n",
       "| Sepal.Width  | Mean (SD)    | 3.1 (0.4)     | 3.4 (0.4)     | 2.8 (0.3)     | 3.0 (0.3)     | NA |\n",
       "| Sepal.Width  | Median (IQR) | 3.0 (2.8-3.3) | 3.4 (3.2-3.7) | 2.8 (2.5-3.0) | 3.0 (2.8-3.2) | 0  |\n",
       "| Petal.Length | Mean (SD)    | 3.8 (1.8)     | 1.5 (0.2)     | 4.3 (0.5)     | 5.6 (0.6)     | NA |\n",
       "| Petal.Length | Median (IQR) | 4.3 (1.6-5.1) | 1.5 (1.4-1.6) | 4.3 (4.0-4.6) | 5.5 (5.1-5.9) | 0  |\n",
       "| Petal.Width  | Mean (SD)    | 1.2 (0.8)     | 0.2 (0.1)     | 1.3 (0.2)     | 2.0 (0.3)     | NA |\n",
       "| Petal.Width  | Median (IQR) | 1.3 (0.3-1.8) | 0.2 (0.2-0.3) | 1.3 (1.2-1.5) | 2.0 (1.8-2.3) | 0  |\n",
       "| Species      | setosa       | 50 (33.3%)    | 50 (100.0%)   | 0 (0.0%)      | 0 (0.0%)      | NA |\n",
       "| Species      | versicolor   | 50 (33.3%)    | 0 (0.0%)      | 50 (100.0%)   | 0 (0.0%)      | 0  |\n",
       "| Species      | virginica    | 50 (33.3%)    | 0 (0.0%)      | 0 (0.0%)      | 50 (100.0%)   | NA |\n",
       "\n"
      ],
      "text/plain": [
       "   V1           V2           Pop           setosa        versicolor   \n",
       "1  Individuals  n            150           50            50           \n",
       "2  Sepal.Length Mean (SD)    5.8 (0.8)     5.0 (0.4)     5.9 (0.5)    \n",
       "3  Sepal.Length Median (IQR) 5.8 (5.1-6.4) 5.0 (4.8-5.2) 5.9 (5.6-6.3)\n",
       "4  Sepal.Width  Mean (SD)    3.1 (0.4)     3.4 (0.4)     2.8 (0.3)    \n",
       "5  Sepal.Width  Median (IQR) 3.0 (2.8-3.3) 3.4 (3.2-3.7) 2.8 (2.5-3.0)\n",
       "6  Petal.Length Mean (SD)    3.8 (1.8)     1.5 (0.2)     4.3 (0.5)    \n",
       "7  Petal.Length Median (IQR) 4.3 (1.6-5.1) 1.5 (1.4-1.6) 4.3 (4.0-4.6)\n",
       "8  Petal.Width  Mean (SD)    1.2 (0.8)     0.2 (0.1)     1.3 (0.2)    \n",
       "9  Petal.Width  Median (IQR) 1.3 (0.3-1.8) 0.2 (0.2-0.3) 1.3 (1.2-1.5)\n",
       "10 Species      setosa       50 (33.3%)    50 (100.0%)   0 (0.0%)     \n",
       "11 Species      versicolor   50 (33.3%)    0 (0.0%)      50 (100.0%)  \n",
       "12 Species      virginica    50 (33.3%)    0 (0.0%)      0 (0.0%)     \n",
       "   virginica     pval\n",
       "1  50            NA  \n",
       "2  6.6 (0.6)     NA  \n",
       "3  6.5 (6.2-6.9) 0   \n",
       "4  3.0 (0.3)     NA  \n",
       "5  3.0 (2.8-3.2) 0   \n",
       "6  5.6 (0.6)     NA  \n",
       "7  5.5 (5.1-5.9) 0   \n",
       "8  2.0 (0.3)     NA  \n",
       "9  2.0 (1.8-2.3) 0   \n",
       "10 0 (0.0%)      NA  \n",
       "11 0 (0.0%)      0   \n",
       "12 50 (100.0%)   NA  "
      ]
     },
     "metadata": {},
     "output_type": "display_data"
    }
   ],
   "source": [
    "Table1(data = data,y = \"Species\")"
   ]
  },
  {
   "cell_type": "code",
   "execution_count": 23,
   "metadata": {},
   "outputs": [],
   "source": [
    "############### TRAIN_TEST #######################\n",
    "train_test <- function(data=NULL,train_name=NULL,test_name=NULL,prop=NULL,seed=123,tableone=False)\n",
    "{\n",
    "  checkTrainTest <- function(train=NULL,test=NULL) {\n",
    "     train[[\"traintest_ind_\"]] <- 1\n",
    "     test[[\"traintest_ind_\"]] <- 2\n",
    "     data <- rbind(train, test)\n",
    "     tab <- Table1(data=data, y=\"traintest_ind_\",x=names(train),messages = F)\n",
    "     vars <- subset(tab, pval < 0.05)$V1\n",
    "     if (length(vars)==1) {\n",
    "        message(\"You got a perfectly balanced training and test datasets\")\n",
    "        message(\" \")\n",
    "     } else {\n",
    "        message(\"WARNING: The following variables are not balanced between the training and test datasets:\")\n",
    "       for (v in vars) { message(paste(\"*\",v)) }\n",
    "          message(\"You can try to change the seed value until you get a balanced partition.\")\n",
    "          message(\"Alternatively, you can ommit this warning and exclude those variables from your model\")\n",
    "          message(\" \")\n",
    "       }\n",
    "       return(tab)\n",
    "  }\n",
    "  ## set the seed to make your partition reproductible\n",
    "  set.seed(seed)\n",
    "  smp_size <- floor(prop * nrow(data))\n",
    "  train_ind <- sample(seq_len(nrow(data)), size = smp_size)\n",
    "  assign(train_name, data[train_ind, ], envir=globalenv())\n",
    "  assign(test_name, data[-train_ind, ], envir=globalenv())\n",
    "  tab = checkTrainTest(get(train_name),get(test_name))\n",
    "  message(paste(\"Dataset partitioned into:\"))\n",
    "  message(paste(\" + Train dataset:\", train_name))\n",
    "  message(paste(\" + Test dataset:\", test_name))\n",
    "  if(tableone==TRUE) {\n",
    "     return(tab)\n",
    "  } \n",
    "}"
   ]
  },
  {
   "cell_type": "markdown",
   "metadata": {},
   "source": [
    "## Test dataset"
   ]
  },
  {
   "cell_type": "code",
   "execution_count": 8,
   "metadata": {},
   "outputs": [
    {
     "name": "stderr",
     "output_type": "stream",
     "text": [
      "Dataset partitioned into:\n",
      "\n",
      " + Train dataset: temp\n",
      "\n",
      " + Test dataset: test\n",
      "\n"
     ]
    },
    {
     "name": "stdout",
     "output_type": "stream",
     "text": [
      "  |======================================================================| 100%"
     ]
    },
    {
     "name": "stderr",
     "output_type": "stream",
     "text": [
      "You got a perfectly balanced training and test datasets\n",
      "\n",
      " \n",
      "\n"
     ]
    }
   ],
   "source": [
    "tab1 <- train_test(data = data, train_name = \"temp\", test_name = \"test\",prop = 0.7, seed = 123, tableone=T)"
   ]
  },
  {
   "cell_type": "code",
   "execution_count": 9,
   "metadata": {},
   "outputs": [
    {
     "data": {
      "text/html": [
       "<ol class=list-inline>\n",
       "\t<li>105</li>\n",
       "\t<li>5</li>\n",
       "</ol>\n"
      ],
      "text/latex": [
       "\\begin{enumerate*}\n",
       "\\item 105\n",
       "\\item 5\n",
       "\\end{enumerate*}\n"
      ],
      "text/markdown": [
       "1. 105\n",
       "2. 5\n",
       "\n",
       "\n"
      ],
      "text/plain": [
       "[1] 105   5"
      ]
     },
     "metadata": {},
     "output_type": "display_data"
    },
    {
     "data": {
      "text/html": [
       "<ol class=list-inline>\n",
       "\t<li>45</li>\n",
       "\t<li>5</li>\n",
       "</ol>\n"
      ],
      "text/latex": [
       "\\begin{enumerate*}\n",
       "\\item 45\n",
       "\\item 5\n",
       "\\end{enumerate*}\n"
      ],
      "text/markdown": [
       "1. 45\n",
       "2. 5\n",
       "\n",
       "\n"
      ],
      "text/plain": [
       "[1] 45  5"
      ]
     },
     "metadata": {},
     "output_type": "display_data"
    }
   ],
   "source": [
    "dim(temp)\n",
    "dim(test)"
   ]
  },
  {
   "cell_type": "code",
   "execution_count": 10,
   "metadata": {},
   "outputs": [
    {
     "data": {
      "text/html": [
       "<table>\n",
       "<caption>A tibble: 14 × 6</caption>\n",
       "<thead>\n",
       "\t<tr><th scope=col>V1</th><th scope=col>V2</th><th scope=col>Pop</th><th scope=col>1</th><th scope=col>2</th><th scope=col>pval</th></tr>\n",
       "\t<tr><th scope=col>&lt;chr&gt;</th><th scope=col>&lt;chr&gt;</th><th scope=col>&lt;chr&gt;</th><th scope=col>&lt;fct&gt;</th><th scope=col>&lt;fct&gt;</th><th scope=col>&lt;fct&gt;</th></tr>\n",
       "</thead>\n",
       "<tbody>\n",
       "\t<tr><td>Individuals   </td><td>n           </td><td>150          </td><td>105          </td><td>45           </td><td>NA   </td></tr>\n",
       "\t<tr><td>Sepal.Length  </td><td>Mean (SD)   </td><td>5.8 (0.8)    </td><td>5.8 (0.9)    </td><td>5.8 (0.7)    </td><td>NA   </td></tr>\n",
       "\t<tr><td>Sepal.Length  </td><td>Median (IQR)</td><td>5.8 (5.1-6.4)</td><td>5.8 (5.1-6.4)</td><td>5.8 (5.2-6.5)</td><td>0.991</td></tr>\n",
       "\t<tr><td>Sepal.Width   </td><td>Mean (SD)   </td><td>3.1 (0.4)    </td><td>3.1 (0.4)    </td><td>3.1 (0.4)    </td><td>NA   </td></tr>\n",
       "\t<tr><td>Sepal.Width   </td><td>Median (IQR)</td><td>3.0 (2.8-3.3)</td><td>3.0 (2.8-3.4)</td><td>3.0 (2.8-3.3)</td><td>0.832</td></tr>\n",
       "\t<tr><td>Petal.Length  </td><td>Mean (SD)   </td><td>3.8 (1.8)    </td><td>3.8 (1.8)    </td><td>3.7 (1.7)    </td><td>NA   </td></tr>\n",
       "\t<tr><td>Petal.Length  </td><td>Median (IQR)</td><td>4.3 (1.6-5.1)</td><td>4.4 (1.6-5.1)</td><td>4.2 (1.5-5.3)</td><td>0.959</td></tr>\n",
       "\t<tr><td>Petal.Width   </td><td>Mean (SD)   </td><td>1.2 (0.8)    </td><td>1.2 (0.8)    </td><td>1.2 (0.8)    </td><td>NA   </td></tr>\n",
       "\t<tr><td>Petal.Width   </td><td>Median (IQR)</td><td>1.3 (0.3-1.8)</td><td>1.4 (0.3-1.8)</td><td>1.3 (0.3-1.8)</td><td>0.95 </td></tr>\n",
       "\t<tr><td>Species       </td><td>setosa      </td><td>50 (33.3%)   </td><td>36 (34.3%)   </td><td>14 (31.1%)   </td><td>NA   </td></tr>\n",
       "\t<tr><td>Species       </td><td>versicolor  </td><td>50 (33.3%)   </td><td>32 (30.5%)   </td><td>18 (40.0%)   </td><td>0.513</td></tr>\n",
       "\t<tr><td>Species       </td><td>virginica   </td><td>50 (33.3%)   </td><td>37 (35.2%)   </td><td>13 (28.9%)   </td><td>NA   </td></tr>\n",
       "\t<tr><td>traintest_ind_</td><td>Mean (SD)   </td><td>1.3 (0.5)    </td><td>NA           </td><td>NA           </td><td>NA   </td></tr>\n",
       "\t<tr><td>traintest_ind_</td><td>Median (IQR)</td><td>1.0 (1.0-2.0)</td><td>NA           </td><td>NA           </td><td>0    </td></tr>\n",
       "</tbody>\n",
       "</table>\n"
      ],
      "text/latex": [
       "A tibble: 14 × 6\n",
       "\\begin{tabular}{r|llllll}\n",
       " V1 & V2 & Pop & 1 & 2 & pval\\\\\n",
       " <chr> & <chr> & <chr> & <fct> & <fct> & <fct>\\\\\n",
       "\\hline\n",
       "\t Individuals    & n            & 150           & 105           & 45            & NA   \\\\\n",
       "\t Sepal.Length   & Mean (SD)    & 5.8 (0.8)     & 5.8 (0.9)     & 5.8 (0.7)     & NA   \\\\\n",
       "\t Sepal.Length   & Median (IQR) & 5.8 (5.1-6.4) & 5.8 (5.1-6.4) & 5.8 (5.2-6.5) & 0.991\\\\\n",
       "\t Sepal.Width    & Mean (SD)    & 3.1 (0.4)     & 3.1 (0.4)     & 3.1 (0.4)     & NA   \\\\\n",
       "\t Sepal.Width    & Median (IQR) & 3.0 (2.8-3.3) & 3.0 (2.8-3.4) & 3.0 (2.8-3.3) & 0.832\\\\\n",
       "\t Petal.Length   & Mean (SD)    & 3.8 (1.8)     & 3.8 (1.8)     & 3.7 (1.7)     & NA   \\\\\n",
       "\t Petal.Length   & Median (IQR) & 4.3 (1.6-5.1) & 4.4 (1.6-5.1) & 4.2 (1.5-5.3) & 0.959\\\\\n",
       "\t Petal.Width    & Mean (SD)    & 1.2 (0.8)     & 1.2 (0.8)     & 1.2 (0.8)     & NA   \\\\\n",
       "\t Petal.Width    & Median (IQR) & 1.3 (0.3-1.8) & 1.4 (0.3-1.8) & 1.3 (0.3-1.8) & 0.95 \\\\\n",
       "\t Species        & setosa       & 50 (33.3\\%)    & 36 (34.3\\%)    & 14 (31.1\\%)    & NA   \\\\\n",
       "\t Species        & versicolor   & 50 (33.3\\%)    & 32 (30.5\\%)    & 18 (40.0\\%)    & 0.513\\\\\n",
       "\t Species        & virginica    & 50 (33.3\\%)    & 37 (35.2\\%)    & 13 (28.9\\%)    & NA   \\\\\n",
       "\t traintest\\_ind\\_ & Mean (SD)    & 1.3 (0.5)     & NA            & NA            & NA   \\\\\n",
       "\t traintest\\_ind\\_ & Median (IQR) & 1.0 (1.0-2.0) & NA            & NA            & 0    \\\\\n",
       "\\end{tabular}\n"
      ],
      "text/markdown": [
       "\n",
       "A tibble: 14 × 6\n",
       "\n",
       "| V1 &lt;chr&gt; | V2 &lt;chr&gt; | Pop &lt;chr&gt; | 1 &lt;fct&gt; | 2 &lt;fct&gt; | pval &lt;fct&gt; |\n",
       "|---|---|---|---|---|---|\n",
       "| Individuals    | n            | 150           | 105           | 45            | NA    |\n",
       "| Sepal.Length   | Mean (SD)    | 5.8 (0.8)     | 5.8 (0.9)     | 5.8 (0.7)     | NA    |\n",
       "| Sepal.Length   | Median (IQR) | 5.8 (5.1-6.4) | 5.8 (5.1-6.4) | 5.8 (5.2-6.5) | 0.991 |\n",
       "| Sepal.Width    | Mean (SD)    | 3.1 (0.4)     | 3.1 (0.4)     | 3.1 (0.4)     | NA    |\n",
       "| Sepal.Width    | Median (IQR) | 3.0 (2.8-3.3) | 3.0 (2.8-3.4) | 3.0 (2.8-3.3) | 0.832 |\n",
       "| Petal.Length   | Mean (SD)    | 3.8 (1.8)     | 3.8 (1.8)     | 3.7 (1.7)     | NA    |\n",
       "| Petal.Length   | Median (IQR) | 4.3 (1.6-5.1) | 4.4 (1.6-5.1) | 4.2 (1.5-5.3) | 0.959 |\n",
       "| Petal.Width    | Mean (SD)    | 1.2 (0.8)     | 1.2 (0.8)     | 1.2 (0.8)     | NA    |\n",
       "| Petal.Width    | Median (IQR) | 1.3 (0.3-1.8) | 1.4 (0.3-1.8) | 1.3 (0.3-1.8) | 0.95  |\n",
       "| Species        | setosa       | 50 (33.3%)    | 36 (34.3%)    | 14 (31.1%)    | NA    |\n",
       "| Species        | versicolor   | 50 (33.3%)    | 32 (30.5%)    | 18 (40.0%)    | 0.513 |\n",
       "| Species        | virginica    | 50 (33.3%)    | 37 (35.2%)    | 13 (28.9%)    | NA    |\n",
       "| traintest_ind_ | Mean (SD)    | 1.3 (0.5)     | NA            | NA            | NA    |\n",
       "| traintest_ind_ | Median (IQR) | 1.0 (1.0-2.0) | NA            | NA            | 0     |\n",
       "\n"
      ],
      "text/plain": [
       "   V1             V2           Pop           1             2             pval \n",
       "1  Individuals    n            150           105           45            NA   \n",
       "2  Sepal.Length   Mean (SD)    5.8 (0.8)     5.8 (0.9)     5.8 (0.7)     NA   \n",
       "3  Sepal.Length   Median (IQR) 5.8 (5.1-6.4) 5.8 (5.1-6.4) 5.8 (5.2-6.5) 0.991\n",
       "4  Sepal.Width    Mean (SD)    3.1 (0.4)     3.1 (0.4)     3.1 (0.4)     NA   \n",
       "5  Sepal.Width    Median (IQR) 3.0 (2.8-3.3) 3.0 (2.8-3.4) 3.0 (2.8-3.3) 0.832\n",
       "6  Petal.Length   Mean (SD)    3.8 (1.8)     3.8 (1.8)     3.7 (1.7)     NA   \n",
       "7  Petal.Length   Median (IQR) 4.3 (1.6-5.1) 4.4 (1.6-5.1) 4.2 (1.5-5.3) 0.959\n",
       "8  Petal.Width    Mean (SD)    1.2 (0.8)     1.2 (0.8)     1.2 (0.8)     NA   \n",
       "9  Petal.Width    Median (IQR) 1.3 (0.3-1.8) 1.4 (0.3-1.8) 1.3 (0.3-1.8) 0.95 \n",
       "10 Species        setosa       50 (33.3%)    36 (34.3%)    14 (31.1%)    NA   \n",
       "11 Species        versicolor   50 (33.3%)    32 (30.5%)    18 (40.0%)    0.513\n",
       "12 Species        virginica    50 (33.3%)    37 (35.2%)    13 (28.9%)    NA   \n",
       "13 traintest_ind_ Mean (SD)    1.3 (0.5)     NA            NA            NA   \n",
       "14 traintest_ind_ Median (IQR) 1.0 (1.0-2.0) NA            NA            0    "
      ]
     },
     "metadata": {},
     "output_type": "display_data"
    }
   ],
   "source": [
    "tab1"
   ]
  },
  {
   "cell_type": "markdown",
   "metadata": {},
   "source": [
    "## Train and Dev"
   ]
  },
  {
   "cell_type": "code",
   "execution_count": 11,
   "metadata": {},
   "outputs": [
    {
     "name": "stderr",
     "output_type": "stream",
     "text": [
      "Dataset partitioned into:\n",
      "\n",
      " + Train dataset: train\n",
      "\n",
      " + Test dataset: dev\n",
      "\n"
     ]
    },
    {
     "name": "stdout",
     "output_type": "stream",
     "text": [
      "  |======================================================================| 100%"
     ]
    },
    {
     "name": "stderr",
     "output_type": "stream",
     "text": [
      "You got a perfectly balanced training and test datasets\n",
      "\n",
      " \n",
      "\n"
     ]
    }
   ],
   "source": [
    "tab2 <- train_test(data = temp, train_name = \"train\", test_name = \"dev\",prop = 0.7, seed = 123, tableone=T)"
   ]
  },
  {
   "cell_type": "code",
   "execution_count": 12,
   "metadata": {},
   "outputs": [
    {
     "data": {
      "text/html": [
       "<ol class=list-inline>\n",
       "\t<li>73</li>\n",
       "\t<li>5</li>\n",
       "</ol>\n"
      ],
      "text/latex": [
       "\\begin{enumerate*}\n",
       "\\item 73\n",
       "\\item 5\n",
       "\\end{enumerate*}\n"
      ],
      "text/markdown": [
       "1. 73\n",
       "2. 5\n",
       "\n",
       "\n"
      ],
      "text/plain": [
       "[1] 73  5"
      ]
     },
     "metadata": {},
     "output_type": "display_data"
    },
    {
     "data": {
      "text/html": [
       "<ol class=list-inline>\n",
       "\t<li>32</li>\n",
       "\t<li>5</li>\n",
       "</ol>\n"
      ],
      "text/latex": [
       "\\begin{enumerate*}\n",
       "\\item 32\n",
       "\\item 5\n",
       "\\end{enumerate*}\n"
      ],
      "text/markdown": [
       "1. 32\n",
       "2. 5\n",
       "\n",
       "\n"
      ],
      "text/plain": [
       "[1] 32  5"
      ]
     },
     "metadata": {},
     "output_type": "display_data"
    }
   ],
   "source": [
    "dim(train)\n",
    "dim(dev)"
   ]
  },
  {
   "cell_type": "code",
   "execution_count": 13,
   "metadata": {},
   "outputs": [
    {
     "data": {
      "text/html": [
       "<table>\n",
       "<caption>A tibble: 14 × 6</caption>\n",
       "<thead>\n",
       "\t<tr><th scope=col>V1</th><th scope=col>V2</th><th scope=col>Pop</th><th scope=col>1</th><th scope=col>2</th><th scope=col>pval</th></tr>\n",
       "\t<tr><th scope=col>&lt;chr&gt;</th><th scope=col>&lt;chr&gt;</th><th scope=col>&lt;chr&gt;</th><th scope=col>&lt;fct&gt;</th><th scope=col>&lt;fct&gt;</th><th scope=col>&lt;fct&gt;</th></tr>\n",
       "</thead>\n",
       "<tbody>\n",
       "\t<tr><td>Individuals   </td><td>n           </td><td>105          </td><td>73           </td><td>32           </td><td>NA   </td></tr>\n",
       "\t<tr><td>Sepal.Length  </td><td>Mean (SD)   </td><td>5.8 (0.9)    </td><td>5.9 (0.9)    </td><td>5.8 (0.9)    </td><td>NA   </td></tr>\n",
       "\t<tr><td>Sepal.Length  </td><td>Median (IQR)</td><td>5.8 (5.1-6.4)</td><td>5.7 (5.1-6.4)</td><td>6.0 (5.0-6.3)</td><td>0.847</td></tr>\n",
       "\t<tr><td>Sepal.Width   </td><td>Mean (SD)   </td><td>3.1 (0.4)    </td><td>3.1 (0.4)    </td><td>3.0 (0.5)    </td><td>NA   </td></tr>\n",
       "\t<tr><td>Sepal.Width   </td><td>Median (IQR)</td><td>3.0 (2.8-3.4)</td><td>3.0 (2.8-3.4)</td><td>3.0 (2.8-3.2)</td><td>0.511</td></tr>\n",
       "\t<tr><td>Petal.Length  </td><td>Mean (SD)   </td><td>3.8 (1.8)    </td><td>3.7 (1.8)    </td><td>3.9 (1.8)    </td><td>NA   </td></tr>\n",
       "\t<tr><td>Petal.Length  </td><td>Median (IQR)</td><td>4.4 (1.6-5.1)</td><td>4.4 (1.5-5.1)</td><td>4.5 (1.7-5.2)</td><td>0.536</td></tr>\n",
       "\t<tr><td>Petal.Width   </td><td>Mean (SD)   </td><td>1.2 (0.8)    </td><td>1.2 (0.8)    </td><td>1.2 (0.8)    </td><td>NA   </td></tr>\n",
       "\t<tr><td>Petal.Width   </td><td>Median (IQR)</td><td>1.4 (0.3-1.8)</td><td>1.3 (0.3-1.8)</td><td>1.4 (0.3-1.8)</td><td>0.795</td></tr>\n",
       "\t<tr><td>Species       </td><td>setosa      </td><td>36 (34.3%)   </td><td>26 (35.6%)   </td><td>10 (31.2%)   </td><td>NA   </td></tr>\n",
       "\t<tr><td>Species       </td><td>versicolor  </td><td>32 (30.5%)   </td><td>24 (32.9%)   </td><td>8 (25.0%)    </td><td>0.467</td></tr>\n",
       "\t<tr><td>Species       </td><td>virginica   </td><td>37 (35.2%)   </td><td>23 (31.5%)   </td><td>14 (43.8%)   </td><td>NA   </td></tr>\n",
       "\t<tr><td>traintest_ind_</td><td>Mean (SD)   </td><td>1.3 (0.5)    </td><td>NA           </td><td>NA           </td><td>NA   </td></tr>\n",
       "\t<tr><td>traintest_ind_</td><td>Median (IQR)</td><td>1.0 (1.0-2.0)</td><td>NA           </td><td>NA           </td><td>0    </td></tr>\n",
       "</tbody>\n",
       "</table>\n"
      ],
      "text/latex": [
       "A tibble: 14 × 6\n",
       "\\begin{tabular}{r|llllll}\n",
       " V1 & V2 & Pop & 1 & 2 & pval\\\\\n",
       " <chr> & <chr> & <chr> & <fct> & <fct> & <fct>\\\\\n",
       "\\hline\n",
       "\t Individuals    & n            & 105           & 73            & 32            & NA   \\\\\n",
       "\t Sepal.Length   & Mean (SD)    & 5.8 (0.9)     & 5.9 (0.9)     & 5.8 (0.9)     & NA   \\\\\n",
       "\t Sepal.Length   & Median (IQR) & 5.8 (5.1-6.4) & 5.7 (5.1-6.4) & 6.0 (5.0-6.3) & 0.847\\\\\n",
       "\t Sepal.Width    & Mean (SD)    & 3.1 (0.4)     & 3.1 (0.4)     & 3.0 (0.5)     & NA   \\\\\n",
       "\t Sepal.Width    & Median (IQR) & 3.0 (2.8-3.4) & 3.0 (2.8-3.4) & 3.0 (2.8-3.2) & 0.511\\\\\n",
       "\t Petal.Length   & Mean (SD)    & 3.8 (1.8)     & 3.7 (1.8)     & 3.9 (1.8)     & NA   \\\\\n",
       "\t Petal.Length   & Median (IQR) & 4.4 (1.6-5.1) & 4.4 (1.5-5.1) & 4.5 (1.7-5.2) & 0.536\\\\\n",
       "\t Petal.Width    & Mean (SD)    & 1.2 (0.8)     & 1.2 (0.8)     & 1.2 (0.8)     & NA   \\\\\n",
       "\t Petal.Width    & Median (IQR) & 1.4 (0.3-1.8) & 1.3 (0.3-1.8) & 1.4 (0.3-1.8) & 0.795\\\\\n",
       "\t Species        & setosa       & 36 (34.3\\%)    & 26 (35.6\\%)    & 10 (31.2\\%)    & NA   \\\\\n",
       "\t Species        & versicolor   & 32 (30.5\\%)    & 24 (32.9\\%)    & 8 (25.0\\%)     & 0.467\\\\\n",
       "\t Species        & virginica    & 37 (35.2\\%)    & 23 (31.5\\%)    & 14 (43.8\\%)    & NA   \\\\\n",
       "\t traintest\\_ind\\_ & Mean (SD)    & 1.3 (0.5)     & NA            & NA            & NA   \\\\\n",
       "\t traintest\\_ind\\_ & Median (IQR) & 1.0 (1.0-2.0) & NA            & NA            & 0    \\\\\n",
       "\\end{tabular}\n"
      ],
      "text/markdown": [
       "\n",
       "A tibble: 14 × 6\n",
       "\n",
       "| V1 &lt;chr&gt; | V2 &lt;chr&gt; | Pop &lt;chr&gt; | 1 &lt;fct&gt; | 2 &lt;fct&gt; | pval &lt;fct&gt; |\n",
       "|---|---|---|---|---|---|\n",
       "| Individuals    | n            | 105           | 73            | 32            | NA    |\n",
       "| Sepal.Length   | Mean (SD)    | 5.8 (0.9)     | 5.9 (0.9)     | 5.8 (0.9)     | NA    |\n",
       "| Sepal.Length   | Median (IQR) | 5.8 (5.1-6.4) | 5.7 (5.1-6.4) | 6.0 (5.0-6.3) | 0.847 |\n",
       "| Sepal.Width    | Mean (SD)    | 3.1 (0.4)     | 3.1 (0.4)     | 3.0 (0.5)     | NA    |\n",
       "| Sepal.Width    | Median (IQR) | 3.0 (2.8-3.4) | 3.0 (2.8-3.4) | 3.0 (2.8-3.2) | 0.511 |\n",
       "| Petal.Length   | Mean (SD)    | 3.8 (1.8)     | 3.7 (1.8)     | 3.9 (1.8)     | NA    |\n",
       "| Petal.Length   | Median (IQR) | 4.4 (1.6-5.1) | 4.4 (1.5-5.1) | 4.5 (1.7-5.2) | 0.536 |\n",
       "| Petal.Width    | Mean (SD)    | 1.2 (0.8)     | 1.2 (0.8)     | 1.2 (0.8)     | NA    |\n",
       "| Petal.Width    | Median (IQR) | 1.4 (0.3-1.8) | 1.3 (0.3-1.8) | 1.4 (0.3-1.8) | 0.795 |\n",
       "| Species        | setosa       | 36 (34.3%)    | 26 (35.6%)    | 10 (31.2%)    | NA    |\n",
       "| Species        | versicolor   | 32 (30.5%)    | 24 (32.9%)    | 8 (25.0%)     | 0.467 |\n",
       "| Species        | virginica    | 37 (35.2%)    | 23 (31.5%)    | 14 (43.8%)    | NA    |\n",
       "| traintest_ind_ | Mean (SD)    | 1.3 (0.5)     | NA            | NA            | NA    |\n",
       "| traintest_ind_ | Median (IQR) | 1.0 (1.0-2.0) | NA            | NA            | 0     |\n",
       "\n"
      ],
      "text/plain": [
       "   V1             V2           Pop           1             2             pval \n",
       "1  Individuals    n            105           73            32            NA   \n",
       "2  Sepal.Length   Mean (SD)    5.8 (0.9)     5.9 (0.9)     5.8 (0.9)     NA   \n",
       "3  Sepal.Length   Median (IQR) 5.8 (5.1-6.4) 5.7 (5.1-6.4) 6.0 (5.0-6.3) 0.847\n",
       "4  Sepal.Width    Mean (SD)    3.1 (0.4)     3.1 (0.4)     3.0 (0.5)     NA   \n",
       "5  Sepal.Width    Median (IQR) 3.0 (2.8-3.4) 3.0 (2.8-3.4) 3.0 (2.8-3.2) 0.511\n",
       "6  Petal.Length   Mean (SD)    3.8 (1.8)     3.7 (1.8)     3.9 (1.8)     NA   \n",
       "7  Petal.Length   Median (IQR) 4.4 (1.6-5.1) 4.4 (1.5-5.1) 4.5 (1.7-5.2) 0.536\n",
       "8  Petal.Width    Mean (SD)    1.2 (0.8)     1.2 (0.8)     1.2 (0.8)     NA   \n",
       "9  Petal.Width    Median (IQR) 1.4 (0.3-1.8) 1.3 (0.3-1.8) 1.4 (0.3-1.8) 0.795\n",
       "10 Species        setosa       36 (34.3%)    26 (35.6%)    10 (31.2%)    NA   \n",
       "11 Species        versicolor   32 (30.5%)    24 (32.9%)    8 (25.0%)     0.467\n",
       "12 Species        virginica    37 (35.2%)    23 (31.5%)    14 (43.8%)    NA   \n",
       "13 traintest_ind_ Mean (SD)    1.3 (0.5)     NA            NA            NA   \n",
       "14 traintest_ind_ Median (IQR) 1.0 (1.0-2.0) NA            NA            0    "
      ]
     },
     "metadata": {},
     "output_type": "display_data"
    }
   ],
   "source": [
    "tab2\n",
    "# pval should be larger than 0.05"
   ]
  },
  {
   "cell_type": "code",
   "execution_count": 14,
   "metadata": {},
   "outputs": [],
   "source": [
    "### save memeory, remove the datasets that will not be used more...\n",
    "rm(temp,data)"
   ]
  },
  {
   "cell_type": "markdown",
   "metadata": {},
   "source": [
    "Checking the distribution of the outcome on the three subsets"
   ]
  },
  {
   "cell_type": "code",
   "execution_count": 15,
   "metadata": {},
   "outputs": [
    {
     "data": {
      "image/png": "[encoded data removed]",
      "text/plain": [
       "plot without title"
      ]
     },
     "metadata": {
      "image/png": {
       "height": 240,
       "width": 240
      },
      "text/plain": {
       "height": 240,
       "width": 240
      }
     },
     "output_type": "display_data"
    }
   ],
   "source": [
    "# checking that there is no diff between features\n",
    "require(ggplot2)\n",
    "\n",
    "options(repr.plot.width = 4, repr.plot.height = 4)\n",
    "\n",
    "ggplot() +\n",
    "    geom_density(aes(x=train$Sepal.Length),color=\"red\",alpha=0.3) +\n",
    "    geom_density(aes(x=dev$Sepal.Length),color=\"blue\",alpha=0.3) +\n",
    "    geom_density(aes(x=test$Sepal.Length),color=\"green\",alpha=0.3)\n"
   ]
  },
  {
   "cell_type": "code",
   "execution_count": 16,
   "metadata": {},
   "outputs": [
    {
     "data": {
      "image/png": "[encoded data removed]",
      "text/plain": [
       "plot without title"
      ]
     },
     "metadata": {
      "image/png": {
       "height": 240,
       "width": 240
      },
      "text/plain": {
       "height": 240,
       "width": 240
      }
     },
     "output_type": "display_data"
    }
   ],
   "source": [
    "# checking that there is no diff bet\n",
    "require(ggplot2)\n",
    "\n",
    "options(repr.plot.width = 4, repr.plot.height = 4)\n",
    "\n",
    "ggplot() +\n",
    "    geom_density(aes(x=train$Petal.Length),color=\"red\",alpha=0.3) +\n",
    "    geom_density(aes(x=dev$Petal.Length),color=\"blue\",alpha=0.3) +\n",
    "    geom_density(aes(x=test$Petal.Length),color=\"green\",alpha=0.3)\n"
   ]
  },
  {
   "cell_type": "markdown",
   "metadata": {},
   "source": [
    "# Train-Dev"
   ]
  },
  {
   "cell_type": "code",
   "execution_count": 17,
   "metadata": {},
   "outputs": [],
   "source": [
    "library(ranger)\n",
    "\n",
    "mod1 <- ranger(Species ~., data=train)\n"
   ]
  },
  {
   "cell_type": "code",
   "execution_count": null,
   "metadata": {},
   "outputs": [],
   "source": [
    "help ('ranger')"
   ]
  },
  {
   "cell_type": "code",
   "execution_count": 18,
   "metadata": {},
   "outputs": [
    {
     "data": {
      "text/plain": [
       "Ranger result\n",
       "\n",
       "Call:\n",
       " ranger(Species ~ ., data = train) \n",
       "\n",
       "Type:                             Classification \n",
       "Number of trees:                  500 \n",
       "Sample size:                      73 \n",
       "Number of independent variables:  4 \n",
       "Mtry:                             2 \n",
       "Target node size:                 1 \n",
       "Variable importance mode:         none \n",
       "Splitrule:                        gini \n",
       "OOB prediction error:             2.74 % "
      ]
     },
     "metadata": {},
     "output_type": "display_data"
    }
   ],
   "source": [
    "mod1"
   ]
  },
  {
   "cell_type": "code",
   "execution_count": 26,
   "metadata": {},
   "outputs": [
    {
     "data": {
      "text/html": [
       "<ol class=list-inline>\n",
       "\t<li>setosa</li>\n",
       "\t<li>setosa</li>\n",
       "\t<li>virginica</li>\n",
       "\t<li>versicolor</li>\n",
       "\t<li>virginica</li>\n",
       "\t<li>virginica</li>\n",
       "\t<li>virginica</li>\n",
       "\t<li>virginica</li>\n",
       "\t<li>versicolor</li>\n",
       "\t<li>virginica</li>\n",
       "\t<li>setosa</li>\n",
       "\t<li>versicolor</li>\n",
       "\t<li>versicolor</li>\n",
       "\t<li>setosa</li>\n",
       "\t<li>versicolor</li>\n",
       "\t<li>setosa</li>\n",
       "\t<li>versicolor</li>\n",
       "\t<li>setosa</li>\n",
       "\t<li>versicolor</li>\n",
       "\t<li>setosa</li>\n",
       "\t<li>virginica</li>\n",
       "\t<li>virginica</li>\n",
       "\t<li>versicolor</li>\n",
       "\t<li>virginica</li>\n",
       "\t<li>virginica</li>\n",
       "\t<li>setosa</li>\n",
       "\t<li>setosa</li>\n",
       "\t<li>virginica</li>\n",
       "\t<li>versicolor</li>\n",
       "\t<li>setosa</li>\n",
       "\t<li>versicolor</li>\n",
       "\t<li>virginica</li>\n",
       "</ol>\n",
       "\n",
       "<details>\n",
       "\t<summary style=display:list-item;cursor:pointer>\n",
       "\t\t<strong>Levels</strong>:\n",
       "\t</summary>\n",
       "\t<ol class=list-inline>\n",
       "\t\t<li>'setosa'</li>\n",
       "\t\t<li>'versicolor'</li>\n",
       "\t\t<li>'virginica'</li>\n",
       "\t</ol>\n",
       "</details>"
      ],
      "text/latex": [
       "\\begin{enumerate*}\n",
       "\\item setosa\n",
       "\\item setosa\n",
       "\\item virginica\n",
       "\\item versicolor\n",
       "\\item virginica\n",
       "\\item virginica\n",
       "\\item virginica\n",
       "\\item virginica\n",
       "\\item versicolor\n",
       "\\item virginica\n",
       "\\item setosa\n",
       "\\item versicolor\n",
       "\\item versicolor\n",
       "\\item setosa\n",
       "\\item versicolor\n",
       "\\item setosa\n",
       "\\item versicolor\n",
       "\\item setosa\n",
       "\\item versicolor\n",
       "\\item setosa\n",
       "\\item virginica\n",
       "\\item virginica\n",
       "\\item versicolor\n",
       "\\item virginica\n",
       "\\item virginica\n",
       "\\item setosa\n",
       "\\item setosa\n",
       "\\item virginica\n",
       "\\item versicolor\n",
       "\\item setosa\n",
       "\\item versicolor\n",
       "\\item virginica\n",
       "\\end{enumerate*}\n",
       "\n",
       "\\emph{Levels}: \\begin{enumerate*}\n",
       "\\item 'setosa'\n",
       "\\item 'versicolor'\n",
       "\\item 'virginica'\n",
       "\\end{enumerate*}\n"
      ],
      "text/markdown": [
       "1. setosa\n",
       "2. setosa\n",
       "3. virginica\n",
       "4. versicolor\n",
       "5. virginica\n",
       "6. virginica\n",
       "7. virginica\n",
       "8. virginica\n",
       "9. versicolor\n",
       "10. virginica\n",
       "11. setosa\n",
       "12. versicolor\n",
       "13. versicolor\n",
       "14. setosa\n",
       "15. versicolor\n",
       "16. setosa\n",
       "17. versicolor\n",
       "18. setosa\n",
       "19. versicolor\n",
       "20. setosa\n",
       "21. virginica\n",
       "22. virginica\n",
       "23. versicolor\n",
       "24. virginica\n",
       "25. virginica\n",
       "26. setosa\n",
       "27. setosa\n",
       "28. virginica\n",
       "29. versicolor\n",
       "30. setosa\n",
       "31. versicolor\n",
       "32. virginica\n",
       "\n",
       "\n",
       "\n",
       "**Levels**: 1. 'setosa'\n",
       "2. 'versicolor'\n",
       "3. 'virginica'\n",
       "\n",
       "\n"
      ],
      "text/plain": [
       " [1] setosa     setosa     virginica  versicolor virginica  virginica \n",
       " [7] virginica  virginica  versicolor virginica  setosa     versicolor\n",
       "[13] versicolor setosa     versicolor setosa     versicolor setosa    \n",
       "[19] versicolor setosa     virginica  virginica  versicolor virginica \n",
       "[25] virginica  setosa     setosa     virginica  versicolor setosa    \n",
       "[31] versicolor virginica \n",
       "Levels: setosa versicolor virginica"
      ]
     },
     "metadata": {},
     "output_type": "display_data"
    }
   ],
   "source": [
    "pred1 <- predict(mod1, data=dev)\n",
    "pred1$predictions"
   ]
  },
  {
   "cell_type": "code",
   "execution_count": 27,
   "metadata": {},
   "outputs": [
    {
     "data": {
      "text/plain": [
       "            pred\n",
       "obs          setosa versicolor virginica\n",
       "  setosa         10          0         0\n",
       "  versicolor      0          7         1\n",
       "  virginica       0          3        11"
      ]
     },
     "metadata": {},
     "output_type": "display_data"
    }
   ],
   "source": [
    "#table is used for classification models whee we cannot find the RMSLE\n",
    "table(obs=dev$Species, pred=pred1$predictions)"
   ]
  },
  {
   "cell_type": "code",
   "execution_count": 28,
   "metadata": {},
   "outputs": [
    {
     "data": {
      "text/plain": [
       "Confusion Matrix and Statistics\n",
       "\n",
       "            Reference\n",
       "Prediction   setosa versicolor virginica\n",
       "  setosa         10          0         0\n",
       "  versicolor      0          7         3\n",
       "  virginica       0          1        11\n",
       "\n",
       "Overall Statistics\n",
       "                                          \n",
       "               Accuracy : 0.875           \n",
       "                 95% CI : (0.7101, 0.9649)\n",
       "    No Information Rate : 0.4375          \n",
       "    P-Value [Acc > NIR] : 3.559e-07       \n",
       "                                          \n",
       "                  Kappa : 0.8107          \n",
       "                                          \n",
       " Mcnemar's Test P-Value : NA              \n",
       "\n",
       "Statistics by Class:\n",
       "\n",
       "                     Class: setosa Class: versicolor Class: virginica\n",
       "Sensitivity                 1.0000            0.8750           0.7857\n",
       "Specificity                 1.0000            0.8750           0.9444\n",
       "Pos Pred Value              1.0000            0.7000           0.9167\n",
       "Neg Pred Value              1.0000            0.9545           0.8500\n",
       "Prevalence                  0.3125            0.2500           0.4375\n",
       "Detection Rate              0.3125            0.2188           0.3438\n",
       "Detection Prevalence        0.3125            0.3125           0.3750\n",
       "Balanced Accuracy           1.0000            0.8750           0.8651"
      ]
     },
     "metadata": {},
     "output_type": "display_data"
    }
   ],
   "source": [
    "caret::confusionMatrix(pred1$predictions,dev$Species)"
   ]
  },
  {
   "cell_type": "markdown",
   "metadata": {},
   "source": [
    "# Cross-Validation\n",
    "\n",
    "<img src=\"https://genome.tugraz.at/proclassify/help/pages/images/xv_folds.gif\"/>\n"
   ]
  },
  {
   "cell_type": "code",
   "execution_count": 29,
   "metadata": {},
   "outputs": [
    {
     "name": "stderr",
     "output_type": "stream",
     "text": [
      "Loading required package: lattice\n",
      "\n"
     ]
    }
   ],
   "source": [
    "library(caret)\n",
    "if(!require(party)) install.packages(\"party\"); require(party)\n",
    "# load the iris dataset\n",
    "data(iris)"
   ]
  },
  {
   "cell_type": "code",
   "execution_count": 47,
   "metadata": {},
   "outputs": [
    {
     "ename": "ERROR",
     "evalue": "Error in createFolds(y, k = k, list = TRUE, returnTrain = TRUE): (list) object cannot be coerced to type 'integer'\n",
     "output_type": "error",
     "traceback": [
      "Error in createFolds(y, k = k, list = TRUE, returnTrain = TRUE): (list) object cannot be coerced to type 'integer'\nTraceback:\n",
      "1. train(Species ~ ., data = train, trControl = train_control, method = \"ranger\")",
      "2. train.formula(Species ~ ., data = train, trControl = train_control, \n .     method = \"ranger\")",
      "3. train(x, y, weights = w, ...)",
      "4. train.default(x, y, weights = w, ...)",
      "5. withr::with_seed(rs_seed, make_resamples(trControl, outcome = y))",
      "6. with_preserve_seed({\n .     set.seed(seed)\n .     code\n . })",
      "7. make_resamples(trControl, outcome = y)",
      "8. createMultiFolds(outcome, ctrl_obj$number, ctrl_obj$repeats)",
      "9. createFolds(y, k = k, list = TRUE, returnTrain = TRUE)"
     ]
    }
   ],
   "source": [
    "# define training control \n",
    "# cv - simple cross validation , repeatedcv - repeats 100 times on the cv. repeats=k\n",
    "seeds <- vector(mode = \"list\", length = 51)\n",
    "for(i in 1:50) seeds[[i]] <- sample.int(1000, 22)\n",
    "\n",
    "train_control <- trainControl(method = \"repeatedcv\", repeats = 5,seeds)\n",
    "\n",
    "# train the model\n",
    "model <- train(Species~., data=train, trControl=train_control, method=\"ranger\")"
   ]
  },
  {
   "cell_type": "code",
   "execution_count": 43,
   "metadata": {},
   "outputs": [],
   "source": [
    "help('trainControl')"
   ]
  },
  {
   "cell_type": "code",
   "execution_count": 46,
   "metadata": {},
   "outputs": [
    {
     "name": "stdout",
     "output_type": "stream",
     "text": [
      "Random Forest \n",
      "\n",
      "73 samples\n",
      " 4 predictor\n",
      " 3 classes: 'setosa', 'versicolor', 'virginica' \n",
      "\n",
      "No pre-processing\n",
      "Resampling: Cross-Validated (10 fold, repeated 5 times) \n",
      "Summary of sample sizes: 65, 66, 66, 66, 66, 65, ... \n",
      "Resampling results across tuning parameters:\n",
      "\n",
      "  mtry  splitrule   Accuracy   Kappa    \n",
      "  2     gini        0.9719048  0.9572447\n",
      "  2     extratrees  0.9867857  0.9797646\n",
      "  3     gini        0.9719048  0.9572447\n",
      "  3     extratrees  0.9776190  0.9658621\n",
      "  4     gini        0.9719048  0.9572447\n",
      "  4     extratrees  0.9719048  0.9572447\n",
      "\n",
      "Tuning parameter 'min.node.size' was held constant at a value of 1\n",
      "Accuracy was used to select the optimal model using the largest value.\n",
      "The final values used for the model were mtry = 2, splitrule = extratrees\n",
      " and min.node.size = 1.\n"
     ]
    }
   ],
   "source": [
    "# summarize results\n",
    "print(model)"
   ]
  },
  {
   "cell_type": "markdown",
   "metadata": {},
   "source": [
    "# Leave-one-out Cross Validation"
   ]
  },
  {
   "cell_type": "code",
   "execution_count": 48,
   "metadata": {},
   "outputs": [],
   "source": [
    "# define training control\n",
    "train_control <- trainControl(method=\"LOOCV\")\n",
    "# train the model\n",
    "model <- train(Species~., data=train, trControl=train_control, method=\"ranger\")"
   ]
  },
  {
   "cell_type": "code",
   "execution_count": 49,
   "metadata": {},
   "outputs": [
    {
     "name": "stdout",
     "output_type": "stream",
     "text": [
      "Random Forest \n",
      "\n",
      "73 samples\n",
      " 4 predictor\n",
      " 3 classes: 'setosa', 'versicolor', 'virginica' \n",
      "\n",
      "No pre-processing\n",
      "Resampling: Leave-One-Out Cross-Validation \n",
      "Summary of sample sizes: 72, 72, 72, 72, 72, 72, ... \n",
      "Resampling results across tuning parameters:\n",
      "\n",
      "  mtry  splitrule   Accuracy   Kappa    \n",
      "  2     gini        0.9726027  0.9588501\n",
      "  2     extratrees  0.9863014  0.9794308\n",
      "  3     gini        0.9726027  0.9588501\n",
      "  3     extratrees  0.9726027  0.9588501\n",
      "  4     gini        0.9726027  0.9588501\n",
      "  4     extratrees  0.9726027  0.9588501\n",
      "\n",
      "Tuning parameter 'min.node.size' was held constant at a value of 1\n",
      "Accuracy was used to select the optimal model using the largest value.\n",
      "The final values used for the model were mtry = 2, splitrule = extratrees\n",
      " and min.node.size = 1.\n"
     ]
    }
   ],
   "source": [
    "# summarize results\n",
    "print(model)"
   ]
  },
  {
   "cell_type": "code",
   "execution_count": 41,
   "metadata": {},
   "outputs": [],
   "source": [
    "?caret::trainControl"
   ]
  },
  {
   "cell_type": "code",
   "execution_count": null,
   "metadata": {},
   "outputs": [],
   "source": [
    "?carer::train"
   ]
  },
  {
   "cell_type": "markdown",
   "metadata": {},
   "source": [
    "# Boostrapping - DO NOT USE on big datasets\n",
    "\n"
   ]
  },
  {
   "cell_type": "code",
   "execution_count": 51,
   "metadata": {},
   "outputs": [],
   "source": [
    "# define training control\n",
    "train_control <- trainControl(method=\"boot\", number=100)\n",
    "# train the model\n",
    "model <- train(Species~., data=train, trControl=train_control,method=\"ranger\")"
   ]
  },
  {
   "cell_type": "code",
   "execution_count": 52,
   "metadata": {},
   "outputs": [
    {
     "name": "stdout",
     "output_type": "stream",
     "text": [
      "Random Forest \n",
      "\n",
      "73 samples\n",
      " 4 predictor\n",
      " 3 classes: 'setosa', 'versicolor', 'virginica' \n",
      "\n",
      "No pre-processing\n",
      "Resampling: Bootstrapped (100 reps) \n",
      "Summary of sample sizes: 73, 73, 73, 73, 73, 73, ... \n",
      "Resampling results across tuning parameters:\n",
      "\n",
      "  mtry  splitrule   Accuracy   Kappa    \n",
      "  2     gini        0.9687622  0.9519891\n",
      "  2     extratrees  0.9844949  0.9763154\n",
      "  3     gini        0.9672750  0.9497586\n",
      "  3     extratrees  0.9809828  0.9709569\n",
      "  4     gini        0.9680126  0.9508800\n",
      "  4     extratrees  0.9760761  0.9632868\n",
      "\n",
      "Tuning parameter 'min.node.size' was held constant at a value of 1\n",
      "Accuracy was used to select the optimal model using the largest value.\n",
      "The final values used for the model were mtry = 2, splitrule = extratrees\n",
      " and min.node.size = 1.\n"
     ]
    }
   ],
   "source": [
    "# summarize results\n",
    "print(model)"
   ]
  },
  {
   "cell_type": "markdown",
   "metadata": {},
   "source": [
    "# Dataset Inbalance"
   ]
  },
  {
   "cell_type": "code",
   "execution_count": 53,
   "metadata": {},
   "outputs": [
    {
     "name": "stderr",
     "output_type": "stream",
     "text": [
      "Loading required package: imbalance\n",
      "\n",
      "Installing package into ‘/home/dsuser14/R/x86_64-pc-linux-gnu-library/3.6’\n",
      "(as ‘lib’ is unspecified)\n",
      "\n",
      "also installing the dependencies ‘bnlearn’, ‘KernelKnn’, ‘smotefamily’\n",
      "\n",
      "\n",
      "Loading required package: imbalance\n",
      "\n",
      "Loading required package: ROSE\n",
      "\n",
      "Loaded ROSE 0.0-3\n",
      "\n",
      "\n"
     ]
    }
   ],
   "source": [
    "if(!require(imbalance)){install.packages(\"imbalance\");require(imbalance)}\n",
    "### ROSE = Random Over-Sampling Examples\n",
    "if(!require(ROSE)){install.packages(\"ROSE\");require(ROSE)}\n"
   ]
  },
  {
   "cell_type": "code",
   "execution_count": 54,
   "metadata": {},
   "outputs": [
    {
     "data": {
      "text/html": [
       "<table>\n",
       "<caption>A data.frame: 6 × 6</caption>\n",
       "<thead>\n",
       "\t<tr><th scope=col>T3resin</th><th scope=col>Thyroxin</th><th scope=col>Triiodothyronine</th><th scope=col>Thyroidstimulating</th><th scope=col>TSH_value</th><th scope=col>Class</th></tr>\n",
       "\t<tr><th scope=col>&lt;int&gt;</th><th scope=col>&lt;dbl&gt;</th><th scope=col>&lt;dbl&gt;</th><th scope=col>&lt;dbl&gt;</th><th scope=col>&lt;dbl&gt;</th><th scope=col>&lt;fct&gt;</th></tr>\n",
       "</thead>\n",
       "<tbody>\n",
       "\t<tr><td>105</td><td> 7.3</td><td>1.5</td><td>1.5</td><td>-0.1</td><td>negative</td></tr>\n",
       "\t<tr><td> 67</td><td>23.3</td><td>7.4</td><td>1.8</td><td>-0.6</td><td>positive</td></tr>\n",
       "\t<tr><td>111</td><td> 8.4</td><td>1.5</td><td>0.8</td><td> 1.2</td><td>negative</td></tr>\n",
       "\t<tr><td> 89</td><td>14.3</td><td>4.1</td><td>0.5</td><td> 0.2</td><td>positive</td></tr>\n",
       "\t<tr><td>105</td><td> 9.5</td><td>1.8</td><td>1.6</td><td> 3.6</td><td>negative</td></tr>\n",
       "\t<tr><td>110</td><td>20.3</td><td>3.7</td><td>0.6</td><td> 0.2</td><td>positive</td></tr>\n",
       "</tbody>\n",
       "</table>\n"
      ],
      "text/latex": [
       "A data.frame: 6 × 6\n",
       "\\begin{tabular}{r|llllll}\n",
       " T3resin & Thyroxin & Triiodothyronine & Thyroidstimulating & TSH\\_value & Class\\\\\n",
       " <int> & <dbl> & <dbl> & <dbl> & <dbl> & <fct>\\\\\n",
       "\\hline\n",
       "\t 105 &  7.3 & 1.5 & 1.5 & -0.1 & negative\\\\\n",
       "\t  67 & 23.3 & 7.4 & 1.8 & -0.6 & positive\\\\\n",
       "\t 111 &  8.4 & 1.5 & 0.8 &  1.2 & negative\\\\\n",
       "\t  89 & 14.3 & 4.1 & 0.5 &  0.2 & positive\\\\\n",
       "\t 105 &  9.5 & 1.8 & 1.6 &  3.6 & negative\\\\\n",
       "\t 110 & 20.3 & 3.7 & 0.6 &  0.2 & positive\\\\\n",
       "\\end{tabular}\n"
      ],
      "text/markdown": [
       "\n",
       "A data.frame: 6 × 6\n",
       "\n",
       "| T3resin &lt;int&gt; | Thyroxin &lt;dbl&gt; | Triiodothyronine &lt;dbl&gt; | Thyroidstimulating &lt;dbl&gt; | TSH_value &lt;dbl&gt; | Class &lt;fct&gt; |\n",
       "|---|---|---|---|---|---|\n",
       "| 105 |  7.3 | 1.5 | 1.5 | -0.1 | negative |\n",
       "|  67 | 23.3 | 7.4 | 1.8 | -0.6 | positive |\n",
       "| 111 |  8.4 | 1.5 | 0.8 |  1.2 | negative |\n",
       "|  89 | 14.3 | 4.1 | 0.5 |  0.2 | positive |\n",
       "| 105 |  9.5 | 1.8 | 1.6 |  3.6 | negative |\n",
       "| 110 | 20.3 | 3.7 | 0.6 |  0.2 | positive |\n",
       "\n"
      ],
      "text/plain": [
       "  T3resin Thyroxin Triiodothyronine Thyroidstimulating TSH_value Class   \n",
       "1 105      7.3     1.5              1.5                -0.1      negative\n",
       "2  67     23.3     7.4              1.8                -0.6      positive\n",
       "3 111      8.4     1.5              0.8                 1.2      negative\n",
       "4  89     14.3     4.1              0.5                 0.2      positive\n",
       "5 105      9.5     1.8              1.6                 3.6      negative\n",
       "6 110     20.3     3.7              0.6                 0.2      positive"
      ]
     },
     "metadata": {},
     "output_type": "display_data"
    }
   ],
   "source": [
    "data(newthyroid1)\n",
    "head(newthyroid1)"
   ]
  },
  {
   "cell_type": "code",
   "execution_count": 71,
   "metadata": {},
   "outputs": [
    {
     "data": {
      "text/plain": [
       "    T3resin         Thyroxin      Triiodothyronine Thyroidstimulating\n",
       " Min.   : 65.0   Min.   : 0.500   Min.   : 0.20    Min.   : 0.10     \n",
       " 1st Qu.:103.0   1st Qu.: 7.100   1st Qu.: 1.35    1st Qu.: 1.00     \n",
       " Median :110.0   Median : 9.200   Median : 1.70    Median : 1.30     \n",
       " Mean   :109.6   Mean   : 9.805   Mean   : 2.05    Mean   : 2.88     \n",
       " 3rd Qu.:117.5   3rd Qu.:11.300   3rd Qu.: 2.20    3rd Qu.: 1.70     \n",
       " Max.   :144.0   Max.   :25.300   Max.   :10.00    Max.   :56.40     \n",
       "   TSH_value           Class    \n",
       " Min.   :-0.700   negative:180  \n",
       " 1st Qu.: 0.550   positive: 35  \n",
       " Median : 2.000                 \n",
       " Mean   : 4.199                 \n",
       " 3rd Qu.: 4.100                 \n",
       " Max.   :56.300                 "
      ]
     },
     "metadata": {},
     "output_type": "display_data"
    }
   ],
   "source": [
    "summary(newthyroid1)"
   ]
  },
  {
   "cell_type": "code",
   "execution_count": 55,
   "metadata": {},
   "outputs": [
    {
     "data": {
      "text/plain": [
       "\n",
       "negative positive \n",
       "     180       35 "
      ]
     },
     "metadata": {},
     "output_type": "display_data"
    },
    {
     "data": {
      "text/plain": [
       "\n",
       "negative positive \n",
       "83.72093 16.27907 "
      ]
     },
     "metadata": {},
     "output_type": "display_data"
    }
   ],
   "source": [
    "table(newthyroid1$Class)\n",
    "table(newthyroid1$Class)/nrow(newthyroid1)*100"
   ]
  },
  {
   "cell_type": "code",
   "execution_count": 56,
   "metadata": {},
   "outputs": [
    {
     "data": {
      "text/html": [
       "<table>\n",
       "<caption>A matrix: 1 × 3 of type int</caption>\n",
       "<thead>\n",
       "\t<tr><th scope=col>numPositive</th><th scope=col>numNegative</th><th scope=col>nInstances</th></tr>\n",
       "</thead>\n",
       "<tbody>\n",
       "\t<tr><td>35</td><td>180</td><td>145</td></tr>\n",
       "</tbody>\n",
       "</table>\n"
      ],
      "text/latex": [
       "A matrix: 1 × 3 of type int\n",
       "\\begin{tabular}{lll}\n",
       " numPositive & numNegative & nInstances\\\\\n",
       "\\hline\n",
       "\t 35 & 180 & 145\\\\\n",
       "\\end{tabular}\n"
      ],
      "text/markdown": [
       "\n",
       "A matrix: 1 × 3 of type int\n",
       "\n",
       "| numPositive | numNegative | nInstances |\n",
       "|---|---|---|\n",
       "| 35 | 180 | 145 |\n",
       "\n"
      ],
      "text/plain": [
       "     numPositive numNegative nInstances\n",
       "[1,] 35          180         145       "
      ]
     },
     "metadata": {},
     "output_type": "display_data"
    }
   ],
   "source": [
    "numPositive <- length(which(newthyroid1$Class == \"positive\"))\n",
    "numNegative <- length(which(newthyroid1$Class == \"negative\"))\n",
    "nInstances <- numNegative - numPositive\n",
    "cbind(numPositive=numPositive,numNegative=numNegative,nInstances=nInstances)"
   ]
  },
  {
   "cell_type": "markdown",
   "metadata": {},
   "source": [
    "## Under Sampling\n",
    " \n",
    "This techniques uses all the rows containing the minority class and select randomly the same number of minority class for the rows with the majority class "
   ]
  },
  {
   "cell_type": "code",
   "execution_count": 61,
   "metadata": {},
   "outputs": [
    {
     "data": {
      "text/plain": [
       "\n",
       "negative positive \n",
       "      35       35 "
      ]
     },
     "metadata": {},
     "output_type": "display_data"
    }
   ],
   "source": [
    "data_balanced_under <- ovun.sample(Class ~ ., data = newthyroid1, method = \"under\",N = numPositive*2)$data\n",
    "table(data_balanced_under$Class)"
   ]
  },
  {
   "cell_type": "markdown",
   "metadata": {},
   "source": [
    "## Over Sampling\n",
    " \n",
    "Over sampling takes the number of rows of the mayority class and repeat the rows of the minority class up to the same number of the majority class. The repeated rows are selected randomly."
   ]
  },
  {
   "cell_type": "code",
   "execution_count": 62,
   "metadata": {},
   "outputs": [
    {
     "data": {
      "text/plain": [
       "\n",
       "negative positive \n",
       "     180      180 "
      ]
     },
     "metadata": {},
     "output_type": "display_data"
    }
   ],
   "source": [
    "#over sampling\n",
    "data_balanced_over <- ovun.sample(Class ~ ., data = newthyroid1, method = \"over\",N = numNegative*2)$data\n",
    "table(data_balanced_over$Class)"
   ]
  },
  {
   "cell_type": "markdown",
   "metadata": {},
   "source": [
    "## Over-Under Sampling\n",
    " \n",
    "In this technique we randomly select half of the majority class rows (under sampling) and increment the minority class rows by selecting them randomly.   "
   ]
  },
  {
   "cell_type": "code",
   "execution_count": 63,
   "metadata": {},
   "outputs": [
    {
     "data": {
      "text/plain": [
       "\n",
       "negative positive \n",
       "      90       90 "
      ]
     },
     "metadata": {},
     "output_type": "display_data"
    }
   ],
   "source": [
    "#over_under sampling\n",
    "data_balanced_both <- ovun.sample(Class ~ ., data = newthyroid1, method = \"both\", p=0.5,N = 180, seed = 1)$data\n",
    "table(data_balanced_both$Class)"
   ]
  },
  {
   "cell_type": "markdown",
   "metadata": {},
   "source": [
    "## ROSE (Random Over-Sampling Examples) \n",
    " \n",
    "Creates a sample of synthetic data by enlarging the features space of minority and majority class examples. ROSE selects an observation belonging to the class k and generates new examples in its neighbourhood"
   ]
  },
  {
   "cell_type": "code",
   "execution_count": 64,
   "metadata": {},
   "outputs": [
    {
     "data": {
      "text/plain": [
       "\n",
       "negative positive \n",
       "     105      110 "
      ]
     },
     "metadata": {},
     "output_type": "display_data"
    }
   ],
   "source": [
    "# Rose: kind of knn\n",
    "data.rose <- ROSE(Class ~ ., data = newthyroid1, seed = 1)$data\n",
    "table(data.rose$Class)"
   ]
  },
  {
   "cell_type": "markdown",
   "metadata": {},
   "source": [
    "## Oversampling with Synthetic data\n",
    " \n",
    "Additionally to ROSE. The package 'inbalance' has the function pdfos. This function generates synthetic minority examples for a numerical dataset approximating a Gaussian multivariate distribution.\n"
   ]
  },
  {
   "cell_type": "code",
   "execution_count": 82,
   "metadata": {},
   "outputs": [
    {
     "data": {
      "text/plain": [
       "\n",
       "negative positive \n",
       "     180      180 "
      ]
     },
     "metadata": {},
     "output_type": "display_data"
    }
   ],
   "source": [
    "newSamples <- pdfos(dataset = newthyroid1, numInstances = nInstances,classAttr = \"Class\")\n",
    "newDataset <- rbind(newthyroid1, newSamples)\n",
    "table(newDataset$Class)"
   ]
  },
  {
   "cell_type": "markdown",
   "metadata": {},
   "source": [
    "## Models"
   ]
  },
  {
   "cell_type": "code",
   "execution_count": 74,
   "metadata": {},
   "outputs": [
    {
     "data": {
      "text/plain": [
       "    obs\n",
       "pred negative positive\n",
       "   0      180        0\n",
       "   1        0       35"
      ]
     },
     "metadata": {},
     "output_type": "display_data"
    }
   ],
   "source": [
    "mod1 <- glm(Class ~., family='binomial', data=newthyroid1)\n",
    "pred1 <- ifelse(predict(mod1, newdata=newthyroid1,type='response')>=0.5,1,0)\n",
    "table(pred=pred1, obs =newthyroid1$Class)"
   ]
  },
  {
   "cell_type": "code",
   "execution_count": 84,
   "metadata": {},
   "outputs": [
    {
     "data": {
      "text/plain": [
       "    obs\n",
       "pred negative positive\n",
       "   0       35        0\n",
       "   1        0       35"
      ]
     },
     "metadata": {},
     "output_type": "display_data"
    },
    {
     "data": {
      "text/plain": [
       "    obs\n",
       "pred negative positive\n",
       "   0      180        0\n",
       "   1        0       35"
      ]
     },
     "metadata": {},
     "output_type": "display_data"
    }
   ],
   "source": [
    "mod2 <- glm(Class ~.,family='binomial', data=data_balanced_under)\n",
    "pred2 <- ifelse(predict(mod2, newdata=data_balanced_under,type='response')>=0.5,1,0)\n",
    "table(pred=pred2, obs =data_balanced_under$Class)\n",
    "table(pred=pred1, obs =newthyroid1$Class)"
   ]
  },
  {
   "cell_type": "code",
   "execution_count": 77,
   "metadata": {},
   "outputs": [
    {
     "data": {
      "text/plain": [
       "    obs\n",
       "pred negative positive\n",
       "   0      180        0\n",
       "   1        0      180"
      ]
     },
     "metadata": {},
     "output_type": "display_data"
    }
   ],
   "source": [
    "mod3 <- glm(Class ~.,family='binomial', data=data_balanced_over)\n",
    "pred3 <- ifelse(predict(mod3, newdata=data_balanced_over,type='response')>=0.5,1,0)\n",
    "table(pred=pred3, obs =data_balanced_over$Class)\n",
    "table(pred=pred1, obs =newthyroid1$Class)"
   ]
  },
  {
   "cell_type": "code",
   "execution_count": 78,
   "metadata": {},
   "outputs": [
    {
     "data": {
      "text/plain": [
       "    obs\n",
       "pred negative positive\n",
       "   0       90        0\n",
       "   1        0       90"
      ]
     },
     "metadata": {},
     "output_type": "display_data"
    }
   ],
   "source": [
    "mod4 <- glm(Class ~.,family='binomial', data=data_balanced_both)\n",
    "pred4 <- ifelse(predict(mod4, newdata=data_balanced_both,type='response')>=0.5,1,0)\n",
    "table(pred=pred4, obs =data_balanced_both$Class)\n",
    "table(pred=pred1, obs =newthyroid1$Class)"
   ]
  },
  {
   "cell_type": "code",
   "execution_count": 88,
   "metadata": {},
   "outputs": [
    {
     "data": {
      "text/plain": [
       "    obs\n",
       "pred negative positive\n",
       "   0       97       13\n",
       "   1        8       97"
      ]
     },
     "metadata": {},
     "output_type": "display_data"
    },
    {
     "data": {
      "text/plain": [
       "    obs\n",
       "pred negative positive\n",
       "   0      176        0\n",
       "   1        4       35"
      ]
     },
     "metadata": {},
     "output_type": "display_data"
    }
   ],
   "source": [
    "mod5 <- glm(Class ~.,family='binomial', data=data.rose)\n",
    "pred5 <- ifelse(predict(mod5, newdata=data.rose,type='response')>=0.5,1,0)\n",
    "table(pred=pred5, obs =data.rose$Class)\n",
    "table(pred=ifelse(predict(mod5,newdata = newthyroid1,type='response')>=0.5,1,0),obs=newthyroid1$Class)"
   ]
  },
  {
   "cell_type": "code",
   "execution_count": 85,
   "metadata": {},
   "outputs": [
    {
     "data": {
      "text/plain": [
       "    obs\n",
       "pred negative positive\n",
       "   0      174        5\n",
       "   1        6      175"
      ]
     },
     "metadata": {},
     "output_type": "display_data"
    },
    {
     "data": {
      "text/plain": [
       "    obs\n",
       "pred negative positive\n",
       "   0      180        0\n",
       "   1        0       35"
      ]
     },
     "metadata": {},
     "output_type": "display_data"
    }
   ],
   "source": [
    "mod6 <- glm(Class ~.,family='binomial', data=newDataset)\n",
    "pred6 <- ifelse(predict(mod6, newdata=newDataset,type='response')>=0.5,1,0)\n",
    "table(pred=pred6, obs =newDataset$Class)\n",
    "table(pred=pred1, obs =newthyroid1$Class)"
   ]
  },
  {
   "cell_type": "code",
   "execution_count": null,
   "metadata": {},
   "outputs": [],
   "source": []
  }
 ],
 "metadata": {
  "kernelspec": {
   "display_name": "R",
   "language": "R",
   "name": "ir"
  },
  "language_info": {
   "codemirror_mode": "r",
   "file_extension": ".r",
   "mimetype": "text/x-r-source",
   "name": "R",
   "pygments_lexer": "r",
   "version": "3.6.1"
  }
 },
 "nbformat": 4,
 "nbformat_minor": 2
}
