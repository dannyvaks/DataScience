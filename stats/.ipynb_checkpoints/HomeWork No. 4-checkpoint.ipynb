{
 "cells": [
  {
   "cell_type": "markdown",
   "metadata": {},
   "source": [
    "# Exploratory Data Analysis"
   ]
  },
  {
   "cell_type": "code",
   "execution_count": 1,
   "metadata": {},
   "outputs": [
    {
     "name": "stdout",
     "output_type": "stream",
     "text": [
      "package 'pastecs' successfully unpacked and MD5 sums checked\n",
      "\n",
      "The downloaded binary packages are in\n",
      "\tC:\\Users\\dannyvaks\\AppData\\Local\\Temp\\RtmpaMhRUF\\downloaded_packages\n",
      "\n",
      "  There is a binary version available but the source version is later:\n",
      "        binary source needs_compilation\n",
      "RSQLite  2.1.5  2.2.0              TRUE\n",
      "\n",
      "  Binaries will be installed\n",
      "package 'RSQLite' successfully unpacked and MD5 sums checked\n",
      "\n",
      "The downloaded binary packages are in\n",
      "\tC:\\Users\\dannyvaks\\AppData\\Local\\Temp\\RtmpaMhRUF\\downloaded_packages\n",
      "package 'DBI' successfully unpacked and MD5 sums checked\n",
      "\n",
      "The downloaded binary packages are in\n",
      "\tC:\\Users\\dannyvaks\\AppData\\Local\\Temp\\RtmpaMhRUF\\downloaded_packages\n",
      "package 'dplyr' successfully unpacked and MD5 sums checked\n",
      "\n",
      "The downloaded binary packages are in\n",
      "\tC:\\Users\\dannyvaks\\AppData\\Local\\Temp\\RtmpaMhRUF\\downloaded_packages\n",
      "package 'ggplot2' successfully unpacked and MD5 sums checked\n",
      "\n",
      "The downloaded binary packages are in\n",
      "\tC:\\Users\\dannyvaks\\AppData\\Local\\Temp\\RtmpaMhRUF\\downloaded_packages\n"
     ]
    },
    {
     "name": "stderr",
     "output_type": "stream",
     "text": [
      "Warning message:\n",
      "\"package 'pastecs' was built under R version 3.6.2\"\n"
     ]
    }
   ],
   "source": [
    "install.packages(\"pastecs\")\n",
    "install.packages(\"RSQLite\")\n",
    "install.packages(\"DBI\")\n",
    "install.packages(\"dplyr\")\n",
    "install.packages(\"ggplot2\")\n"
   ]
  },
  {
   "cell_type": "code",
   "execution_count": 26,
   "metadata": {},
   "outputs": [
    {
     "name": "stderr",
     "output_type": "stream",
     "text": [
      "Loading required package: ggExtra\n",
      "\n",
      "Warning message:\n",
      "\"package 'ggExtra' was built under R version 3.6.2\"\n",
      "Loading required package: naniar\n",
      "\n",
      "Warning message:\n",
      "\"package 'naniar' was built under R version 3.6.2\"\n",
      "Loading required package: mvoutlier\n",
      "\n",
      "Warning message:\n",
      "\"package 'mvoutlier' was built under R version 3.6.2\"\n",
      "Loading required package: sgeostat\n",
      "\n",
      "Registered S3 method overwritten by 'GGally':\n",
      "  method from   \n",
      "  +.gg   ggplot2\n",
      "\n",
      "sROC 0.1-2 loaded\n",
      "\n",
      "Loading required package: MissMech\n",
      "\n",
      "Loading required package: mice\n",
      "\n",
      "Warning message:\n",
      "\"package 'mice' was built under R version 3.6.2\"\n",
      "Loading required package: lattice\n",
      "\n",
      "Warning message:\n",
      "\"package 'lattice' was built under R version 3.6.2\"\n",
      "Registered S3 methods overwritten by 'lme4':\n",
      "  method                          from\n",
      "  cooks.distance.influence.merMod car \n",
      "  influence.merMod                car \n",
      "  dfbeta.influence.merMod         car \n",
      "  dfbetas.influence.merMod        car \n",
      "\n",
      "\n",
      "Attaching package: 'mice'\n",
      "\n",
      "\n",
      "The following objects are masked from 'package:base':\n",
      "\n",
      "    cbind, rbind\n",
      "\n",
      "\n",
      "Loading required package: MatchIt\n",
      "\n",
      "Warning message:\n",
      "\"package 'MatchIt' was built under R version 3.6.2\"\n"
     ]
    }
   ],
   "source": [
    "if(!require(ggExtra)) {install.packages(\"ggExtra\");require(ggExtra)}\n",
    "if(!require(naniar)) {install.packages(\"naniar\");require(naniar)}\n",
    "if(!require(mvoutlier)) {install.packages(\"mvoutlier\");require(mvoutlier)}\n",
    "if(!require(MissMech)) {install.packages(\"MissMech\");require(MissMech)}\n",
    "if(!require(mice)) {install.packages(\"mice\");require(mice)}\n",
    "if(!require(MatchIt)) {install.packages(\"MatchIt\");require(MatchIt)}"
   ]
  },
  {
   "cell_type": "code",
   "execution_count": 27,
   "metadata": {},
   "outputs": [],
   "source": [
    "outlierMatrix <- function(data,threshold=1.5) {\n",
    "    vn <- names(data)\n",
    "    outdata <- data.frame(row1=1:nrow(data))\n",
    "    for(v in vn) {\n",
    "        if(is.numeric(data[[v]])) {\n",
    "            outlow <- quantile(data[[v]],probs = 0.25,na.rm = T) \n",
    "            outhigh <- quantile(data[[v]],probs = 0.75, na.rm = T)\n",
    "            irq_level <- (outhigh - outlow) * threshold\n",
    "            outlow <- outlow - irq_level\n",
    "            outhigh <- outhigh +  irq_level\n",
    "            mv <- ifelse(data[[v]] < outlow | data[[v]] > outhigh, 1, 0)\n",
    "            outdata[v] <- mv\n",
    "        } else {\n",
    "            mv <- rep(0,nrow(data))\n",
    "        }\n",
    "    }\n",
    "    outdata$row1 <- NULL\n",
    "    return(outdata)\n",
    "}\n",
    "\n",
    "\n",
    "missingMatrix <- function(data) {\n",
    "    vn <- names(data)\n",
    "    missdata <- data.frame(row1=1:nrow(data))\n",
    "    for(v in vn) {\n",
    "        mv <- ifelse(is.na(data[[v]]),1,0)\n",
    "        missdata[v] <- mv\n",
    "    }\n",
    "    missdata$row1 <- NULL\n",
    "    return(missdata)\n",
    "}\n",
    "\n",
    "minmax <- function(x) {\n",
    "    return(((x-min(x,na.rm=T))/(max(x,na.rm=T)-min(x,na.rm=T))))\n",
    "}\n",
    "\n",
    "getMissingness <- function (data, getRows = FALSE) {\n",
    "    require(dplyr)\n",
    "    l <- nrow(data)\n",
    "    vn <- names(data)\n",
    "    nadf <- data\n",
    "    cnt <- NULL\n",
    "    miss <- function(x) return(sum(is.na(x)))\n",
    "    for (n in vn) {\n",
    "        nadf[[n]] <- ifelse(is.na(nadf[[n]]) == T, 1, 0)\n",
    "        cnt <- rbind(cnt, data.frame(n, sum(nadf[[n]])))\n",
    "    }\n",
    "    names(cnt) <- c(\"var\", \"na.count\")\n",
    "    cnt$rate <- round((cnt$na.count/nrow(nadf)) * 100, 1)\n",
    "    nadf$na.cnt <- 0\n",
    "    nadf$na.cnt <- rowSums(nadf)\n",
    "    cnt <- cnt %>% dplyr::arrange(desc(na.count)) %>% dplyr::filter(na.count > \n",
    "        0)\n",
    "    totmiss <- nadf %>% dplyr::filter(na.cnt == 0) %>% dplyr::tally()\n",
    "    idx <- NULL\n",
    "    msg <- (paste(\"This dataset has \", as.character(totmiss), \n",
    "        \" (\", as.character(round(totmiss/nrow(data) * 100, 1)), \n",
    "        \"%)\", \" complete rows. Original data has \", nrow(data), \n",
    "        \" rows.\", sep = \"\"))\n",
    "    if (getRows == TRUE & totmiss != 0) {\n",
    "        nadf$rn <- seq_len(nrow(data))\n",
    "        idx <- nadf %>% dplyr::filter(na.cnt == 0) %>% dplyr::select(rn)\n",
    "    }\n",
    "    print(list(head(cnt, n = 10), msg))\n",
    "    return(list(missingness = cnt, message = msg, rows = idx$rn))\n",
    "}"
   ]
  },
  {
   "cell_type": "code",
   "execution_count": 3,
   "metadata": {},
   "outputs": [
    {
     "name": "stderr",
     "output_type": "stream",
     "text": [
      "Warning message:\n",
      "\"package 'pastecs' was built under R version 3.6.2\"\n"
     ]
    }
   ],
   "source": [
    "library(pastecs)"
   ]
  },
  {
   "cell_type": "code",
   "execution_count": 8,
   "metadata": {},
   "outputs": [],
   "source": [
    "library(mechkar)"
   ]
  },
  {
   "cell_type": "code",
   "execution_count": 4,
   "metadata": {},
   "outputs": [
    {
     "name": "stdout",
     "output_type": "stream",
     "text": [
      "package 'lubridate' successfully unpacked and MD5 sums checked\n",
      "\n",
      "The downloaded binary packages are in\n",
      "\tC:\\Users\\dannyvaks\\AppData\\Local\\Temp\\RtmpgdT58i\\downloaded_packages\n"
     ]
    },
    {
     "name": "stderr",
     "output_type": "stream",
     "text": [
      "Warning message:\n",
      "\"package 'lubridate' was built under R version 3.6.2\"\n",
      "\n",
      "Attaching package: 'lubridate'\n",
      "\n",
      "\n",
      "The following object is masked from 'package:base':\n",
      "\n",
      "    date\n",
      "\n",
      "\n"
     ]
    }
   ],
   "source": [
    "install.packages(\"lubridate\")\n",
    "library(lubridate)"
   ]
  },
  {
   "cell_type": "code",
   "execution_count": 19,
   "metadata": {},
   "outputs": [],
   "source": [
    "library(DBI)\n",
    "library(RSQLite)\n",
    "options(repr.plot.width = 15, repr.plot.height = 15)\n",
    "\n"
   ]
  },
  {
   "cell_type": "code",
   "execution_count": 21,
   "metadata": {},
   "outputs": [
    {
     "name": "stderr",
     "output_type": "stream",
     "text": [
      "Warning message:\n",
      "\"package 'dplyr' was built under R version 3.6.2\"\n",
      "\n",
      "Attaching package: 'dplyr'\n",
      "\n",
      "\n",
      "The following objects are masked from 'package:lubridate':\n",
      "\n",
      "    intersect, setdiff, union\n",
      "\n",
      "\n",
      "The following objects are masked from 'package:pastecs':\n",
      "\n",
      "    first, last\n",
      "\n",
      "\n",
      "The following objects are masked from 'package:stats':\n",
      "\n",
      "    filter, lag\n",
      "\n",
      "\n",
      "The following objects are masked from 'package:base':\n",
      "\n",
      "    intersect, setdiff, setequal, union\n",
      "\n",
      "\n",
      "Warning message:\n",
      "\"package 'ggplot2' was built under R version 3.6.2\"\n"
     ]
    }
   ],
   "source": [
    "library(dplyr)\n",
    "library(ggplot2)"
   ]
  },
  {
   "cell_type": "code",
   "execution_count": 15,
   "metadata": {},
   "outputs": [],
   "source": [
    "con <- dbConnect(odbc::odbc(), .connection_string = \"DSN=BoxOffice;Trusted_Connection=yes;\", timeout = 10)"
   ]
  },
  {
   "cell_type": "code",
   "execution_count": 16,
   "metadata": {},
   "outputs": [],
   "source": [
    "movies_ff <- dbReadTable(con,\"movies_ff_v\")"
   ]
  },
  {
   "cell_type": "code",
   "execution_count": 17,
   "metadata": {},
   "outputs": [],
   "source": [
    "save(movies_ff, file = \"../data/BoxOffice_ff.RData\")"
   ]
  },
  {
   "cell_type": "code",
   "execution_count": 6,
   "metadata": {},
   "outputs": [],
   "source": [
    "load(\"../data/BoxOffice_ff.RData\")"
   ]
  },
  {
   "cell_type": "markdown",
   "metadata": {},
   "source": [
    "# Main table analysis"
   ]
  },
  {
   "cell_type": "code",
   "execution_count": 7,
   "metadata": {},
   "outputs": [
    {
     "data": {
      "text/html": [
       "<table>\n",
       "<caption>A data.frame: 14 × 85</caption>\n",
       "<thead>\n",
       "\t<tr><th></th><th scope=col>movie_id</th><th scope=col>budget</th><th scope=col>original_language</th><th scope=col>popularity</th><th scope=col>release_date</th><th scope=col>runtime</th><th scope=col>runtime_cat</th><th scope=col>revenue</th><th scope=col>sw_lang_en</th><th scope=col>sw_web_presence</th><th scope=col>...</th><th scope=col>depart_Camera_female</th><th scope=col>depart_Crew_female</th><th scope=col>depart_Custom_Mkup_female</th><th scope=col>depart_Directing_female</th><th scope=col>depart_Editing_female</th><th scope=col>depart_Lighting_female</th><th scope=col>depart_Production_female</th><th scope=col>depart_Sound_female</th><th scope=col>depart_Visual_Effects_female</th><th scope=col>depart_Writing_female</th></tr>\n",
       "\t<tr><th></th><th scope=col>&lt;dbl&gt;</th><th scope=col>&lt;dbl&gt;</th><th scope=col>&lt;lgl&gt;</th><th scope=col>&lt;dbl&gt;</th><th scope=col>&lt;lgl&gt;</th><th scope=col>&lt;dbl&gt;</th><th scope=col>&lt;lgl&gt;</th><th scope=col>&lt;dbl&gt;</th><th scope=col>&lt;dbl&gt;</th><th scope=col>&lt;dbl&gt;</th><th scope=col>...</th><th scope=col>&lt;dbl&gt;</th><th scope=col>&lt;dbl&gt;</th><th scope=col>&lt;dbl&gt;</th><th scope=col>&lt;dbl&gt;</th><th scope=col>&lt;dbl&gt;</th><th scope=col>&lt;dbl&gt;</th><th scope=col>&lt;dbl&gt;</th><th scope=col>&lt;dbl&gt;</th><th scope=col>&lt;dbl&gt;</th><th scope=col>&lt;dbl&gt;</th></tr>\n",
       "</thead>\n",
       "<tbody>\n",
       "\t<tr><th scope=row>nbr.val</th><td>7.375000e+03</td><td>7.375000e+03</td><td>NA</td><td>7.375000e+03</td><td>NA</td><td>7.370000e+03</td><td>NA</td><td>2.993000e+03</td><td>7.375000e+03</td><td>7.375000e+03</td><td>...</td><td>7.341000e+03</td><td>7.341000e+03</td><td>7.341000e+03</td><td>7.341000e+03</td><td>7.341000e+03</td><td>7.341000e+03</td><td>7.341000e+03</td><td>7.341000e+03</td><td>7.341000e+03</td><td>7.341000e+03</td></tr>\n",
       "\t<tr><th scope=row>nbr.null</th><td>0.000000e+00</td><td>2.012000e+03</td><td>NA</td><td>0.000000e+00</td><td>NA</td><td>1.900000e+01</td><td>NA</td><td>0.000000e+00</td><td>1.039000e+03</td><td>5.012000e+03</td><td>...</td><td>7.194000e+03</td><td>6.971000e+03</td><td>5.293000e+03</td><td>6.297000e+03</td><td>6.516000e+03</td><td>7.336000e+03</td><td>3.872000e+03</td><td>6.840000e+03</td><td>7.281000e+03</td><td>6.578000e+03</td></tr>\n",
       "\t<tr><th scope=row>nbr.na</th><td>0.000000e+00</td><td>0.000000e+00</td><td>NA</td><td>0.000000e+00</td><td>NA</td><td>5.000000e+00</td><td>NA</td><td>4.382000e+03</td><td>0.000000e+00</td><td>0.000000e+00</td><td>...</td><td>3.400000e+01</td><td>3.400000e+01</td><td>3.400000e+01</td><td>3.400000e+01</td><td>3.400000e+01</td><td>3.400000e+01</td><td>3.400000e+01</td><td>3.400000e+01</td><td>3.400000e+01</td><td>3.400000e+01</td></tr>\n",
       "\t<tr><th scope=row>min</th><td>1.000000e+00</td><td>0.000000e+00</td><td>NA</td><td>1.000000e-06</td><td>NA</td><td>0.000000e+00</td><td>NA</td><td>1.000000e+00</td><td>0.000000e+00</td><td>0.000000e+00</td><td>...</td><td>0.000000e+00</td><td>0.000000e+00</td><td>0.000000e+00</td><td>0.000000e+00</td><td>0.000000e+00</td><td>0.000000e+00</td><td>0.000000e+00</td><td>0.000000e+00</td><td>0.000000e+00</td><td>0.000000e+00</td></tr>\n",
       "\t<tr><th scope=row>max</th><td>7.398000e+03</td><td>3.800000e+08</td><td>NA</td><td>5.474883e+02</td><td>NA</td><td>3.380000e+02</td><td>NA</td><td>1.519558e+09</td><td>1.000000e+00</td><td>1.000000e+00</td><td>...</td><td>3.000000e+00</td><td>1.000000e+01</td><td>6.000000e+00</td><td>4.000000e+00</td><td>5.000000e+00</td><td>1.000000e+00</td><td>1.200000e+01</td><td>6.000000e+00</td><td>2.000000e+00</td><td>5.000000e+00</td></tr>\n",
       "\t<tr><th scope=row>range</th><td>7.397000e+03</td><td>3.800000e+08</td><td>NA</td><td>5.474883e+02</td><td>NA</td><td>3.380000e+02</td><td>NA</td><td>1.519558e+09</td><td>1.000000e+00</td><td>1.000000e+00</td><td>...</td><td>3.000000e+00</td><td>1.000000e+01</td><td>6.000000e+00</td><td>4.000000e+00</td><td>5.000000e+00</td><td>1.000000e+00</td><td>1.200000e+01</td><td>6.000000e+00</td><td>2.000000e+00</td><td>5.000000e+00</td></tr>\n",
       "\t<tr><th scope=row>sum</th><td>2.727365e+07</td><td>1.671666e+11</td><td>NA</td><td>6.298085e+04</td><td>NA</td><td>7.940970e+05</td><td>NA</td><td>2.001698e+11</td><td>6.336000e+03</td><td>2.363000e+03</td><td>...</td><td>1.500000e+02</td><td>4.730000e+02</td><td>2.595000e+03</td><td>1.127000e+03</td><td>8.930000e+02</td><td>5.000000e+00</td><td>6.898000e+03</td><td>5.810000e+02</td><td>6.200000e+01</td><td>9.120000e+02</td></tr>\n",
       "\t<tr><th scope=row>median</th><td>3.696000e+03</td><td>8.000000e+06</td><td>NA</td><td>7.455875e+00</td><td>NA</td><td>1.040000e+02</td><td>NA</td><td>1.692814e+07</td><td>1.000000e+00</td><td>0.000000e+00</td><td>...</td><td>0.000000e+00</td><td>0.000000e+00</td><td>0.000000e+00</td><td>0.000000e+00</td><td>0.000000e+00</td><td>0.000000e+00</td><td>0.000000e+00</td><td>0.000000e+00</td><td>0.000000e+00</td><td>0.000000e+00</td></tr>\n",
       "\t<tr><th scope=row>mean</th><td>3.698122e+03</td><td>2.266666e+07</td><td>NA</td><td>8.539777e+00</td><td>NA</td><td>1.077472e+02</td><td>NA</td><td>6.687931e+07</td><td>8.591186e-01</td><td>3.204068e-01</td><td>...</td><td>2.043318e-02</td><td>6.443264e-02</td><td>3.534941e-01</td><td>1.535213e-01</td><td>1.216456e-01</td><td>6.811061e-04</td><td>9.396540e-01</td><td>7.914453e-02</td><td>8.445716e-03</td><td>1.242338e-01</td></tr>\n",
       "\t<tr><th scope=row>SE.mean</th><td>2.488121e+01</td><td>4.306974e+05</td><td>NA</td><td>1.417873e-01</td><td>NA</td><td>2.494232e-01</td><td>NA</td><td>2.516188e+06</td><td>4.051369e-03</td><td>5.434052e-03</td><td>...</td><td>1.695701e-03</td><td>3.916534e-03</td><td>7.604155e-03</td><td>4.603667e-03</td><td>4.177571e-03</td><td>3.045169e-04</td><td>1.551609e-02</td><td>3.693372e-03</td><td>1.102343e-03</td><td>4.609141e-03</td></tr>\n",
       "\t<tr><th scope=row>CI.mean.0.95</th><td>4.877429e+01</td><td>8.442900e+05</td><td>NA</td><td>2.779436e-01</td><td>NA</td><td>4.889409e-01</td><td>NA</td><td>4.933634e+06</td><td>7.941840e-03</td><td>1.065229e-02</td><td>...</td><td>3.324060e-03</td><td>7.677532e-03</td><td>1.490633e-02</td><td>9.024509e-03</td><td>8.189240e-03</td><td>5.969406e-04</td><td>3.041599e-02</td><td>7.240070e-03</td><td>2.160908e-03</td><td>9.035240e-03</td></tr>\n",
       "\t<tr><th scope=row>var</th><td>4.565677e+06</td><td>1.368064e+15</td><td>NA</td><td>1.482643e+02</td><td>NA</td><td>4.585021e+02</td><td>NA</td><td>1.894929e+16</td><td>1.210502e-01</td><td>2.177758e-01</td><td>...</td><td>2.110831e-02</td><td>1.126054e-01</td><td>4.244800e-01</td><td>1.555833e-01</td><td>1.281159e-01</td><td>6.807349e-04</td><td>1.767339e+00</td><td>1.001386e-01</td><td>8.920486e-03</td><td>1.559535e-01</td></tr>\n",
       "\t<tr><th scope=row>std.dev</th><td>2.136744e+03</td><td>3.698735e+07</td><td>NA</td><td>1.217638e+01</td><td>NA</td><td>2.141266e+01</td><td>NA</td><td>1.376564e+08</td><td>3.479227e-01</td><td>4.666646e-01</td><td>...</td><td>1.452870e-01</td><td>3.355672e-01</td><td>6.515213e-01</td><td>3.944405e-01</td><td>3.579328e-01</td><td>2.609090e-02</td><td>1.329413e+00</td><td>3.164468e-01</td><td>9.444832e-02</td><td>3.949095e-01</td></tr>\n",
       "\t<tr><th scope=row>coef.var</th><td>5.777918e-01</td><td>1.631796e+00</td><td>NA</td><td>1.425843e+00</td><td>NA</td><td>1.987305e-01</td><td>NA</td><td>2.058281e+00</td><td>4.049763e-01</td><td>1.456475e+00</td><td>...</td><td>7.110346e+00</td><td>5.208032e+00</td><td>1.843090e+00</td><td>2.569288e+00</td><td>2.942424e+00</td><td>3.830666e+01</td><td>1.414790e+00</td><td>3.998340e+00</td><td>1.118299e+01</td><td>3.178762e+00</td></tr>\n",
       "</tbody>\n",
       "</table>\n"
      ],
      "text/latex": [
       "A data.frame: 14 × 85\n",
       "\\begin{tabular}{r|lllllllllllllllllllll}\n",
       "  & movie\\_id & budget & original\\_language & popularity & release\\_date & runtime & runtime\\_cat & revenue & sw\\_lang\\_en & sw\\_web\\_presence & ... & depart\\_Camera\\_female & depart\\_Crew\\_female & depart\\_Custom\\_Mkup\\_female & depart\\_Directing\\_female & depart\\_Editing\\_female & depart\\_Lighting\\_female & depart\\_Production\\_female & depart\\_Sound\\_female & depart\\_Visual\\_Effects\\_female & depart\\_Writing\\_female\\\\\n",
       "  & <dbl> & <dbl> & <lgl> & <dbl> & <lgl> & <dbl> & <lgl> & <dbl> & <dbl> & <dbl> & ... & <dbl> & <dbl> & <dbl> & <dbl> & <dbl> & <dbl> & <dbl> & <dbl> & <dbl> & <dbl>\\\\\n",
       "\\hline\n",
       "\tnbr.val & 7.375000e+03 & 7.375000e+03 & NA & 7.375000e+03 & NA & 7.370000e+03 & NA & 2.993000e+03 & 7.375000e+03 & 7.375000e+03 & ... & 7.341000e+03 & 7.341000e+03 & 7.341000e+03 & 7.341000e+03 & 7.341000e+03 & 7.341000e+03 & 7.341000e+03 & 7.341000e+03 & 7.341000e+03 & 7.341000e+03\\\\\n",
       "\tnbr.null & 0.000000e+00 & 2.012000e+03 & NA & 0.000000e+00 & NA & 1.900000e+01 & NA & 0.000000e+00 & 1.039000e+03 & 5.012000e+03 & ... & 7.194000e+03 & 6.971000e+03 & 5.293000e+03 & 6.297000e+03 & 6.516000e+03 & 7.336000e+03 & 3.872000e+03 & 6.840000e+03 & 7.281000e+03 & 6.578000e+03\\\\\n",
       "\tnbr.na & 0.000000e+00 & 0.000000e+00 & NA & 0.000000e+00 & NA & 5.000000e+00 & NA & 4.382000e+03 & 0.000000e+00 & 0.000000e+00 & ... & 3.400000e+01 & 3.400000e+01 & 3.400000e+01 & 3.400000e+01 & 3.400000e+01 & 3.400000e+01 & 3.400000e+01 & 3.400000e+01 & 3.400000e+01 & 3.400000e+01\\\\\n",
       "\tmin & 1.000000e+00 & 0.000000e+00 & NA & 1.000000e-06 & NA & 0.000000e+00 & NA & 1.000000e+00 & 0.000000e+00 & 0.000000e+00 & ... & 0.000000e+00 & 0.000000e+00 & 0.000000e+00 & 0.000000e+00 & 0.000000e+00 & 0.000000e+00 & 0.000000e+00 & 0.000000e+00 & 0.000000e+00 & 0.000000e+00\\\\\n",
       "\tmax & 7.398000e+03 & 3.800000e+08 & NA & 5.474883e+02 & NA & 3.380000e+02 & NA & 1.519558e+09 & 1.000000e+00 & 1.000000e+00 & ... & 3.000000e+00 & 1.000000e+01 & 6.000000e+00 & 4.000000e+00 & 5.000000e+00 & 1.000000e+00 & 1.200000e+01 & 6.000000e+00 & 2.000000e+00 & 5.000000e+00\\\\\n",
       "\trange & 7.397000e+03 & 3.800000e+08 & NA & 5.474883e+02 & NA & 3.380000e+02 & NA & 1.519558e+09 & 1.000000e+00 & 1.000000e+00 & ... & 3.000000e+00 & 1.000000e+01 & 6.000000e+00 & 4.000000e+00 & 5.000000e+00 & 1.000000e+00 & 1.200000e+01 & 6.000000e+00 & 2.000000e+00 & 5.000000e+00\\\\\n",
       "\tsum & 2.727365e+07 & 1.671666e+11 & NA & 6.298085e+04 & NA & 7.940970e+05 & NA & 2.001698e+11 & 6.336000e+03 & 2.363000e+03 & ... & 1.500000e+02 & 4.730000e+02 & 2.595000e+03 & 1.127000e+03 & 8.930000e+02 & 5.000000e+00 & 6.898000e+03 & 5.810000e+02 & 6.200000e+01 & 9.120000e+02\\\\\n",
       "\tmedian & 3.696000e+03 & 8.000000e+06 & NA & 7.455875e+00 & NA & 1.040000e+02 & NA & 1.692814e+07 & 1.000000e+00 & 0.000000e+00 & ... & 0.000000e+00 & 0.000000e+00 & 0.000000e+00 & 0.000000e+00 & 0.000000e+00 & 0.000000e+00 & 0.000000e+00 & 0.000000e+00 & 0.000000e+00 & 0.000000e+00\\\\\n",
       "\tmean & 3.698122e+03 & 2.266666e+07 & NA & 8.539777e+00 & NA & 1.077472e+02 & NA & 6.687931e+07 & 8.591186e-01 & 3.204068e-01 & ... & 2.043318e-02 & 6.443264e-02 & 3.534941e-01 & 1.535213e-01 & 1.216456e-01 & 6.811061e-04 & 9.396540e-01 & 7.914453e-02 & 8.445716e-03 & 1.242338e-01\\\\\n",
       "\tSE.mean & 2.488121e+01 & 4.306974e+05 & NA & 1.417873e-01 & NA & 2.494232e-01 & NA & 2.516188e+06 & 4.051369e-03 & 5.434052e-03 & ... & 1.695701e-03 & 3.916534e-03 & 7.604155e-03 & 4.603667e-03 & 4.177571e-03 & 3.045169e-04 & 1.551609e-02 & 3.693372e-03 & 1.102343e-03 & 4.609141e-03\\\\\n",
       "\tCI.mean.0.95 & 4.877429e+01 & 8.442900e+05 & NA & 2.779436e-01 & NA & 4.889409e-01 & NA & 4.933634e+06 & 7.941840e-03 & 1.065229e-02 & ... & 3.324060e-03 & 7.677532e-03 & 1.490633e-02 & 9.024509e-03 & 8.189240e-03 & 5.969406e-04 & 3.041599e-02 & 7.240070e-03 & 2.160908e-03 & 9.035240e-03\\\\\n",
       "\tvar & 4.565677e+06 & 1.368064e+15 & NA & 1.482643e+02 & NA & 4.585021e+02 & NA & 1.894929e+16 & 1.210502e-01 & 2.177758e-01 & ... & 2.110831e-02 & 1.126054e-01 & 4.244800e-01 & 1.555833e-01 & 1.281159e-01 & 6.807349e-04 & 1.767339e+00 & 1.001386e-01 & 8.920486e-03 & 1.559535e-01\\\\\n",
       "\tstd.dev & 2.136744e+03 & 3.698735e+07 & NA & 1.217638e+01 & NA & 2.141266e+01 & NA & 1.376564e+08 & 3.479227e-01 & 4.666646e-01 & ... & 1.452870e-01 & 3.355672e-01 & 6.515213e-01 & 3.944405e-01 & 3.579328e-01 & 2.609090e-02 & 1.329413e+00 & 3.164468e-01 & 9.444832e-02 & 3.949095e-01\\\\\n",
       "\tcoef.var & 5.777918e-01 & 1.631796e+00 & NA & 1.425843e+00 & NA & 1.987305e-01 & NA & 2.058281e+00 & 4.049763e-01 & 1.456475e+00 & ... & 7.110346e+00 & 5.208032e+00 & 1.843090e+00 & 2.569288e+00 & 2.942424e+00 & 3.830666e+01 & 1.414790e+00 & 3.998340e+00 & 1.118299e+01 & 3.178762e+00\\\\\n",
       "\\end{tabular}\n"
      ],
      "text/markdown": [
       "\n",
       "A data.frame: 14 × 85\n",
       "\n",
       "| <!--/--> | movie_id &lt;dbl&gt; | budget &lt;dbl&gt; | original_language &lt;lgl&gt; | popularity &lt;dbl&gt; | release_date &lt;lgl&gt; | runtime &lt;dbl&gt; | runtime_cat &lt;lgl&gt; | revenue &lt;dbl&gt; | sw_lang_en &lt;dbl&gt; | sw_web_presence &lt;dbl&gt; | ... ... | depart_Camera_female &lt;dbl&gt; | depart_Crew_female &lt;dbl&gt; | depart_Custom_Mkup_female &lt;dbl&gt; | depart_Directing_female &lt;dbl&gt; | depart_Editing_female &lt;dbl&gt; | depart_Lighting_female &lt;dbl&gt; | depart_Production_female &lt;dbl&gt; | depart_Sound_female &lt;dbl&gt; | depart_Visual_Effects_female &lt;dbl&gt; | depart_Writing_female &lt;dbl&gt; |\n",
       "|---|---|---|---|---|---|---|---|---|---|---|---|---|---|---|---|---|---|---|---|---|---|\n",
       "| nbr.val | 7.375000e+03 | 7.375000e+03 | NA | 7.375000e+03 | NA | 7.370000e+03 | NA | 2.993000e+03 | 7.375000e+03 | 7.375000e+03 | ... | 7.341000e+03 | 7.341000e+03 | 7.341000e+03 | 7.341000e+03 | 7.341000e+03 | 7.341000e+03 | 7.341000e+03 | 7.341000e+03 | 7.341000e+03 | 7.341000e+03 |\n",
       "| nbr.null | 0.000000e+00 | 2.012000e+03 | NA | 0.000000e+00 | NA | 1.900000e+01 | NA | 0.000000e+00 | 1.039000e+03 | 5.012000e+03 | ... | 7.194000e+03 | 6.971000e+03 | 5.293000e+03 | 6.297000e+03 | 6.516000e+03 | 7.336000e+03 | 3.872000e+03 | 6.840000e+03 | 7.281000e+03 | 6.578000e+03 |\n",
       "| nbr.na | 0.000000e+00 | 0.000000e+00 | NA | 0.000000e+00 | NA | 5.000000e+00 | NA | 4.382000e+03 | 0.000000e+00 | 0.000000e+00 | ... | 3.400000e+01 | 3.400000e+01 | 3.400000e+01 | 3.400000e+01 | 3.400000e+01 | 3.400000e+01 | 3.400000e+01 | 3.400000e+01 | 3.400000e+01 | 3.400000e+01 |\n",
       "| min | 1.000000e+00 | 0.000000e+00 | NA | 1.000000e-06 | NA | 0.000000e+00 | NA | 1.000000e+00 | 0.000000e+00 | 0.000000e+00 | ... | 0.000000e+00 | 0.000000e+00 | 0.000000e+00 | 0.000000e+00 | 0.000000e+00 | 0.000000e+00 | 0.000000e+00 | 0.000000e+00 | 0.000000e+00 | 0.000000e+00 |\n",
       "| max | 7.398000e+03 | 3.800000e+08 | NA | 5.474883e+02 | NA | 3.380000e+02 | NA | 1.519558e+09 | 1.000000e+00 | 1.000000e+00 | ... | 3.000000e+00 | 1.000000e+01 | 6.000000e+00 | 4.000000e+00 | 5.000000e+00 | 1.000000e+00 | 1.200000e+01 | 6.000000e+00 | 2.000000e+00 | 5.000000e+00 |\n",
       "| range | 7.397000e+03 | 3.800000e+08 | NA | 5.474883e+02 | NA | 3.380000e+02 | NA | 1.519558e+09 | 1.000000e+00 | 1.000000e+00 | ... | 3.000000e+00 | 1.000000e+01 | 6.000000e+00 | 4.000000e+00 | 5.000000e+00 | 1.000000e+00 | 1.200000e+01 | 6.000000e+00 | 2.000000e+00 | 5.000000e+00 |\n",
       "| sum | 2.727365e+07 | 1.671666e+11 | NA | 6.298085e+04 | NA | 7.940970e+05 | NA | 2.001698e+11 | 6.336000e+03 | 2.363000e+03 | ... | 1.500000e+02 | 4.730000e+02 | 2.595000e+03 | 1.127000e+03 | 8.930000e+02 | 5.000000e+00 | 6.898000e+03 | 5.810000e+02 | 6.200000e+01 | 9.120000e+02 |\n",
       "| median | 3.696000e+03 | 8.000000e+06 | NA | 7.455875e+00 | NA | 1.040000e+02 | NA | 1.692814e+07 | 1.000000e+00 | 0.000000e+00 | ... | 0.000000e+00 | 0.000000e+00 | 0.000000e+00 | 0.000000e+00 | 0.000000e+00 | 0.000000e+00 | 0.000000e+00 | 0.000000e+00 | 0.000000e+00 | 0.000000e+00 |\n",
       "| mean | 3.698122e+03 | 2.266666e+07 | NA | 8.539777e+00 | NA | 1.077472e+02 | NA | 6.687931e+07 | 8.591186e-01 | 3.204068e-01 | ... | 2.043318e-02 | 6.443264e-02 | 3.534941e-01 | 1.535213e-01 | 1.216456e-01 | 6.811061e-04 | 9.396540e-01 | 7.914453e-02 | 8.445716e-03 | 1.242338e-01 |\n",
       "| SE.mean | 2.488121e+01 | 4.306974e+05 | NA | 1.417873e-01 | NA | 2.494232e-01 | NA | 2.516188e+06 | 4.051369e-03 | 5.434052e-03 | ... | 1.695701e-03 | 3.916534e-03 | 7.604155e-03 | 4.603667e-03 | 4.177571e-03 | 3.045169e-04 | 1.551609e-02 | 3.693372e-03 | 1.102343e-03 | 4.609141e-03 |\n",
       "| CI.mean.0.95 | 4.877429e+01 | 8.442900e+05 | NA | 2.779436e-01 | NA | 4.889409e-01 | NA | 4.933634e+06 | 7.941840e-03 | 1.065229e-02 | ... | 3.324060e-03 | 7.677532e-03 | 1.490633e-02 | 9.024509e-03 | 8.189240e-03 | 5.969406e-04 | 3.041599e-02 | 7.240070e-03 | 2.160908e-03 | 9.035240e-03 |\n",
       "| var | 4.565677e+06 | 1.368064e+15 | NA | 1.482643e+02 | NA | 4.585021e+02 | NA | 1.894929e+16 | 1.210502e-01 | 2.177758e-01 | ... | 2.110831e-02 | 1.126054e-01 | 4.244800e-01 | 1.555833e-01 | 1.281159e-01 | 6.807349e-04 | 1.767339e+00 | 1.001386e-01 | 8.920486e-03 | 1.559535e-01 |\n",
       "| std.dev | 2.136744e+03 | 3.698735e+07 | NA | 1.217638e+01 | NA | 2.141266e+01 | NA | 1.376564e+08 | 3.479227e-01 | 4.666646e-01 | ... | 1.452870e-01 | 3.355672e-01 | 6.515213e-01 | 3.944405e-01 | 3.579328e-01 | 2.609090e-02 | 1.329413e+00 | 3.164468e-01 | 9.444832e-02 | 3.949095e-01 |\n",
       "| coef.var | 5.777918e-01 | 1.631796e+00 | NA | 1.425843e+00 | NA | 1.987305e-01 | NA | 2.058281e+00 | 4.049763e-01 | 1.456475e+00 | ... | 7.110346e+00 | 5.208032e+00 | 1.843090e+00 | 2.569288e+00 | 2.942424e+00 | 3.830666e+01 | 1.414790e+00 | 3.998340e+00 | 1.118299e+01 | 3.178762e+00 |\n",
       "\n"
      ],
      "text/plain": [
       "             movie_id     budget       original_language popularity  \n",
       "nbr.val      7.375000e+03 7.375000e+03 NA                7.375000e+03\n",
       "nbr.null     0.000000e+00 2.012000e+03 NA                0.000000e+00\n",
       "nbr.na       0.000000e+00 0.000000e+00 NA                0.000000e+00\n",
       "min          1.000000e+00 0.000000e+00 NA                1.000000e-06\n",
       "max          7.398000e+03 3.800000e+08 NA                5.474883e+02\n",
       "range        7.397000e+03 3.800000e+08 NA                5.474883e+02\n",
       "sum          2.727365e+07 1.671666e+11 NA                6.298085e+04\n",
       "median       3.696000e+03 8.000000e+06 NA                7.455875e+00\n",
       "mean         3.698122e+03 2.266666e+07 NA                8.539777e+00\n",
       "SE.mean      2.488121e+01 4.306974e+05 NA                1.417873e-01\n",
       "CI.mean.0.95 4.877429e+01 8.442900e+05 NA                2.779436e-01\n",
       "var          4.565677e+06 1.368064e+15 NA                1.482643e+02\n",
       "std.dev      2.136744e+03 3.698735e+07 NA                1.217638e+01\n",
       "coef.var     5.777918e-01 1.631796e+00 NA                1.425843e+00\n",
       "             release_date runtime      runtime_cat revenue      sw_lang_en  \n",
       "nbr.val      NA           7.370000e+03 NA          2.993000e+03 7.375000e+03\n",
       "nbr.null     NA           1.900000e+01 NA          0.000000e+00 1.039000e+03\n",
       "nbr.na       NA           5.000000e+00 NA          4.382000e+03 0.000000e+00\n",
       "min          NA           0.000000e+00 NA          1.000000e+00 0.000000e+00\n",
       "max          NA           3.380000e+02 NA          1.519558e+09 1.000000e+00\n",
       "range        NA           3.380000e+02 NA          1.519558e+09 1.000000e+00\n",
       "sum          NA           7.940970e+05 NA          2.001698e+11 6.336000e+03\n",
       "median       NA           1.040000e+02 NA          1.692814e+07 1.000000e+00\n",
       "mean         NA           1.077472e+02 NA          6.687931e+07 8.591186e-01\n",
       "SE.mean      NA           2.494232e-01 NA          2.516188e+06 4.051369e-03\n",
       "CI.mean.0.95 NA           4.889409e-01 NA          4.933634e+06 7.941840e-03\n",
       "var          NA           4.585021e+02 NA          1.894929e+16 1.210502e-01\n",
       "std.dev      NA           2.141266e+01 NA          1.376564e+08 3.479227e-01\n",
       "coef.var     NA           1.987305e-01 NA          2.058281e+00 4.049763e-01\n",
       "             sw_web_presence ... depart_Camera_female depart_Crew_female\n",
       "nbr.val      7.375000e+03    ... 7.341000e+03         7.341000e+03      \n",
       "nbr.null     5.012000e+03    ... 7.194000e+03         6.971000e+03      \n",
       "nbr.na       0.000000e+00    ... 3.400000e+01         3.400000e+01      \n",
       "min          0.000000e+00    ... 0.000000e+00         0.000000e+00      \n",
       "max          1.000000e+00    ... 3.000000e+00         1.000000e+01      \n",
       "range        1.000000e+00    ... 3.000000e+00         1.000000e+01      \n",
       "sum          2.363000e+03    ... 1.500000e+02         4.730000e+02      \n",
       "median       0.000000e+00    ... 0.000000e+00         0.000000e+00      \n",
       "mean         3.204068e-01    ... 2.043318e-02         6.443264e-02      \n",
       "SE.mean      5.434052e-03    ... 1.695701e-03         3.916534e-03      \n",
       "CI.mean.0.95 1.065229e-02    ... 3.324060e-03         7.677532e-03      \n",
       "var          2.177758e-01    ... 2.110831e-02         1.126054e-01      \n",
       "std.dev      4.666646e-01    ... 1.452870e-01         3.355672e-01      \n",
       "coef.var     1.456475e+00    ... 7.110346e+00         5.208032e+00      \n",
       "             depart_Custom_Mkup_female depart_Directing_female\n",
       "nbr.val      7.341000e+03              7.341000e+03           \n",
       "nbr.null     5.293000e+03              6.297000e+03           \n",
       "nbr.na       3.400000e+01              3.400000e+01           \n",
       "min          0.000000e+00              0.000000e+00           \n",
       "max          6.000000e+00              4.000000e+00           \n",
       "range        6.000000e+00              4.000000e+00           \n",
       "sum          2.595000e+03              1.127000e+03           \n",
       "median       0.000000e+00              0.000000e+00           \n",
       "mean         3.534941e-01              1.535213e-01           \n",
       "SE.mean      7.604155e-03              4.603667e-03           \n",
       "CI.mean.0.95 1.490633e-02              9.024509e-03           \n",
       "var          4.244800e-01              1.555833e-01           \n",
       "std.dev      6.515213e-01              3.944405e-01           \n",
       "coef.var     1.843090e+00              2.569288e+00           \n",
       "             depart_Editing_female depart_Lighting_female\n",
       "nbr.val      7.341000e+03          7.341000e+03          \n",
       "nbr.null     6.516000e+03          7.336000e+03          \n",
       "nbr.na       3.400000e+01          3.400000e+01          \n",
       "min          0.000000e+00          0.000000e+00          \n",
       "max          5.000000e+00          1.000000e+00          \n",
       "range        5.000000e+00          1.000000e+00          \n",
       "sum          8.930000e+02          5.000000e+00          \n",
       "median       0.000000e+00          0.000000e+00          \n",
       "mean         1.216456e-01          6.811061e-04          \n",
       "SE.mean      4.177571e-03          3.045169e-04          \n",
       "CI.mean.0.95 8.189240e-03          5.969406e-04          \n",
       "var          1.281159e-01          6.807349e-04          \n",
       "std.dev      3.579328e-01          2.609090e-02          \n",
       "coef.var     2.942424e+00          3.830666e+01          \n",
       "             depart_Production_female depart_Sound_female\n",
       "nbr.val      7.341000e+03             7.341000e+03       \n",
       "nbr.null     3.872000e+03             6.840000e+03       \n",
       "nbr.na       3.400000e+01             3.400000e+01       \n",
       "min          0.000000e+00             0.000000e+00       \n",
       "max          1.200000e+01             6.000000e+00       \n",
       "range        1.200000e+01             6.000000e+00       \n",
       "sum          6.898000e+03             5.810000e+02       \n",
       "median       0.000000e+00             0.000000e+00       \n",
       "mean         9.396540e-01             7.914453e-02       \n",
       "SE.mean      1.551609e-02             3.693372e-03       \n",
       "CI.mean.0.95 3.041599e-02             7.240070e-03       \n",
       "var          1.767339e+00             1.001386e-01       \n",
       "std.dev      1.329413e+00             3.164468e-01       \n",
       "coef.var     1.414790e+00             3.998340e+00       \n",
       "             depart_Visual_Effects_female depart_Writing_female\n",
       "nbr.val      7.341000e+03                 7.341000e+03         \n",
       "nbr.null     7.281000e+03                 6.578000e+03         \n",
       "nbr.na       3.400000e+01                 3.400000e+01         \n",
       "min          0.000000e+00                 0.000000e+00         \n",
       "max          2.000000e+00                 5.000000e+00         \n",
       "range        2.000000e+00                 5.000000e+00         \n",
       "sum          6.200000e+01                 9.120000e+02         \n",
       "median       0.000000e+00                 0.000000e+00         \n",
       "mean         8.445716e-03                 1.242338e-01         \n",
       "SE.mean      1.102343e-03                 4.609141e-03         \n",
       "CI.mean.0.95 2.160908e-03                 9.035240e-03         \n",
       "var          8.920486e-03                 1.559535e-01         \n",
       "std.dev      9.444832e-02                 3.949095e-01         \n",
       "coef.var     1.118299e+01                 3.178762e+00         "
      ]
     },
     "metadata": {},
     "output_type": "display_data"
    },
    {
     "data": {
      "text/plain": [
       "    movie_id        budget          original_language    popularity     \n",
       " Min.   :   1   Min.   :        0   Length:7375        Min.   :  0.000  \n",
       " 1st Qu.:1848   1st Qu.:        0   Class :character   1st Qu.:  3.970  \n",
       " Median :3696   Median :  8000000   Mode  :character   Median :  7.456  \n",
       " Mean   :3698   Mean   : 22666657                      Mean   :  8.540  \n",
       " 3rd Qu.:5550   3rd Qu.: 29000000                      3rd Qu.: 10.932  \n",
       " Max.   :7398   Max.   :380000000                      Max.   :547.488  \n",
       "                                                                        \n",
       " release_date          runtime      runtime_cat           revenue         \n",
       " Length:7375        Min.   :  0.0   Length:7375        Min.   :1.000e+00  \n",
       " Class :character   1st Qu.: 94.0   Class :character   1st Qu.:2.405e+06  \n",
       " Mode  :character   Median :104.0   Mode  :character   Median :1.693e+07  \n",
       "                    Mean   :107.7                      Mean   :6.688e+07  \n",
       "                    3rd Qu.:118.0                      3rd Qu.:6.906e+07  \n",
       "                    Max.   :338.0                      Max.   :1.520e+09  \n",
       "                    NA's   :5                          NA's   :4382       \n",
       "   sw_lang_en     sw_web_presence  sw_has_poster      sw_tagline    \n",
       " Min.   :0.0000   Min.   :0.0000   Min.   :0.0000   Min.   :0.0000  \n",
       " 1st Qu.:1.0000   1st Qu.:0.0000   1st Qu.:1.0000   1st Qu.:1.0000  \n",
       " Median :1.0000   Median :0.0000   Median :1.0000   Median :1.0000  \n",
       " Mean   :0.8591   Mean   :0.3204   Mean   :0.9997   Mean   :0.8045  \n",
       " 3rd Qu.:1.0000   3rd Qu.:1.0000   3rd Qu.:1.0000   3rd Qu.:1.0000  \n",
       " Max.   :1.0000   Max.   :1.0000   Max.   :1.0000   Max.   :1.0000  \n",
       "                                                                    \n",
       "  keyword_cnt       release_year  release_month    high_release_month\n",
       " Min.   :  0.000   Min.   :1918   Min.   : 1.000   Min.   :0.0000    \n",
       " 1st Qu.:  3.000   1st Qu.:1992   1st Qu.: 4.000   1st Qu.:0.0000    \n",
       " Median :  6.000   Median :2004   Median : 7.000   Median :0.0000    \n",
       " Mean   :  7.265   Mean   :2000   Mean   : 6.844   Mean   :0.3997    \n",
       " 3rd Qu.: 10.000   3rd Qu.:2011   3rd Qu.:10.000   3rd Qu.:1.0000    \n",
       " Max.   :149.000   Max.   :2017   Max.   :12.000   Max.   :1.0000    \n",
       "                   NA's   :1      NA's   :1                          \n",
       "  release_day     seasonality        sw_collection     producers_cnt   \n",
       " Min.   : 1.00   Min.   :-50746591   Min.   :0.00000   Min.   : 1.000  \n",
       " 1st Qu.: 8.00   1st Qu.:-33273015   1st Qu.:0.00000   1st Qu.: 1.000  \n",
       " Median :15.00   Median :-15309317   Median :0.00000   Median : 2.000  \n",
       " Mean   :15.25   Mean   : -1337484   Mean   :0.02942   Mean   : 2.908  \n",
       " 3rd Qu.:22.00   3rd Qu.: 32322910   3rd Qu.:0.00000   3rd Qu.: 4.000  \n",
       " Max.   :31.00   Max.   : 74205073   Max.   :2.00000   Max.   :26.000  \n",
       " NA's   :1       NA's   :1                             NA's   :395     \n",
       " countries_cnt       lang_US          lang_FR           lang_RU       \n",
       " Min.   : 0.000   Min.   :0.0000   Min.   :0.00000   Min.   :0.00000  \n",
       " 1st Qu.: 1.000   1st Qu.:1.0000   1st Qu.:0.00000   1st Qu.:0.00000  \n",
       " Median : 1.000   Median :1.0000   Median :0.00000   Median :0.00000  \n",
       " Mean   : 1.335   Mean   :0.8735   Mean   :0.09641   Mean   :0.04854  \n",
       " 3rd Qu.: 1.000   3rd Qu.:1.0000   3rd Qu.:0.00000   3rd Qu.:0.00000  \n",
       " Max.   :12.000   Max.   :1.0000   Max.   :1.00000   Max.   :1.00000  \n",
       "                                                                      \n",
       "    lang_ES          lang_JA         keywords_cnt     actor0_movies_cnt\n",
       " Min.   :0.0000   Min.   :0.00000   Min.   :  0.000   Min.   : 0.00    \n",
       " 1st Qu.:0.0000   1st Qu.:0.00000   1st Qu.:  3.000   1st Qu.: 0.00    \n",
       " Median :0.0000   Median :0.00000   Median :  6.000   Median : 4.00    \n",
       " Mean   :0.0758   Mean   :0.02766   Mean   :  7.265   Mean   : 7.19    \n",
       " 3rd Qu.:0.0000   3rd Qu.:0.00000   3rd Qu.: 10.000   3rd Qu.:11.00    \n",
       " Max.   :1.0000   Max.   :1.00000   Max.   :149.000   Max.   :65.00    \n",
       "                                                                       \n",
       " actor0_movies_5y_cnt actor1_movies_cnt actor1_movies_5y_cnt actor2_movies_cnt\n",
       " Min.   : 0.000       Min.   : 0.000    Min.   : 0.000       Min.   : 0.000   \n",
       " 1st Qu.: 0.000       1st Qu.: 0.000    1st Qu.: 0.000       1st Qu.: 0.000   \n",
       " Median : 2.000       Median : 2.000    Median : 1.000       Median : 2.000   \n",
       " Mean   : 2.769       Mean   : 5.405    Mean   : 2.261       Mean   : 4.773   \n",
       " 3rd Qu.: 5.000       3rd Qu.: 8.000    3rd Qu.: 4.000       3rd Qu.: 7.000   \n",
       " Max.   :16.000       Max.   :67.000    Max.   :17.000       Max.   :68.000   \n",
       "                                                                              \n",
       " actor2_movies_5y_cnt sw_female_actor0 sw_female_actor1 sw_female_actor2\n",
       " Min.   : 0.000       Min.   :0.0000   Min.   :0.0000   Min.   :0.0000  \n",
       " 1st Qu.: 0.000       1st Qu.:0.0000   1st Qu.:0.0000   1st Qu.:0.0000  \n",
       " Median : 1.000       Median :0.0000   Median :0.0000   Median :0.0000  \n",
       " Mean   : 1.915       Mean   :0.2333   Mean   :0.3792   Mean   :0.3379  \n",
       " 3rd Qu.: 3.000       3rd Qu.:0.0000   3rd Qu.:1.0000   3rd Qu.:1.0000  \n",
       " Max.   :15.000       Max.   :1.0000   Max.   :1.0000   Max.   :1.0000  \n",
       "                      NA's   :934      NA's   :782      NA's   :788     \n",
       " sw_male_actor0   sw_male_actor1   sw_male_actor2   actor0_prev_revenue\n",
       " Min.   :0.0000   Min.   :0.0000   Min.   :0.0000   Min.   :1.000e+00  \n",
       " 1st Qu.:0.0000   1st Qu.:0.0000   1st Qu.:0.0000   1st Qu.:4.426e+07  \n",
       " Median :1.0000   Median :1.0000   Median :1.0000   Median :1.515e+08  \n",
       " Mean   :0.6941   Mean   :0.5171   Mean   :0.5436   Mean   :2.233e+08  \n",
       " 3rd Qu.:1.0000   3rd Qu.:1.0000   3rd Qu.:1.0000   3rd Qu.:3.113e+08  \n",
       " Max.   :1.0000   Max.   :1.0000   Max.   :1.0000   Max.   :1.520e+09  \n",
       " NA's   :934      NA's   :782      NA's   :788      NA's   :2752       \n",
       " actor1_prev_revenue actor2_prev_revenue director_movies_cnt\n",
       " Min.   :1.000e+00   Min.   :1.000e+00   Min.   : 0.000     \n",
       " 1st Qu.:3.511e+07   1st Qu.:3.086e+07   1st Qu.: 0.000     \n",
       " Median :1.256e+08   Median :1.109e+08   Median : 1.000     \n",
       " Mean   :2.052e+08   Mean   :1.957e+08   Mean   : 1.952     \n",
       " 3rd Qu.:2.684e+08   3rd Qu.:2.506e+08   3rd Qu.: 3.000     \n",
       " Max.   :1.520e+09   Max.   :1.520e+09   Max.   :29.000     \n",
       " NA's   :3201        NA's   :3423                           \n",
       " director_movies_5y_cnt genre_adventure  genre_fantasy     genre_animation \n",
       " Min.   :0.0000         Min.   :0.0000   Min.   :0.00000   Min.   :0.0000  \n",
       " 1st Qu.:0.0000         1st Qu.:0.0000   1st Qu.:0.00000   1st Qu.:0.0000  \n",
       " Median :0.0000         Median :0.0000   Median :0.00000   Median :0.0000  \n",
       " Mean   :0.6496         Mean   :0.1513   Mean   :0.08515   Mean   :0.0518  \n",
       " 3rd Qu.:1.0000         3rd Qu.:0.0000   3rd Qu.:0.00000   3rd Qu.:0.0000  \n",
       " Max.   :6.0000         Max.   :1.0000   Max.   :1.00000   Max.   :1.0000  \n",
       "                                                                           \n",
       "  genre_drama      genre_horror      genre_action     genre_comedy   \n",
       " Min.   :0.0000   Min.   :0.00000   Min.   :0.0000   Min.   :0.0000  \n",
       " 1st Qu.:0.0000   1st Qu.:0.00000   1st Qu.:0.0000   1st Qu.:0.0000  \n",
       " Median :0.0000   Median :0.00000   Median :0.0000   Median :0.0000  \n",
       " Mean   :0.4984   Mean   :0.09966   Mean   :0.2353   Mean   :0.3532  \n",
       " 3rd Qu.:1.0000   3rd Qu.:0.00000   3rd Qu.:0.0000   3rd Qu.:1.0000  \n",
       " Max.   :1.0000   Max.   :1.00000   Max.   :1.0000   Max.   :1.0000  \n",
       "                                                                     \n",
       " genre_history  genre_western     genre_thriller    genre_crime   \n",
       " Min.   :0.00   Min.   :0.00000   Min.   :0.0000   Min.   :0.000  \n",
       " 1st Qu.:0.00   1st Qu.:0.00000   1st Qu.:0.0000   1st Qu.:0.000  \n",
       " Median :0.00   Median :0.00000   Median :0.0000   Median :0.000  \n",
       " Mean   :0.04   Mean   :0.01586   Mean   :0.2534   Mean   :0.147  \n",
       " 3rd Qu.:0.00   3rd Qu.:0.00000   3rd Qu.:1.0000   3rd Qu.:0.000  \n",
       " Max.   :1.00   Max.   :1.00000   Max.   :1.0000   Max.   :1.000  \n",
       "                                                                  \n",
       " genre_documentary genre_science_fiction genre_mystery      genre_music    \n",
       " Min.   :0.00000   Min.   :0.0000        Min.   :0.00000   Min.   :0.0000  \n",
       " 1st Qu.:0.00000   1st Qu.:0.0000        1st Qu.:0.00000   1st Qu.:0.0000  \n",
       " Median :0.00000   Median :0.0000        Median :0.00000   Median :0.0000  \n",
       " Mean   :0.02997   Mean   :0.1009        Mean   :0.07458   Mean   :0.0362  \n",
       " 3rd Qu.:0.00000   3rd Qu.:0.0000        3rd Qu.:0.00000   3rd Qu.:0.0000  \n",
       " Max.   :1.00000   Max.   :1.0000        Max.   :1.00000   Max.   :1.0000  \n",
       "                                                                           \n",
       " genre_romance     genre_family       genre_war       genre_foreign    \n",
       " Min.   :0.0000   Min.   :0.00000   Min.   :0.00000   Min.   :0.00000  \n",
       " 1st Qu.:0.0000   1st Qu.:0.00000   1st Qu.:0.00000   1st Qu.:0.00000  \n",
       " Median :0.0000   Median :0.00000   Median :0.00000   Median :0.00000  \n",
       " Mean   :0.1946   Mean   :0.09153   Mean   :0.03295   Mean   :0.01139  \n",
       " 3rd Qu.:0.0000   3rd Qu.:0.00000   3rd Qu.:0.00000   3rd Qu.:0.00000  \n",
       " Max.   :1.0000   Max.   :1.00000   Max.   :1.00000   Max.   :1.00000  \n",
       "                                                                       \n",
       "   depart_Art     depart_Camera     depart_Crew      depart_Custom_Mkup\n",
       " Min.   : 0.000   Min.   : 0.000   Min.   :  0.000   Min.   : 0.000    \n",
       " 1st Qu.: 0.000   1st Qu.: 0.000   1st Qu.:  0.000   1st Qu.: 0.000    \n",
       " Median : 1.000   Median : 1.000   Median :  0.000   Median : 1.000    \n",
       " Mean   : 2.707   Mean   : 1.802   Mean   :  2.388   Mean   : 2.074    \n",
       " 3rd Qu.: 3.000   3rd Qu.: 2.000   3rd Qu.:  2.000   3rd Qu.: 2.000    \n",
       " Max.   :36.000   Max.   :24.000   Max.   :119.000   Max.   :33.000    \n",
       " NA's   :34       NA's   :34       NA's   :34        NA's   :34        \n",
       " depart_Directing depart_Editing   depart_Lighting   depart_Production\n",
       " Min.   : 0.000   Min.   : 0.000   Min.   : 0.0000   Min.   : 0.000   \n",
       " 1st Qu.: 1.000   1st Qu.: 0.000   1st Qu.: 0.0000   1st Qu.: 1.000   \n",
       " Median : 1.000   Median : 1.000   Median : 0.0000   Median : 4.000   \n",
       " Mean   : 1.665   Mean   : 1.516   Mean   : 0.4262   Mean   : 5.301   \n",
       " 3rd Qu.: 2.000   3rd Qu.: 2.000   3rd Qu.: 0.0000   3rd Qu.: 8.000   \n",
       " Max.   :30.000   Max.   :21.000   Max.   :18.0000   Max.   :38.000   \n",
       " NA's   :34       NA's   :34       NA's   :34        NA's   :34       \n",
       "  depart_Sound    depart_Visual_Effects depart_Writing   depart_Art_female\n",
       " Min.   : 0.000   Min.   : 0.00         Min.   : 0.000   Min.   :0.0000   \n",
       " 1st Qu.: 1.000   1st Qu.: 0.00         1st Qu.: 1.000   1st Qu.:0.0000   \n",
       " Median : 1.000   Median : 0.00         Median : 2.000   Median :0.0000   \n",
       " Mean   : 3.064   Mean   : 1.29         Mean   : 2.222   Mean   :0.2351   \n",
       " 3rd Qu.: 3.000   3rd Qu.: 0.00         3rd Qu.: 3.000   3rd Qu.:0.0000   \n",
       " Max.   :40.000   Max.   :89.00         Max.   :23.000   Max.   :7.0000   \n",
       " NA's   :34       NA's   :34            NA's   :34       NA's   :34       \n",
       " depart_Camera_female depart_Crew_female depart_Custom_Mkup_female\n",
       " Min.   :0.00000      Min.   : 0.00000   Min.   :0.0000           \n",
       " 1st Qu.:0.00000      1st Qu.: 0.00000   1st Qu.:0.0000           \n",
       " Median :0.00000      Median : 0.00000   Median :0.0000           \n",
       " Mean   :0.02043      Mean   : 0.06443   Mean   :0.3535           \n",
       " 3rd Qu.:0.00000      3rd Qu.: 0.00000   3rd Qu.:1.0000           \n",
       " Max.   :3.00000      Max.   :10.00000   Max.   :6.0000           \n",
       " NA's   :34           NA's   :34         NA's   :34               \n",
       " depart_Directing_female depart_Editing_female depart_Lighting_female\n",
       " Min.   :0.0000          Min.   :0.0000        Min.   :0.00000       \n",
       " 1st Qu.:0.0000          1st Qu.:0.0000        1st Qu.:0.00000       \n",
       " Median :0.0000          Median :0.0000        Median :0.00000       \n",
       " Mean   :0.1535          Mean   :0.1216        Mean   :0.00068       \n",
       " 3rd Qu.:0.0000          3rd Qu.:0.0000        3rd Qu.:0.00000       \n",
       " Max.   :4.0000          Max.   :5.0000        Max.   :1.00000       \n",
       " NA's   :34              NA's   :34            NA's   :34            \n",
       " depart_Production_female depart_Sound_female depart_Visual_Effects_female\n",
       " Min.   : 0.0000          Min.   :0.00000     Min.   :0.00000             \n",
       " 1st Qu.: 0.0000          1st Qu.:0.00000     1st Qu.:0.00000             \n",
       " Median : 0.0000          Median :0.00000     Median :0.00000             \n",
       " Mean   : 0.9396          Mean   :0.07914     Mean   :0.00845             \n",
       " 3rd Qu.: 2.0000          3rd Qu.:0.00000     3rd Qu.:0.00000             \n",
       " Max.   :12.0000          Max.   :6.00000     Max.   :2.00000             \n",
       " NA's   :34               NA's   :34          NA's   :34                  \n",
       " depart_Writing_female\n",
       " Min.   :0.0000       \n",
       " 1st Qu.:0.0000       \n",
       " Median :0.0000       \n",
       " Mean   :0.1242       \n",
       " 3rd Qu.:0.0000       \n",
       " Max.   :5.0000       \n",
       " NA's   :34           "
      ]
     },
     "metadata": {},
     "output_type": "display_data"
    }
   ],
   "source": [
    "stat.desc(movies_ff)\n",
    "summary(movies_ff)"
   ]
  },
  {
   "cell_type": "code",
   "execution_count": 6,
   "metadata": {},
   "outputs": [
    {
     "data": {
      "text/plain": [
       "\n",
       "  af   ar   bm   bn   ca   cn   cs   da   de   el   en   es   fa   fi   fr   he \n",
       "   1    1    2    3    1   41    3   17   49    3 6336   95    5    3  199    6 \n",
       "  hi   hu   id   is   it   ja   ka   kn   ko   ml   mr   nb   nl   no   pl   pt \n",
       " 118    4    3    1   55   90    1    1   48   12    1    1   11    5    5   13 \n",
       "  ro   ru   sr   sv   ta   te   th   tr   ur   vi   xx   zh \n",
       "   8  105    3   20   31    9    5    9    2    1    2   46 "
      ]
     },
     "metadata": {},
     "output_type": "display_data"
    }
   ],
   "source": [
    "### frequencies of original language\n",
    "table(movies_ff$original_language)\n"
   ]
  },
  {
   "cell_type": "code",
   "execution_count": 7,
   "metadata": {},
   "outputs": [
    {
     "ename": "ERROR",
     "evalue": "Error in ggplot(data = movies_ff): could not find function \"ggplot\"\n",
     "output_type": "error",
     "traceback": [
      "Error in ggplot(data = movies_ff): could not find function \"ggplot\"\nTraceback:\n"
     ]
    }
   ],
   "source": [
    "### budget\n",
    "ggplot(data=movies_ff) +\n",
    "    geom_density(aes(budget))"
   ]
  },
  {
   "cell_type": "code",
   "execution_count": 10,
   "metadata": {},
   "outputs": [
    {
     "name": "stderr",
     "output_type": "stream",
     "text": [
      "Warning message:\n",
      "\"Removed 5 rows containing non-finite values (stat_density).\"\n"
     ]
    },
    {
     "data": {
      "image/png": "[encoded data removed]",
      "text/plain": [
       "plot without title"
      ]
     },
     "metadata": {
      "image/png": {
       "height": 900,
       "width": 900
      }
     },
     "output_type": "display_data"
    }
   ],
   "source": [
    "### runtime\n",
    "ggplot(data=movies_ff) +\n",
    "   geom_density(aes(x=runtime))"
   ]
  },
  {
   "cell_type": "code",
   "execution_count": 8,
   "metadata": {},
   "outputs": [
    {
     "ename": "ERROR",
     "evalue": "Error in movies_ff %>% group_by(original_language) %>% summarise(n = n()) %>% : could not find function \"%>%\"\n",
     "output_type": "error",
     "traceback": [
      "Error in movies_ff %>% group_by(original_language) %>% summarise(n = n()) %>% : could not find function \"%>%\"\nTraceback:\n"
     ]
    }
   ],
   "source": [
    "#language original\n",
    "lang_count<- movies_ff %>% group_by(original_language) %>% summarise(n=n()) %>% arrange(desc(n)) %>% top_n(7)\n",
    "lang_count\n",
    "barplot(lang_count$n,main=\"Number of movies by language\",legend.text = lang_count[[1]], names.arg = lang_count[[1]] ,xlab=\"language\",ylab=\"# movies\")"
   ]
  },
  {
   "cell_type": "code",
   "execution_count": 14,
   "metadata": {},
   "outputs": [
    {
     "data": {
      "image/png": "[encoded data removed]",
      "text/plain": [
       "Plot with title \"Number of movies by runtime category\""
      ]
     },
     "metadata": {
      "image/png": {
       "height": 900,
       "width": 900
      }
     },
     "output_type": "display_data"
    }
   ],
   "source": [
    "\n",
    "#runtime category\n",
    "runtime_count <- movies_ff %>% group_by(runtime_cat) %>% summarise(n=n()) %>% arrange(desc(n))\n",
    "barplot(runtime_count$n,main=\"Number of movies by runtime category\",legend.text = runtime_count[[1]], names.arg = runtime_count[[1]] ,xlab=\"category\",ylab=\"# movies\")"
   ]
  },
  {
   "cell_type": "code",
   "execution_count": 16,
   "metadata": {},
   "outputs": [
    {
     "data": {
      "image/png": "[encoded data removed]",
      "text/plain": [
       "plot without title"
      ]
     },
     "metadata": {
      "image/png": {
       "height": 900,
       "width": 900
      }
     },
     "output_type": "display_data"
    }
   ],
   "source": [
    "### popularity\n",
    "ggplot(data=movies_ff) +\n",
    "    geom_density(aes(popularity))"
   ]
  },
  {
   "cell_type": "code",
   "execution_count": 18,
   "metadata": {},
   "outputs": [
    {
     "data": {
      "text/plain": [
       "\n",
       "1918 1921 1922 1923 1924 1925 1926 1927 1928 1929 1930 1931 1932 1933 1934 1935 \n",
       "   1    1    1    1    1    6    2    3    5    1    2    4    3    6    3    5 \n",
       "1936 1937 1938 1939 1940 1941 1942 1943 1944 1945 1946 1947 1948 1949 1950 1951 \n",
       "   6    2    3    6    5    6    6    2    7    6    4    2    9    5    6    9 \n",
       "1952 1953 1954 1955 1956 1957 1958 1959 1960 1961 1962 1963 1964 1965 1966 1967 \n",
       "   7   11   14   10   13    7    8   10   14   16   15   15   14   12   15   24 \n",
       "1968 1969 1970 1971 1972 1973 1974 1975 1976 1977 1978 1979 1980 1981 1982 1983 \n",
       "  23   15   23   20   16   23   19   25   22   29   43   40   59   65   67   79 \n",
       "1984 1985 1986 1987 1988 1989 1990 1991 1992 1993 1994 1995 1996 1997 1998 1999 \n",
       "  78   94  102  112  132  102  104  116  116  138  123  134  138  158  152  158 \n",
       "2000 2001 2002 2003 2004 2005 2006 2007 2008 2009 2010 2011 2012 2013 2014 2015 \n",
       " 155  175  197  178  208  234  280  257  265  284  304  311  304  334  319  312 \n",
       "2016 2017 \n",
       " 300   98 "
      ]
     },
     "metadata": {},
     "output_type": "display_data"
    },
    {
     "data": {
      "image/png": "[encoded data removed]",
      "text/plain": [
       "Plot with title \"Movies by year\""
      ]
     },
     "metadata": {
      "image/png": {
       "height": 900,
       "width": 900
      }
     },
     "output_type": "display_data"
    }
   ],
   "source": [
    "#release date\n",
    "table(year(movies_ff$release_date))\n",
    "plot(table(year(movies_ff$release_date)),ylab=\"Number of movies\",xlab=\"year\",main=\"Movies by year\")"
   ]
  },
  {
   "cell_type": "code",
   "execution_count": 21,
   "metadata": {},
   "outputs": [
    {
     "data": {
      "text/html": [
       "<table>\n",
       "<caption>A tibble: 2 × 2</caption>\n",
       "<thead>\n",
       "\t<tr><th scope=col>sw_lang_en</th><th scope=col>n</th></tr>\n",
       "\t<tr><th scope=col>&lt;int&gt;</th><th scope=col>&lt;int&gt;</th></tr>\n",
       "</thead>\n",
       "<tbody>\n",
       "\t<tr><td>0</td><td>1039</td></tr>\n",
       "\t<tr><td>1</td><td>6336</td></tr>\n",
       "</tbody>\n",
       "</table>\n"
      ],
      "text/latex": [
       "A tibble: 2 × 2\n",
       "\\begin{tabular}{ll}\n",
       " sw\\_lang\\_en & n\\\\\n",
       " <int> & <int>\\\\\n",
       "\\hline\n",
       "\t 0 & 1039\\\\\n",
       "\t 1 & 6336\\\\\n",
       "\\end{tabular}\n"
      ],
      "text/markdown": [
       "\n",
       "A tibble: 2 × 2\n",
       "\n",
       "| sw_lang_en &lt;int&gt; | n &lt;int&gt; |\n",
       "|---|---|\n",
       "| 0 | 1039 |\n",
       "| 1 | 6336 |\n",
       "\n"
      ],
      "text/plain": [
       "  sw_lang_en n   \n",
       "1 0          1039\n",
       "2 1          6336"
      ]
     },
     "metadata": {},
     "output_type": "display_data"
    },
    {
     "data": {
      "text/html": [
       "<table>\n",
       "<caption>A tibble: 2 × 2</caption>\n",
       "<thead>\n",
       "\t<tr><th scope=col>sw_web_presence</th><th scope=col>n</th></tr>\n",
       "\t<tr><th scope=col>&lt;int&gt;</th><th scope=col>&lt;int&gt;</th></tr>\n",
       "</thead>\n",
       "<tbody>\n",
       "\t<tr><td>0</td><td>5012</td></tr>\n",
       "\t<tr><td>1</td><td>2363</td></tr>\n",
       "</tbody>\n",
       "</table>\n"
      ],
      "text/latex": [
       "A tibble: 2 × 2\n",
       "\\begin{tabular}{ll}\n",
       " sw\\_web\\_presence & n\\\\\n",
       " <int> & <int>\\\\\n",
       "\\hline\n",
       "\t 0 & 5012\\\\\n",
       "\t 1 & 2363\\\\\n",
       "\\end{tabular}\n"
      ],
      "text/markdown": [
       "\n",
       "A tibble: 2 × 2\n",
       "\n",
       "| sw_web_presence &lt;int&gt; | n &lt;int&gt; |\n",
       "|---|---|\n",
       "| 0 | 5012 |\n",
       "| 1 | 2363 |\n",
       "\n"
      ],
      "text/plain": [
       "  sw_web_presence n   \n",
       "1 0               5012\n",
       "2 1               2363"
      ]
     },
     "metadata": {},
     "output_type": "display_data"
    },
    {
     "data": {
      "text/html": [
       "<table>\n",
       "<caption>A tibble: 2 × 2</caption>\n",
       "<thead>\n",
       "\t<tr><th scope=col>sw_has_poster</th><th scope=col>n</th></tr>\n",
       "\t<tr><th scope=col>&lt;int&gt;</th><th scope=col>&lt;int&gt;</th></tr>\n",
       "</thead>\n",
       "<tbody>\n",
       "\t<tr><td>0</td><td>   2</td></tr>\n",
       "\t<tr><td>1</td><td>7373</td></tr>\n",
       "</tbody>\n",
       "</table>\n"
      ],
      "text/latex": [
       "A tibble: 2 × 2\n",
       "\\begin{tabular}{ll}\n",
       " sw\\_has\\_poster & n\\\\\n",
       " <int> & <int>\\\\\n",
       "\\hline\n",
       "\t 0 &    2\\\\\n",
       "\t 1 & 7373\\\\\n",
       "\\end{tabular}\n"
      ],
      "text/markdown": [
       "\n",
       "A tibble: 2 × 2\n",
       "\n",
       "| sw_has_poster &lt;int&gt; | n &lt;int&gt; |\n",
       "|---|---|\n",
       "| 0 |    2 |\n",
       "| 1 | 7373 |\n",
       "\n"
      ],
      "text/plain": [
       "  sw_has_poster n   \n",
       "1 0                2\n",
       "2 1             7373"
      ]
     },
     "metadata": {},
     "output_type": "display_data"
    },
    {
     "data": {
      "text/html": [
       "<table>\n",
       "<caption>A tibble: 2 × 2</caption>\n",
       "<thead>\n",
       "\t<tr><th scope=col>sw_tagline</th><th scope=col>n</th></tr>\n",
       "\t<tr><th scope=col>&lt;int&gt;</th><th scope=col>&lt;int&gt;</th></tr>\n",
       "</thead>\n",
       "<tbody>\n",
       "\t<tr><td>0</td><td>1442</td></tr>\n",
       "\t<tr><td>1</td><td>5933</td></tr>\n",
       "</tbody>\n",
       "</table>\n"
      ],
      "text/latex": [
       "A tibble: 2 × 2\n",
       "\\begin{tabular}{ll}\n",
       " sw\\_tagline & n\\\\\n",
       " <int> & <int>\\\\\n",
       "\\hline\n",
       "\t 0 & 1442\\\\\n",
       "\t 1 & 5933\\\\\n",
       "\\end{tabular}\n"
      ],
      "text/markdown": [
       "\n",
       "A tibble: 2 × 2\n",
       "\n",
       "| sw_tagline &lt;int&gt; | n &lt;int&gt; |\n",
       "|---|---|\n",
       "| 0 | 1442 |\n",
       "| 1 | 5933 |\n",
       "\n"
      ],
      "text/plain": [
       "  sw_tagline n   \n",
       "1 0          1442\n",
       "2 1          5933"
      ]
     },
     "metadata": {},
     "output_type": "display_data"
    },
    {
     "data": {
      "text/html": [
       "<table>\n",
       "<caption>A tibble: 2 × 2</caption>\n",
       "<thead>\n",
       "\t<tr><th scope=col>high_release_month</th><th scope=col>n</th></tr>\n",
       "\t<tr><th scope=col>&lt;int&gt;</th><th scope=col>&lt;int&gt;</th></tr>\n",
       "</thead>\n",
       "<tbody>\n",
       "\t<tr><td>0</td><td>4427</td></tr>\n",
       "\t<tr><td>1</td><td>2948</td></tr>\n",
       "</tbody>\n",
       "</table>\n"
      ],
      "text/latex": [
       "A tibble: 2 × 2\n",
       "\\begin{tabular}{ll}\n",
       " high\\_release\\_month & n\\\\\n",
       " <int> & <int>\\\\\n",
       "\\hline\n",
       "\t 0 & 4427\\\\\n",
       "\t 1 & 2948\\\\\n",
       "\\end{tabular}\n"
      ],
      "text/markdown": [
       "\n",
       "A tibble: 2 × 2\n",
       "\n",
       "| high_release_month &lt;int&gt; | n &lt;int&gt; |\n",
       "|---|---|\n",
       "| 0 | 4427 |\n",
       "| 1 | 2948 |\n",
       "\n"
      ],
      "text/plain": [
       "  high_release_month n   \n",
       "1 0                  4427\n",
       "2 1                  2948"
      ]
     },
     "metadata": {},
     "output_type": "display_data"
    }
   ],
   "source": [
    "movies_ff %>% group_by(sw_lang_en) %>% summarise(n=n())\n",
    "movies_ff %>% group_by(sw_web_presence) %>% summarise(n=n())\n",
    "movies_ff %>% group_by(sw_has_poster) %>% summarise(n=n())\n",
    "movies_ff %>% group_by(sw_tagline) %>% summarise(n=n())\n",
    "movies_ff %>% group_by(high_release_month) %>% summarise(n=n())\n"
   ]
  },
  {
   "cell_type": "code",
   "execution_count": 22,
   "metadata": {},
   "outputs": [
    {
     "data": {
      "text/plain": [
       "\n",
       "  1   2   3   4   5   6   7   8   9  10  11  12 \n",
       "510 518 561 557 582 594 564 657 902 695 540 694 "
      ]
     },
     "metadata": {},
     "output_type": "display_data"
    },
    {
     "data": {
      "image/png": "[encoded data removed]",
      "text/plain": [
       "Plot with title \"Movies by month\""
      ]
     },
     "metadata": {
      "image/png": {
       "height": 900,
       "width": 900
      }
     },
     "output_type": "display_data"
    }
   ],
   "source": [
    "table(month(movies_ff$release_date))\n",
    "plot(table(month(movies_ff$release_date)), ylab=\"Number of movies\",xlab=\"month\",main=\"Movies by month\")\n",
    "abline(h=mean(table(month(movies_ff$release_date)),na.rm=T),col=\"red\")"
   ]
  },
  {
   "cell_type": "code",
   "execution_count": 27,
   "metadata": {},
   "outputs": [
    {
     "data": {
      "text/html": [
       "7.26494915254237"
      ],
      "text/latex": [
       "7.26494915254237"
      ],
      "text/markdown": [
       "7.26494915254237"
      ],
      "text/plain": [
       "[1] 7.264949"
      ]
     },
     "metadata": {},
     "output_type": "display_data"
    },
    {
     "data": {
      "image/png": "[encoded data removed]",
      "text/plain": [
       "Plot with title \"Movies by words count\""
      ]
     },
     "metadata": {
      "image/png": {
       "height": 900,
       "width": 900
      }
     },
     "output_type": "display_data"
    }
   ],
   "source": [
    "plot(table(movies_ff$keyword_cnt),ylab=\"Number of movies\",xlab=\"Words count\",main=\"Movies by words count\",xlim=c(0,45))\n",
    "abline(h=mean(movies_ff$keyword_cnt),col=\"red\")\n",
    "mean(movies_ff$keyword_cnt)"
   ]
  },
  {
   "cell_type": "code",
   "execution_count": 39,
   "metadata": {},
   "outputs": [
    {
     "data": {
      "text/html": [
       "<table>\n",
       "<caption>A tibble: 44 × 4</caption>\n",
       "<thead>\n",
       "\t<tr><th scope=col>original_language</th><th scope=col>revenue_avg</th><th scope=col>revenue_sd</th><th scope=col>n</th></tr>\n",
       "\t<tr><th scope=col>&lt;chr&gt;</th><th scope=col>&lt;dbl&gt;</th><th scope=col>&lt;dbl&gt;</th><th scope=col>&lt;int&gt;</th></tr>\n",
       "</thead>\n",
       "<tbody>\n",
       "\t<tr><td>en</td><td>74781023.5</td><td>146000315.8</td><td>6336</td></tr>\n",
       "\t<tr><td>fr</td><td>17132565.7</td><td> 51746646.0</td><td> 199</td></tr>\n",
       "\t<tr><td>hi</td><td>25346368.7</td><td> 49616798.9</td><td> 118</td></tr>\n",
       "\t<tr><td>ru</td><td> 7227709.7</td><td> 12086653.5</td><td> 105</td></tr>\n",
       "\t<tr><td>es</td><td> 8564790.2</td><td> 13620381.7</td><td>  95</td></tr>\n",
       "\t<tr><td>ja</td><td>30651798.8</td><td> 32415933.6</td><td>  90</td></tr>\n",
       "\t<tr><td>it</td><td>16927302.3</td><td> 47183421.9</td><td>  55</td></tr>\n",
       "\t<tr><td>de</td><td>20530900.6</td><td> 30979114.7</td><td>  49</td></tr>\n",
       "\t<tr><td>ko</td><td>13776704.3</td><td> 21344783.6</td><td>  48</td></tr>\n",
       "\t<tr><td>zh</td><td>70376369.2</td><td>104571399.8</td><td>  46</td></tr>\n",
       "\t<tr><td>cn</td><td>29772885.2</td><td> 41340952.2</td><td>  41</td></tr>\n",
       "\t<tr><td>ta</td><td>14706250.2</td><td> 17492454.2</td><td>  31</td></tr>\n",
       "\t<tr><td>sv</td><td>11630510.9</td><td> 22663781.3</td><td>  20</td></tr>\n",
       "\t<tr><td>da</td><td>11757093.4</td><td> 17389413.6</td><td>  17</td></tr>\n",
       "\t<tr><td>pt</td><td>10879024.2</td><td> 22543220.5</td><td>  13</td></tr>\n",
       "\t<tr><td>ml</td><td> 1315000.0</td><td>  1675843.1</td><td>  12</td></tr>\n",
       "\t<tr><td>nl</td><td> 1959667.0</td><td>  1997239.0</td><td>  11</td></tr>\n",
       "\t<tr><td>te</td><td> 8320425.0</td><td>  8032132.0</td><td>   9</td></tr>\n",
       "\t<tr><td>tr</td><td>51663408.3</td><td> 84787329.0</td><td>   9</td></tr>\n",
       "\t<tr><td>ro</td><td>  339961.0</td><td>   564975.7</td><td>   8</td></tr>\n",
       "\t<tr><td>he</td><td>11125849.0</td><td>         NA</td><td>   6</td></tr>\n",
       "\t<tr><td>fa</td><td>  712185.2</td><td>  1008690.8</td><td>   5</td></tr>\n",
       "\t<tr><td>no</td><td> 1011067.5</td><td>  1376870.5</td><td>   5</td></tr>\n",
       "\t<tr><td>pl</td><td>15010834.0</td><td>   406616.1</td><td>   5</td></tr>\n",
       "\t<tr><td>th</td><td>       NaN</td><td>         NA</td><td>   5</td></tr>\n",
       "\t<tr><td>hu</td><td>  124792.7</td><td>   137994.2</td><td>   4</td></tr>\n",
       "\t<tr><td>bn</td><td>  536364.0</td><td>         NA</td><td>   3</td></tr>\n",
       "\t<tr><td>cs</td><td>   17393.0</td><td>         NA</td><td>   3</td></tr>\n",
       "\t<tr><td>el</td><td> 8000000.0</td><td>         NA</td><td>   3</td></tr>\n",
       "\t<tr><td>fi</td><td> 1471931.5</td><td>  1328883.5</td><td>   3</td></tr>\n",
       "\t<tr><td>id</td><td> 2627209.0</td><td>         NA</td><td>   3</td></tr>\n",
       "\t<tr><td>sr</td><td>     198.0</td><td>         NA</td><td>   3</td></tr>\n",
       "\t<tr><td>bm</td><td>       NaN</td><td>         NA</td><td>   2</td></tr>\n",
       "\t<tr><td>ur</td><td>  645135.0</td><td>         NA</td><td>   2</td></tr>\n",
       "\t<tr><td>xx</td><td>       NaN</td><td>         NA</td><td>   2</td></tr>\n",
       "\t<tr><td>af</td><td>       NaN</td><td>         NA</td><td>   1</td></tr>\n",
       "\t<tr><td>ar</td><td> 1347747.0</td><td>         NA</td><td>   1</td></tr>\n",
       "\t<tr><td>ca</td><td>       NaN</td><td>         NA</td><td>   1</td></tr>\n",
       "\t<tr><td>is</td><td>       NaN</td><td>         NA</td><td>   1</td></tr>\n",
       "\t<tr><td>ka</td><td>       NaN</td><td>         NA</td><td>   1</td></tr>\n",
       "\t<tr><td>kn</td><td>       NaN</td><td>         NA</td><td>   1</td></tr>\n",
       "\t<tr><td>mr</td><td> 4400000.0</td><td>         NA</td><td>   1</td></tr>\n",
       "\t<tr><td>nb</td><td> 4159678.0</td><td>         NA</td><td>   1</td></tr>\n",
       "\t<tr><td>vi</td><td>  639000.0</td><td>         NA</td><td>   1</td></tr>\n",
       "</tbody>\n",
       "</table>\n"
      ],
      "text/latex": [
       "A tibble: 44 × 4\n",
       "\\begin{tabular}{llll}\n",
       " original\\_language & revenue\\_avg & revenue\\_sd & n\\\\\n",
       " <chr> & <dbl> & <dbl> & <int>\\\\\n",
       "\\hline\n",
       "\t en & 74781023.5 & 146000315.8 & 6336\\\\\n",
       "\t fr & 17132565.7 &  51746646.0 &  199\\\\\n",
       "\t hi & 25346368.7 &  49616798.9 &  118\\\\\n",
       "\t ru &  7227709.7 &  12086653.5 &  105\\\\\n",
       "\t es &  8564790.2 &  13620381.7 &   95\\\\\n",
       "\t ja & 30651798.8 &  32415933.6 &   90\\\\\n",
       "\t it & 16927302.3 &  47183421.9 &   55\\\\\n",
       "\t de & 20530900.6 &  30979114.7 &   49\\\\\n",
       "\t ko & 13776704.3 &  21344783.6 &   48\\\\\n",
       "\t zh & 70376369.2 & 104571399.8 &   46\\\\\n",
       "\t cn & 29772885.2 &  41340952.2 &   41\\\\\n",
       "\t ta & 14706250.2 &  17492454.2 &   31\\\\\n",
       "\t sv & 11630510.9 &  22663781.3 &   20\\\\\n",
       "\t da & 11757093.4 &  17389413.6 &   17\\\\\n",
       "\t pt & 10879024.2 &  22543220.5 &   13\\\\\n",
       "\t ml &  1315000.0 &   1675843.1 &   12\\\\\n",
       "\t nl &  1959667.0 &   1997239.0 &   11\\\\\n",
       "\t te &  8320425.0 &   8032132.0 &    9\\\\\n",
       "\t tr & 51663408.3 &  84787329.0 &    9\\\\\n",
       "\t ro &   339961.0 &    564975.7 &    8\\\\\n",
       "\t he & 11125849.0 &          NA &    6\\\\\n",
       "\t fa &   712185.2 &   1008690.8 &    5\\\\\n",
       "\t no &  1011067.5 &   1376870.5 &    5\\\\\n",
       "\t pl & 15010834.0 &    406616.1 &    5\\\\\n",
       "\t th &        NaN &          NA &    5\\\\\n",
       "\t hu &   124792.7 &    137994.2 &    4\\\\\n",
       "\t bn &   536364.0 &          NA &    3\\\\\n",
       "\t cs &    17393.0 &          NA &    3\\\\\n",
       "\t el &  8000000.0 &          NA &    3\\\\\n",
       "\t fi &  1471931.5 &   1328883.5 &    3\\\\\n",
       "\t id &  2627209.0 &          NA &    3\\\\\n",
       "\t sr &      198.0 &          NA &    3\\\\\n",
       "\t bm &        NaN &          NA &    2\\\\\n",
       "\t ur &   645135.0 &          NA &    2\\\\\n",
       "\t xx &        NaN &          NA &    2\\\\\n",
       "\t af &        NaN &          NA &    1\\\\\n",
       "\t ar &  1347747.0 &          NA &    1\\\\\n",
       "\t ca &        NaN &          NA &    1\\\\\n",
       "\t is &        NaN &          NA &    1\\\\\n",
       "\t ka &        NaN &          NA &    1\\\\\n",
       "\t kn &        NaN &          NA &    1\\\\\n",
       "\t mr &  4400000.0 &          NA &    1\\\\\n",
       "\t nb &  4159678.0 &          NA &    1\\\\\n",
       "\t vi &   639000.0 &          NA &    1\\\\\n",
       "\\end{tabular}\n"
      ],
      "text/markdown": [
       "\n",
       "A tibble: 44 × 4\n",
       "\n",
       "| original_language &lt;chr&gt; | revenue_avg &lt;dbl&gt; | revenue_sd &lt;dbl&gt; | n &lt;int&gt; |\n",
       "|---|---|---|---|\n",
       "| en | 74781023.5 | 146000315.8 | 6336 |\n",
       "| fr | 17132565.7 |  51746646.0 |  199 |\n",
       "| hi | 25346368.7 |  49616798.9 |  118 |\n",
       "| ru |  7227709.7 |  12086653.5 |  105 |\n",
       "| es |  8564790.2 |  13620381.7 |   95 |\n",
       "| ja | 30651798.8 |  32415933.6 |   90 |\n",
       "| it | 16927302.3 |  47183421.9 |   55 |\n",
       "| de | 20530900.6 |  30979114.7 |   49 |\n",
       "| ko | 13776704.3 |  21344783.6 |   48 |\n",
       "| zh | 70376369.2 | 104571399.8 |   46 |\n",
       "| cn | 29772885.2 |  41340952.2 |   41 |\n",
       "| ta | 14706250.2 |  17492454.2 |   31 |\n",
       "| sv | 11630510.9 |  22663781.3 |   20 |\n",
       "| da | 11757093.4 |  17389413.6 |   17 |\n",
       "| pt | 10879024.2 |  22543220.5 |   13 |\n",
       "| ml |  1315000.0 |   1675843.1 |   12 |\n",
       "| nl |  1959667.0 |   1997239.0 |   11 |\n",
       "| te |  8320425.0 |   8032132.0 |    9 |\n",
       "| tr | 51663408.3 |  84787329.0 |    9 |\n",
       "| ro |   339961.0 |    564975.7 |    8 |\n",
       "| he | 11125849.0 |          NA |    6 |\n",
       "| fa |   712185.2 |   1008690.8 |    5 |\n",
       "| no |  1011067.5 |   1376870.5 |    5 |\n",
       "| pl | 15010834.0 |    406616.1 |    5 |\n",
       "| th |        NaN |          NA |    5 |\n",
       "| hu |   124792.7 |    137994.2 |    4 |\n",
       "| bn |   536364.0 |          NA |    3 |\n",
       "| cs |    17393.0 |          NA |    3 |\n",
       "| el |  8000000.0 |          NA |    3 |\n",
       "| fi |  1471931.5 |   1328883.5 |    3 |\n",
       "| id |  2627209.0 |          NA |    3 |\n",
       "| sr |      198.0 |          NA |    3 |\n",
       "| bm |        NaN |          NA |    2 |\n",
       "| ur |   645135.0 |          NA |    2 |\n",
       "| xx |        NaN |          NA |    2 |\n",
       "| af |        NaN |          NA |    1 |\n",
       "| ar |  1347747.0 |          NA |    1 |\n",
       "| ca |        NaN |          NA |    1 |\n",
       "| is |        NaN |          NA |    1 |\n",
       "| ka |        NaN |          NA |    1 |\n",
       "| kn |        NaN |          NA |    1 |\n",
       "| mr |  4400000.0 |          NA |    1 |\n",
       "| nb |  4159678.0 |          NA |    1 |\n",
       "| vi |   639000.0 |          NA |    1 |\n",
       "\n"
      ],
      "text/plain": [
       "   original_language revenue_avg revenue_sd  n   \n",
       "1  en                74781023.5  146000315.8 6336\n",
       "2  fr                17132565.7   51746646.0  199\n",
       "3  hi                25346368.7   49616798.9  118\n",
       "4  ru                 7227709.7   12086653.5  105\n",
       "5  es                 8564790.2   13620381.7   95\n",
       "6  ja                30651798.8   32415933.6   90\n",
       "7  it                16927302.3   47183421.9   55\n",
       "8  de                20530900.6   30979114.7   49\n",
       "9  ko                13776704.3   21344783.6   48\n",
       "10 zh                70376369.2  104571399.8   46\n",
       "11 cn                29772885.2   41340952.2   41\n",
       "12 ta                14706250.2   17492454.2   31\n",
       "13 sv                11630510.9   22663781.3   20\n",
       "14 da                11757093.4   17389413.6   17\n",
       "15 pt                10879024.2   22543220.5   13\n",
       "16 ml                 1315000.0    1675843.1   12\n",
       "17 nl                 1959667.0    1997239.0   11\n",
       "18 te                 8320425.0    8032132.0    9\n",
       "19 tr                51663408.3   84787329.0    9\n",
       "20 ro                  339961.0     564975.7    8\n",
       "21 he                11125849.0           NA    6\n",
       "22 fa                  712185.2    1008690.8    5\n",
       "23 no                 1011067.5    1376870.5    5\n",
       "24 pl                15010834.0     406616.1    5\n",
       "25 th                       NaN           NA    5\n",
       "26 hu                  124792.7     137994.2    4\n",
       "27 bn                  536364.0           NA    3\n",
       "28 cs                   17393.0           NA    3\n",
       "29 el                 8000000.0           NA    3\n",
       "30 fi                 1471931.5    1328883.5    3\n",
       "31 id                 2627209.0           NA    3\n",
       "32 sr                     198.0           NA    3\n",
       "33 bm                       NaN           NA    2\n",
       "34 ur                  645135.0           NA    2\n",
       "35 xx                       NaN           NA    2\n",
       "36 af                       NaN           NA    1\n",
       "37 ar                 1347747.0           NA    1\n",
       "38 ca                       NaN           NA    1\n",
       "39 is                       NaN           NA    1\n",
       "40 ka                       NaN           NA    1\n",
       "41 kn                       NaN           NA    1\n",
       "42 mr                 4400000.0           NA    1\n",
       "43 nb                 4159678.0           NA    1\n",
       "44 vi                  639000.0           NA    1"
      ]
     },
     "metadata": {},
     "output_type": "display_data"
    }
   ],
   "source": [
    "### differences between the average revenue by language?\n",
    "movies_ff %>% \n",
    "    group_by(original_language) %>% \n",
    "    summarise(revenue_avg=mean(revenue,na.rm=T), revenue_sd=sd(revenue,na.rm=T),n=n()) %>% \n",
    "    arrange(desc(n))"
   ]
  },
  {
   "cell_type": "code",
   "execution_count": 45,
   "metadata": {},
   "outputs": [
    {
     "data": {
      "image/png": "[encoded data removed]",
      "text/plain": [
       "Plot with title \"Histogram of movies_ff$revenue\""
      ]
     },
     "metadata": {
      "image/png": {
       "height": 420,
       "width": 420
      }
     },
     "output_type": "display_data"
    }
   ],
   "source": [
    "hist(movies_ff$revenue)"
   ]
  },
  {
   "cell_type": "code",
   "execution_count": 47,
   "metadata": {},
   "outputs": [
    {
     "name": "stderr",
     "output_type": "stream",
     "text": [
      "Warning message:\n",
      "\"Removed 4382 rows containing non-finite values (stat_density).\"\n",
      "Warning message:\n",
      "\"Groups with fewer than two data points have been dropped.\"\n",
      "Warning message:\n",
      "\"Groups with fewer than two data points have been dropped.\"\n",
      "Warning message:\n",
      "\"Groups with fewer than two data points have been dropped.\"\n",
      "Warning message:\n",
      "\"Groups with fewer than two data points have been dropped.\"\n",
      "Warning message:\n",
      "\"Groups with fewer than two data points have been dropped.\"\n",
      "Warning message:\n",
      "\"Groups with fewer than two data points have been dropped.\"\n",
      "Warning message:\n",
      "\"Groups with fewer than two data points have been dropped.\"\n",
      "Warning message:\n",
      "\"Groups with fewer than two data points have been dropped.\"\n",
      "Warning message:\n",
      "\"Groups with fewer than two data points have been dropped.\"\n",
      "Warning message:\n",
      "\"Groups with fewer than two data points have been dropped.\"\n",
      "Warning message:\n",
      "\"Groups with fewer than two data points have been dropped.\"\n"
     ]
    },
    {
     "data": {
      "image/png": "[encoded data removed]",
      "text/plain": [
       "plot without title"
      ]
     },
     "metadata": {
      "image/png": {
       "height": 420,
       "width": 420
      }
     },
     "output_type": "display_data"
    }
   ],
   "source": [
    "ggplot(data=movies_ff) +\n",
    "    geom_density(aes(log(revenue), group=original_language, color=original_language))"
   ]
  },
  {
   "cell_type": "code",
   "execution_count": 54,
   "metadata": {},
   "outputs": [
    {
     "name": "stderr",
     "output_type": "stream",
     "text": [
      "Warning message:\n",
      "\"Removed 4382 rows containing non-finite values (stat_density).\"\n",
      "Warning message:\n",
      "\"Groups with fewer than two data points have been dropped.\"\n",
      "Warning message:\n",
      "\"Groups with fewer than two data points have been dropped.\"\n",
      "Warning message:\n",
      "\"Groups with fewer than two data points have been dropped.\"\n",
      "Warning message:\n",
      "\"Groups with fewer than two data points have been dropped.\"\n",
      "Warning message:\n",
      "\"Groups with fewer than two data points have been dropped.\"\n",
      "Warning message:\n",
      "\"Groups with fewer than two data points have been dropped.\"\n",
      "Warning message:\n",
      "\"Groups with fewer than two data points have been dropped.\"\n",
      "Warning message:\n",
      "\"Groups with fewer than two data points have been dropped.\"\n",
      "Warning message:\n",
      "\"Groups with fewer than two data points have been dropped.\"\n",
      "Warning message:\n",
      "\"Groups with fewer than two data points have been dropped.\"\n",
      "Warning message:\n",
      "\"Groups with fewer than two data points have been dropped.\"\n"
     ]
    },
    {
     "data": {
      "image/png": "[encoded data removed]",
      "text/plain": [
       "plot without title"
      ]
     },
     "metadata": {
      "image/png": {
       "height": 420,
       "width": 420
      }
     },
     "output_type": "display_data"
    }
   ],
   "source": []
  },
  {
   "cell_type": "code",
   "execution_count": 55,
   "metadata": {},
   "outputs": [],
   "source": [
    "movies <- movies_ff %>% \n",
    "    mutate(orig_lang2=ifelse(original_language %in% c(\"en\",\"fr\",\"in\",\"ru\",\"es\",\"ja\"),original_language,'other'))"
   ]
  },
  {
   "cell_type": "code",
   "execution_count": 56,
   "metadata": {},
   "outputs": [
    {
     "data": {
      "text/html": [
       "<table>\n",
       "<caption>A tibble: 6 × 4</caption>\n",
       "<thead>\n",
       "\t<tr><th scope=col>orig_lang2</th><th scope=col>revenue_avg</th><th scope=col>revenue_sd</th><th scope=col>n</th></tr>\n",
       "\t<tr><th scope=col>&lt;chr&gt;</th><th scope=col>&lt;dbl&gt;</th><th scope=col>&lt;dbl&gt;</th><th scope=col>&lt;int&gt;</th></tr>\n",
       "</thead>\n",
       "<tbody>\n",
       "\t<tr><td>en   </td><td>74781024</td><td>146000316</td><td>6336</td></tr>\n",
       "\t<tr><td>other</td><td>21661090</td><td> 47864635</td><td> 550</td></tr>\n",
       "\t<tr><td>fr   </td><td>17132566</td><td> 51746646</td><td> 199</td></tr>\n",
       "\t<tr><td>ru   </td><td> 7227710</td><td> 12086653</td><td> 105</td></tr>\n",
       "\t<tr><td>es   </td><td> 8564790</td><td> 13620382</td><td>  95</td></tr>\n",
       "\t<tr><td>ja   </td><td>30651799</td><td> 32415934</td><td>  90</td></tr>\n",
       "</tbody>\n",
       "</table>\n"
      ],
      "text/latex": [
       "A tibble: 6 × 4\n",
       "\\begin{tabular}{llll}\n",
       " orig\\_lang2 & revenue\\_avg & revenue\\_sd & n\\\\\n",
       " <chr> & <dbl> & <dbl> & <int>\\\\\n",
       "\\hline\n",
       "\t en    & 74781024 & 146000316 & 6336\\\\\n",
       "\t other & 21661090 &  47864635 &  550\\\\\n",
       "\t fr    & 17132566 &  51746646 &  199\\\\\n",
       "\t ru    &  7227710 &  12086653 &  105\\\\\n",
       "\t es    &  8564790 &  13620382 &   95\\\\\n",
       "\t ja    & 30651799 &  32415934 &   90\\\\\n",
       "\\end{tabular}\n"
      ],
      "text/markdown": [
       "\n",
       "A tibble: 6 × 4\n",
       "\n",
       "| orig_lang2 &lt;chr&gt; | revenue_avg &lt;dbl&gt; | revenue_sd &lt;dbl&gt; | n &lt;int&gt; |\n",
       "|---|---|---|---|\n",
       "| en    | 74781024 | 146000316 | 6336 |\n",
       "| other | 21661090 |  47864635 |  550 |\n",
       "| fr    | 17132566 |  51746646 |  199 |\n",
       "| ru    |  7227710 |  12086653 |  105 |\n",
       "| es    |  8564790 |  13620382 |   95 |\n",
       "| ja    | 30651799 |  32415934 |   90 |\n",
       "\n"
      ],
      "text/plain": [
       "  orig_lang2 revenue_avg revenue_sd n   \n",
       "1 en         74781024    146000316  6336\n",
       "2 other      21661090     47864635   550\n",
       "3 fr         17132566     51746646   199\n",
       "4 ru          7227710     12086653   105\n",
       "5 es          8564790     13620382    95\n",
       "6 ja         30651799     32415934    90"
      ]
     },
     "metadata": {},
     "output_type": "display_data"
    }
   ],
   "source": [
    "movies %>% \n",
    "    group_by(orig_lang2) %>% \n",
    "    summarise(revenue_avg=mean(revenue,na.rm=T), revenue_sd=sd(revenue,na.rm=T),n=n()) %>% \n",
    "    arrange(desc(n))"
   ]
  },
  {
   "cell_type": "code",
   "execution_count": 57,
   "metadata": {},
   "outputs": [
    {
     "name": "stderr",
     "output_type": "stream",
     "text": [
      "Warning message:\n",
      "\"Removed 4382 rows containing non-finite values (stat_density).\"\n"
     ]
    },
    {
     "data": {
      "image/png": "[encoded data removed]",
      "text/plain": [
       "plot without title"
      ]
     },
     "metadata": {
      "image/png": {
       "height": 420,
       "width": 420
      }
     },
     "output_type": "display_data"
    }
   ],
   "source": [
    "ggplot(data=movies) +\n",
    "    geom_density(aes(log(revenue), group=orig_lang2, color=orig_lang2))"
   ]
  },
  {
   "cell_type": "code",
   "execution_count": 15,
   "metadata": {},
   "outputs": [
    {
     "name": "stdout",
     "output_type": "stream",
     "text": [
      "  |                                                                      |   0%"
     ]
    },
    {
     "name": "stderr",
     "output_type": "stream",
     "text": [
      "Warning message in x[floor(d)] + x[ceiling(d)]:\n",
      "\"NAs produced by integer overflow\"\n",
      "Warning message in x[floor(d)] + x[ceiling(d)]:\n",
      "\"NAs produced by integer overflow\"\n"
     ]
    },
    {
     "name": "stdout",
     "output_type": "stream",
     "text": [
      "  |                                                                      |   0%"
     ]
    },
    {
     "name": "stderr",
     "output_type": "stream",
     "text": [
      "Warning message in x[floor(d)] + x[ceiling(d)]:\n",
      "\"NAs produced by integer overflow\"\n",
      "Warning message in x[floor(d)] + x[ceiling(d)]:\n",
      "\"NAs produced by integer overflow\"\n"
     ]
    },
    {
     "name": "stdout",
     "output_type": "stream",
     "text": [
      "  |                                                                      |   0%"
     ]
    },
    {
     "name": "stderr",
     "output_type": "stream",
     "text": [
      "Warning message in x[floor(d)] + x[ceiling(d)]:\n",
      "\"NAs produced by integer overflow\"\n",
      "Warning message in x[floor(d)] + x[ceiling(d)]:\n",
      "\"NAs produced by integer overflow\"\n"
     ]
    },
    {
     "name": "stdout",
     "output_type": "stream",
     "text": [
      "  |                                                                      |   0%"
     ]
    },
    {
     "name": "stderr",
     "output_type": "stream",
     "text": [
      "Warning message in x[floor(d)] + x[ceiling(d)]:\n",
      "\"NAs produced by integer overflow\"\n",
      "Warning message in x[floor(d)] + x[ceiling(d)]:\n",
      "\"NAs produced by integer overflow\"\n"
     ]
    },
    {
     "name": "stdout",
     "output_type": "stream",
     "text": [
      "  |===================================================================== |  99%"
     ]
    },
    {
     "name": "stderr",
     "output_type": "stream",
     "text": [
      "Warning message in system(cmd, intern = intern, wait = wait | intern, show.output.on.console = wait, :\n",
      "\"running command 'C:\\WINDOWS\\system32\\cmd.exe /c explorer  report\\report.html' had status 1\"\n"
     ]
    },
    {
     "data": {
      "text/html": [],
      "text/latex": [],
      "text/markdown": [],
      "text/plain": [
       "character(0)\n",
       "attr(,\"status\")\n",
       "[1] 1"
      ]
     },
     "metadata": {},
     "output_type": "display_data"
    }
   ],
   "source": [
    "setwd(\"C:/Users/dannyvaks/Documents/GitHub/DataScience/stats\")\n",
    "exploreData(data=movies_ff )"
   ]
  },
  {
   "cell_type": "code",
   "execution_count": 17,
   "metadata": {},
   "outputs": [
    {
     "name": "stdout",
     "output_type": "stream",
     "text": [
      "  |                                                                      |   0%"
     ]
    },
    {
     "name": "stderr",
     "output_type": "stream",
     "text": [
      "Warning message:\n",
      "\"Removed 4382 rows containing non-finite values (stat_smooth).\"\n"
     ]
    },
    {
     "name": "stdout",
     "output_type": "stream",
     "text": [
      "\r",
      "  |                                                                            \r",
      "  |                                                                      |   0%"
     ]
    },
    {
     "name": "stderr",
     "output_type": "stream",
     "text": [
      "Warning message:\n",
      "\"Removed 4382 rows containing non-finite values (stat_smooth).\"\n"
     ]
    },
    {
     "name": "stdout",
     "output_type": "stream",
     "text": [
      "  |                                                                      |   0%"
     ]
    },
    {
     "name": "stderr",
     "output_type": "stream",
     "text": [
      "Warning message:\n",
      "\"Removed 4382 rows containing non-finite values (stat_smooth).\"\n"
     ]
    },
    {
     "name": "stdout",
     "output_type": "stream",
     "text": [
      "  |                                                                      |   0%"
     ]
    },
    {
     "name": "stderr",
     "output_type": "stream",
     "text": [
      "Warning message:\n",
      "\"Removed 4382 rows containing non-finite values (stat_smooth).\"\n"
     ]
    },
    {
     "name": "stdout",
     "output_type": "stream",
     "text": [
      "  |                                                                      |   0%"
     ]
    },
    {
     "name": "stderr",
     "output_type": "stream",
     "text": [
      "Warning message:\n",
      "\"Removed 4382 rows containing non-finite values (stat_smooth).\"\n"
     ]
    },
    {
     "name": "stdout",
     "output_type": "stream",
     "text": [
      "  |                                                                      |   0%"
     ]
    },
    {
     "name": "stderr",
     "output_type": "stream",
     "text": [
      "Warning message:\n",
      "\"Removed 4384 rows containing non-finite values (stat_smooth).\"\n"
     ]
    },
    {
     "name": "stdout",
     "output_type": "stream",
     "text": [
      "  |                                                                      |   0%"
     ]
    },
    {
     "name": "stderr",
     "output_type": "stream",
     "text": [
      "Warning message:\n",
      "\"Removed 4382 rows containing non-finite values (stat_smooth).\"\n"
     ]
    },
    {
     "name": "stdout",
     "output_type": "stream",
     "text": [
      "  |                                                                      |   0%"
     ]
    },
    {
     "name": "stderr",
     "output_type": "stream",
     "text": [
      "Warning message in x[floor(d)] + x[ceiling(d)]:\n",
      "\"NAs produced by integer overflow\"\n",
      "Warning message in x[floor(d)] + x[ceiling(d)]:\n",
      "\"NAs produced by integer overflow\"\n",
      "Warning message:\n",
      "\"Removed 4382 rows containing non-finite values (stat_smooth).\"\n"
     ]
    },
    {
     "name": "stdout",
     "output_type": "stream",
     "text": [
      "  |                                                                      |   0%"
     ]
    },
    {
     "name": "stderr",
     "output_type": "stream",
     "text": [
      "Warning message:\n",
      "\"Removed 4382 rows containing non-finite values (stat_smooth).\"\n"
     ]
    },
    {
     "name": "stdout",
     "output_type": "stream",
     "text": [
      "  |                                                                      |   0%"
     ]
    },
    {
     "name": "stderr",
     "output_type": "stream",
     "text": [
      "Warning message:\n",
      "\"Removed 4382 rows containing non-finite values (stat_smooth).\"\n"
     ]
    },
    {
     "name": "stdout",
     "output_type": "stream",
     "text": [
      "  |                                                                      |   0%"
     ]
    },
    {
     "name": "stderr",
     "output_type": "stream",
     "text": [
      "Warning message:\n",
      "\"Removed 4382 rows containing non-finite values (stat_smooth).\"\n"
     ]
    },
    {
     "name": "stdout",
     "output_type": "stream",
     "text": [
      "  |                                                                      |   0%"
     ]
    },
    {
     "name": "stderr",
     "output_type": "stream",
     "text": [
      "Warning message:\n",
      "\"Removed 4382 rows containing non-finite values (stat_smooth).\"\n"
     ]
    },
    {
     "name": "stdout",
     "output_type": "stream",
     "text": [
      "  |                                                                      |   0%"
     ]
    },
    {
     "name": "stderr",
     "output_type": "stream",
     "text": [
      "Warning message:\n",
      "\"Removed 4382 rows containing non-finite values (stat_smooth).\"\n"
     ]
    },
    {
     "name": "stdout",
     "output_type": "stream",
     "text": [
      "  |                                                                      |   0%"
     ]
    },
    {
     "name": "stderr",
     "output_type": "stream",
     "text": [
      "Warning message:\n",
      "\"Removed 4382 rows containing non-finite values (stat_smooth).\"\n"
     ]
    },
    {
     "name": "stdout",
     "output_type": "stream",
     "text": [
      "  |                                                                      |   0%"
     ]
    },
    {
     "name": "stderr",
     "output_type": "stream",
     "text": [
      "Warning message:\n",
      "\"Removed 4382 rows containing non-finite values (stat_smooth).\"\n"
     ]
    },
    {
     "name": "stdout",
     "output_type": "stream",
     "text": [
      "  |                                                                      |   0%"
     ]
    },
    {
     "name": "stderr",
     "output_type": "stream",
     "text": [
      "Warning message:\n",
      "\"Removed 4382 rows containing non-finite values (stat_smooth).\"\n"
     ]
    },
    {
     "name": "stdout",
     "output_type": "stream",
     "text": [
      "  |                                                                      |   0%"
     ]
    },
    {
     "name": "stderr",
     "output_type": "stream",
     "text": [
      "Warning message:\n",
      "\"Removed 4382 rows containing non-finite values (stat_smooth).\"\n"
     ]
    },
    {
     "name": "stdout",
     "output_type": "stream",
     "text": [
      "  |                                                                      |   0%"
     ]
    },
    {
     "name": "stderr",
     "output_type": "stream",
     "text": [
      "Warning message:\n",
      "\"Removed 4382 rows containing non-finite values (stat_smooth).\"\n"
     ]
    },
    {
     "name": "stdout",
     "output_type": "stream",
     "text": [
      "  |                                                                      |   0%"
     ]
    },
    {
     "name": "stderr",
     "output_type": "stream",
     "text": [
      "Warning message:\n",
      "\"Removed 4382 rows containing non-finite values (stat_smooth).\"\n"
     ]
    },
    {
     "name": "stdout",
     "output_type": "stream",
     "text": [
      "  |                                                                      |   0%"
     ]
    },
    {
     "name": "stderr",
     "output_type": "stream",
     "text": [
      "Warning message:\n",
      "\"Removed 4531 rows containing non-finite values (stat_smooth).\"\n"
     ]
    },
    {
     "name": "stdout",
     "output_type": "stream",
     "text": [
      "  |                                                                      |   0%"
     ]
    },
    {
     "name": "stderr",
     "output_type": "stream",
     "text": [
      "Warning message:\n",
      "\"Removed 4382 rows containing non-finite values (stat_smooth).\"\n",
      "Warning message in simpleLoess(y, x, w, span, degree = degree, parametric = parametric, :\n",
      "\"pseudoinverse used at -0.04\"\n",
      "Warning message in simpleLoess(y, x, w, span, degree = degree, parametric = parametric, :\n",
      "\"neighborhood radius 1.04\"\n",
      "Warning message in simpleLoess(y, x, w, span, degree = degree, parametric = parametric, :\n",
      "\"reciprocal condition number  0\"\n",
      "Warning message in simpleLoess(y, x, w, span, degree = degree, parametric = parametric, :\n",
      "\"There are other near singularities as well. 1\"\n",
      "Warning message in predLoess(object$y, object$x, newx = if (is.null(newdata)) object$x else if (is.data.frame(newdata)) as.matrix(model.frame(delete.response(terms(object)), :\n",
      "\"pseudoinverse used at -0.04\"\n",
      "Warning message in predLoess(object$y, object$x, newx = if (is.null(newdata)) object$x else if (is.data.frame(newdata)) as.matrix(model.frame(delete.response(terms(object)), :\n",
      "\"neighborhood radius 1.04\"\n",
      "Warning message in predLoess(object$y, object$x, newx = if (is.null(newdata)) object$x else if (is.data.frame(newdata)) as.matrix(model.frame(delete.response(terms(object)), :\n",
      "\"reciprocal condition number  0\"\n",
      "Warning message in predLoess(object$y, object$x, newx = if (is.null(newdata)) object$x else if (is.data.frame(newdata)) as.matrix(model.frame(delete.response(terms(object)), :\n",
      "\"There are other near singularities as well. 1\"\n"
     ]
    },
    {
     "name": "stdout",
     "output_type": "stream",
     "text": [
      "  |                                                                      |   0%"
     ]
    },
    {
     "name": "stderr",
     "output_type": "stream",
     "text": [
      "Warning message:\n",
      "\"Removed 4382 rows containing non-finite values (stat_smooth).\"\n"
     ]
    },
    {
     "name": "stdout",
     "output_type": "stream",
     "text": [
      "  |                                                                      |   0%"
     ]
    },
    {
     "name": "stderr",
     "output_type": "stream",
     "text": [
      "Warning message:\n",
      "\"Removed 4382 rows containing non-finite values (stat_smooth).\"\n"
     ]
    },
    {
     "name": "stdout",
     "output_type": "stream",
     "text": [
      "  |                                                                      |   0%"
     ]
    },
    {
     "name": "stderr",
     "output_type": "stream",
     "text": [
      "Warning message:\n",
      "\"Removed 4382 rows containing non-finite values (stat_smooth).\"\n"
     ]
    },
    {
     "name": "stdout",
     "output_type": "stream",
     "text": [
      "  |                                                                      |   0%"
     ]
    },
    {
     "name": "stderr",
     "output_type": "stream",
     "text": [
      "Warning message:\n",
      "\"Removed 4382 rows containing non-finite values (stat_smooth).\"\n"
     ]
    },
    {
     "name": "stdout",
     "output_type": "stream",
     "text": [
      "  |                                                                      |   0%"
     ]
    },
    {
     "name": "stderr",
     "output_type": "stream",
     "text": [
      "Warning message:\n",
      "\"Removed 4382 rows containing non-finite values (stat_smooth).\"\n"
     ]
    },
    {
     "name": "stdout",
     "output_type": "stream",
     "text": [
      "  |                                                                      |   0%"
     ]
    },
    {
     "name": "stderr",
     "output_type": "stream",
     "text": [
      "Warning message:\n",
      "\"Removed 4382 rows containing non-finite values (stat_smooth).\"\n"
     ]
    },
    {
     "name": "stdout",
     "output_type": "stream",
     "text": [
      "  |                                                                      |   0%"
     ]
    },
    {
     "name": "stderr",
     "output_type": "stream",
     "text": [
      "Warning message:\n",
      "\"Removed 4382 rows containing non-finite values (stat_smooth).\"\n"
     ]
    },
    {
     "name": "stdout",
     "output_type": "stream",
     "text": [
      "  |                                                                      |   0%"
     ]
    },
    {
     "name": "stderr",
     "output_type": "stream",
     "text": [
      "Warning message:\n",
      "\"Removed 4382 rows containing non-finite values (stat_smooth).\"\n"
     ]
    },
    {
     "name": "stdout",
     "output_type": "stream",
     "text": [
      "  |                                                                      |   0%"
     ]
    },
    {
     "name": "stderr",
     "output_type": "stream",
     "text": [
      "Warning message:\n",
      "\"Removed 4382 rows containing non-finite values (stat_smooth).\"\n"
     ]
    },
    {
     "name": "stdout",
     "output_type": "stream",
     "text": [
      "  |                                                                      |   0%"
     ]
    },
    {
     "name": "stderr",
     "output_type": "stream",
     "text": [
      "Warning message:\n",
      "\"Removed 4382 rows containing non-finite values (stat_smooth).\"\n"
     ]
    },
    {
     "name": "stdout",
     "output_type": "stream",
     "text": [
      "  |                                                                      |   0%"
     ]
    },
    {
     "name": "stderr",
     "output_type": "stream",
     "text": [
      "Warning message:\n",
      "\"Removed 4382 rows containing non-finite values (stat_smooth).\"\n"
     ]
    },
    {
     "name": "stdout",
     "output_type": "stream",
     "text": [
      "  |                                                                      |   0%"
     ]
    },
    {
     "name": "stderr",
     "output_type": "stream",
     "text": [
      "Warning message:\n",
      "\"Removed 4382 rows containing non-finite values (stat_smooth).\"\n"
     ]
    },
    {
     "name": "stdout",
     "output_type": "stream",
     "text": [
      "  |                                                                      |   0%"
     ]
    },
    {
     "name": "stderr",
     "output_type": "stream",
     "text": [
      "Warning message:\n",
      "\"Removed 4382 rows containing non-finite values (stat_smooth).\"\n"
     ]
    },
    {
     "name": "stdout",
     "output_type": "stream",
     "text": [
      "  |                                                                      |   0%"
     ]
    },
    {
     "name": "stderr",
     "output_type": "stream",
     "text": [
      "Warning message:\n",
      "\"Removed 4382 rows containing non-finite values (stat_smooth).\"\n"
     ]
    },
    {
     "name": "stdout",
     "output_type": "stream",
     "text": [
      "  |                                                                      |   0%"
     ]
    },
    {
     "name": "stderr",
     "output_type": "stream",
     "text": [
      "Warning message:\n",
      "\"Removed 4382 rows containing non-finite values (stat_smooth).\"\n"
     ]
    },
    {
     "name": "stdout",
     "output_type": "stream",
     "text": [
      "  |                                                                      |   0%"
     ]
    },
    {
     "name": "stderr",
     "output_type": "stream",
     "text": [
      "Warning message:\n",
      "\"Removed 4382 rows containing non-finite values (stat_smooth).\"\n"
     ]
    },
    {
     "name": "stdout",
     "output_type": "stream",
     "text": [
      "  |                                                                      |   0%"
     ]
    },
    {
     "name": "stderr",
     "output_type": "stream",
     "text": [
      "Warning message:\n",
      "\"Removed 4382 rows containing non-finite values (stat_smooth).\"\n"
     ]
    },
    {
     "name": "stdout",
     "output_type": "stream",
     "text": [
      "  |                                                                      |   0%"
     ]
    },
    {
     "name": "stderr",
     "output_type": "stream",
     "text": [
      "Warning message:\n",
      "\"Removed 4382 rows containing non-finite values (stat_smooth).\"\n"
     ]
    },
    {
     "name": "stdout",
     "output_type": "stream",
     "text": [
      "  |                                                                      |   0%"
     ]
    },
    {
     "name": "stderr",
     "output_type": "stream",
     "text": [
      "Warning message in x[floor(d)] + x[ceiling(d)]:\n",
      "\"NAs produced by integer overflow\"\n",
      "Warning message in x[floor(d)] + x[ceiling(d)]:\n",
      "\"NAs produced by integer overflow\"\n",
      "Warning message:\n",
      "\"Removed 5310 rows containing non-finite values (stat_smooth).\"\n"
     ]
    },
    {
     "name": "stdout",
     "output_type": "stream",
     "text": [
      "  |                                                                      |   0%"
     ]
    },
    {
     "name": "stderr",
     "output_type": "stream",
     "text": [
      "Warning message in x[floor(d)] + x[ceiling(d)]:\n",
      "\"NAs produced by integer overflow\"\n",
      "Warning message in x[floor(d)] + x[ceiling(d)]:\n",
      "\"NAs produced by integer overflow\"\n",
      "Warning message:\n",
      "\"Removed 5534 rows containing non-finite values (stat_smooth).\"\n"
     ]
    },
    {
     "name": "stdout",
     "output_type": "stream",
     "text": [
      "  |                                                                      |   0%"
     ]
    },
    {
     "name": "stderr",
     "output_type": "stream",
     "text": [
      "Warning message in x[floor(d)] + x[ceiling(d)]:\n",
      "\"NAs produced by integer overflow\"\n",
      "Warning message in x[floor(d)] + x[ceiling(d)]:\n",
      "\"NAs produced by integer overflow\"\n",
      "Warning message:\n",
      "\"Removed 5621 rows containing non-finite values (stat_smooth).\"\n"
     ]
    },
    {
     "name": "stdout",
     "output_type": "stream",
     "text": [
      "  |                                                                      |   0%"
     ]
    },
    {
     "name": "stderr",
     "output_type": "stream",
     "text": [
      "Warning message:\n",
      "\"Removed 4382 rows containing non-finite values (stat_smooth).\"\n"
     ]
    },
    {
     "name": "stdout",
     "output_type": "stream",
     "text": [
      "  |                                                                      |   0%"
     ]
    },
    {
     "name": "stderr",
     "output_type": "stream",
     "text": [
      "Warning message:\n",
      "\"Removed 4382 rows containing non-finite values (stat_smooth).\"\n"
     ]
    },
    {
     "name": "stdout",
     "output_type": "stream",
     "text": [
      "  |                                                                      |   0%"
     ]
    },
    {
     "name": "stderr",
     "output_type": "stream",
     "text": [
      "Warning message:\n",
      "\"Removed 4382 rows containing non-finite values (stat_smooth).\"\n"
     ]
    },
    {
     "name": "stdout",
     "output_type": "stream",
     "text": [
      "  |                                                                      |   0%"
     ]
    },
    {
     "name": "stderr",
     "output_type": "stream",
     "text": [
      "Warning message:\n",
      "\"Removed 4382 rows containing non-finite values (stat_smooth).\"\n"
     ]
    },
    {
     "name": "stdout",
     "output_type": "stream",
     "text": [
      "  |                                                                      |   0%"
     ]
    },
    {
     "name": "stderr",
     "output_type": "stream",
     "text": [
      "Warning message:\n",
      "\"Removed 4382 rows containing non-finite values (stat_smooth).\"\n"
     ]
    },
    {
     "name": "stdout",
     "output_type": "stream",
     "text": [
      "  |                                                                      |   0%"
     ]
    },
    {
     "name": "stderr",
     "output_type": "stream",
     "text": [
      "Warning message:\n",
      "\"Removed 4382 rows containing non-finite values (stat_smooth).\"\n"
     ]
    },
    {
     "name": "stdout",
     "output_type": "stream",
     "text": [
      "  |                                                                      |   0%"
     ]
    },
    {
     "name": "stderr",
     "output_type": "stream",
     "text": [
      "Warning message:\n",
      "\"Removed 4382 rows containing non-finite values (stat_smooth).\"\n"
     ]
    },
    {
     "name": "stdout",
     "output_type": "stream",
     "text": [
      "  |                                                                      |   0%"
     ]
    },
    {
     "name": "stderr",
     "output_type": "stream",
     "text": [
      "Warning message:\n",
      "\"Removed 4382 rows containing non-finite values (stat_smooth).\"\n"
     ]
    },
    {
     "name": "stdout",
     "output_type": "stream",
     "text": [
      "  |                                                                      |   0%"
     ]
    },
    {
     "name": "stderr",
     "output_type": "stream",
     "text": [
      "Warning message:\n",
      "\"Removed 4382 rows containing non-finite values (stat_smooth).\"\n"
     ]
    },
    {
     "name": "stdout",
     "output_type": "stream",
     "text": [
      "  |                                                                      |   0%"
     ]
    },
    {
     "name": "stderr",
     "output_type": "stream",
     "text": [
      "Warning message:\n",
      "\"Removed 4382 rows containing non-finite values (stat_smooth).\"\n"
     ]
    },
    {
     "name": "stdout",
     "output_type": "stream",
     "text": [
      "  |                                                                      |   0%"
     ]
    },
    {
     "name": "stderr",
     "output_type": "stream",
     "text": [
      "Warning message:\n",
      "\"Removed 4382 rows containing non-finite values (stat_smooth).\"\n"
     ]
    },
    {
     "name": "stdout",
     "output_type": "stream",
     "text": [
      "  |                                                                      |   0%"
     ]
    },
    {
     "name": "stderr",
     "output_type": "stream",
     "text": [
      "Warning message:\n",
      "\"Removed 4382 rows containing non-finite values (stat_smooth).\"\n"
     ]
    },
    {
     "name": "stdout",
     "output_type": "stream",
     "text": [
      "  |                                                                      |   0%"
     ]
    },
    {
     "name": "stderr",
     "output_type": "stream",
     "text": [
      "Warning message:\n",
      "\"Removed 4382 rows containing non-finite values (stat_smooth).\"\n"
     ]
    },
    {
     "name": "stdout",
     "output_type": "stream",
     "text": [
      "  |                                                                      |   0%"
     ]
    },
    {
     "name": "stderr",
     "output_type": "stream",
     "text": [
      "Warning message:\n",
      "\"Removed 4382 rows containing non-finite values (stat_smooth).\"\n"
     ]
    },
    {
     "name": "stdout",
     "output_type": "stream",
     "text": [
      "  |                                                                      |   0%"
     ]
    },
    {
     "name": "stderr",
     "output_type": "stream",
     "text": [
      "Warning message:\n",
      "\"Removed 4382 rows containing non-finite values (stat_smooth).\"\n"
     ]
    },
    {
     "name": "stdout",
     "output_type": "stream",
     "text": [
      "  |                                                                      |   0%"
     ]
    },
    {
     "name": "stderr",
     "output_type": "stream",
     "text": [
      "Warning message:\n",
      "\"Removed 4382 rows containing non-finite values (stat_smooth).\"\n"
     ]
    },
    {
     "name": "stdout",
     "output_type": "stream",
     "text": [
      "  |                                                                      |   0%"
     ]
    },
    {
     "name": "stderr",
     "output_type": "stream",
     "text": [
      "Warning message:\n",
      "\"Removed 4382 rows containing non-finite values (stat_smooth).\"\n"
     ]
    },
    {
     "name": "stdout",
     "output_type": "stream",
     "text": [
      "  |                                                                      |   0%"
     ]
    },
    {
     "name": "stderr",
     "output_type": "stream",
     "text": [
      "Warning message:\n",
      "\"Removed 4382 rows containing non-finite values (stat_smooth).\"\n"
     ]
    },
    {
     "name": "stdout",
     "output_type": "stream",
     "text": [
      "  |                                                                      |   0%"
     ]
    },
    {
     "name": "stderr",
     "output_type": "stream",
     "text": [
      "Warning message:\n",
      "\"Removed 4382 rows containing non-finite values (stat_smooth).\"\n"
     ]
    },
    {
     "name": "stdout",
     "output_type": "stream",
     "text": [
      "  |                                                                      |   0%"
     ]
    },
    {
     "name": "stderr",
     "output_type": "stream",
     "text": [
      "Warning message:\n",
      "\"Removed 4382 rows containing non-finite values (stat_smooth).\"\n"
     ]
    },
    {
     "name": "stdout",
     "output_type": "stream",
     "text": [
      "  |                                                                      |   0%"
     ]
    },
    {
     "name": "stderr",
     "output_type": "stream",
     "text": [
      "Warning message:\n",
      "\"Removed 4382 rows containing non-finite values (stat_smooth).\"\n"
     ]
    },
    {
     "name": "stdout",
     "output_type": "stream",
     "text": [
      "  |                                                                      |   0%"
     ]
    },
    {
     "name": "stderr",
     "output_type": "stream",
     "text": [
      "Warning message:\n",
      "\"Removed 4397 rows containing non-finite values (stat_smooth).\"\n"
     ]
    },
    {
     "name": "stdout",
     "output_type": "stream",
     "text": [
      "  |                                                                      |   0%"
     ]
    },
    {
     "name": "stderr",
     "output_type": "stream",
     "text": [
      "Warning message:\n",
      "\"Removed 4397 rows containing non-finite values (stat_smooth).\"\n",
      "Warning message in simpleLoess(y, x, w, span, degree = degree, parametric = parametric, :\n",
      "\"pseudoinverse used at -0.115\"\n",
      "Warning message in simpleLoess(y, x, w, span, degree = degree, parametric = parametric, :\n",
      "\"neighborhood radius 2.115\"\n",
      "Warning message in simpleLoess(y, x, w, span, degree = degree, parametric = parametric, :\n",
      "\"reciprocal condition number  8.4231e-016\"\n",
      "Warning message in simpleLoess(y, x, w, span, degree = degree, parametric = parametric, :\n",
      "\"There are other near singularities as well. 1\"\n",
      "Warning message in predLoess(object$y, object$x, newx = if (is.null(newdata)) object$x else if (is.data.frame(newdata)) as.matrix(model.frame(delete.response(terms(object)), :\n",
      "\"pseudoinverse used at -0.115\"\n",
      "Warning message in predLoess(object$y, object$x, newx = if (is.null(newdata)) object$x else if (is.data.frame(newdata)) as.matrix(model.frame(delete.response(terms(object)), :\n",
      "\"neighborhood radius 2.115\"\n",
      "Warning message in predLoess(object$y, object$x, newx = if (is.null(newdata)) object$x else if (is.data.frame(newdata)) as.matrix(model.frame(delete.response(terms(object)), :\n",
      "\"reciprocal condition number  8.4231e-016\"\n",
      "Warning message in predLoess(object$y, object$x, newx = if (is.null(newdata)) object$x else if (is.data.frame(newdata)) as.matrix(model.frame(delete.response(terms(object)), :\n",
      "\"There are other near singularities as well. 1\"\n"
     ]
    },
    {
     "name": "stdout",
     "output_type": "stream",
     "text": [
      "  |                                                                      |   0%"
     ]
    },
    {
     "name": "stderr",
     "output_type": "stream",
     "text": [
      "Warning message:\n",
      "\"Removed 4397 rows containing non-finite values (stat_smooth).\"\n",
      "Warning message in simpleLoess(y, x, w, span, degree = degree, parametric = parametric, :\n",
      "\"pseudoinverse used at -0.595\"\n",
      "Warning message in simpleLoess(y, x, w, span, degree = degree, parametric = parametric, :\n",
      "\"neighborhood radius 2.595\"\n",
      "Warning message in simpleLoess(y, x, w, span, degree = degree, parametric = parametric, :\n",
      "\"reciprocal condition number  5.7808e-016\"\n",
      "Warning message in simpleLoess(y, x, w, span, degree = degree, parametric = parametric, :\n",
      "\"There are other near singularities as well. 4\"\n",
      "Warning message in predLoess(object$y, object$x, newx = if (is.null(newdata)) object$x else if (is.data.frame(newdata)) as.matrix(model.frame(delete.response(terms(object)), :\n",
      "\"pseudoinverse used at -0.595\"\n",
      "Warning message in predLoess(object$y, object$x, newx = if (is.null(newdata)) object$x else if (is.data.frame(newdata)) as.matrix(model.frame(delete.response(terms(object)), :\n",
      "\"neighborhood radius 2.595\"\n",
      "Warning message in predLoess(object$y, object$x, newx = if (is.null(newdata)) object$x else if (is.data.frame(newdata)) as.matrix(model.frame(delete.response(terms(object)), :\n",
      "\"reciprocal condition number  5.7808e-016\"\n",
      "Warning message in predLoess(object$y, object$x, newx = if (is.null(newdata)) object$x else if (is.data.frame(newdata)) as.matrix(model.frame(delete.response(terms(object)), :\n",
      "\"There are other near singularities as well. 4\"\n"
     ]
    },
    {
     "name": "stdout",
     "output_type": "stream",
     "text": [
      "  |                                                                      |   0%"
     ]
    },
    {
     "name": "stderr",
     "output_type": "stream",
     "text": [
      "Warning message:\n",
      "\"Removed 4397 rows containing non-finite values (stat_smooth).\"\n",
      "Warning message in simpleLoess(y, x, w, span, degree = degree, parametric = parametric, :\n",
      "\"pseudoinverse used at -0.165\"\n",
      "Warning message in simpleLoess(y, x, w, span, degree = degree, parametric = parametric, :\n",
      "\"neighborhood radius 2.165\"\n",
      "Warning message in simpleLoess(y, x, w, span, degree = degree, parametric = parametric, :\n",
      "\"reciprocal condition number  3.8041e-016\"\n",
      "Warning message in simpleLoess(y, x, w, span, degree = degree, parametric = parametric, :\n",
      "\"There are other near singularities as well. 4\"\n",
      "Warning message in predLoess(object$y, object$x, newx = if (is.null(newdata)) object$x else if (is.data.frame(newdata)) as.matrix(model.frame(delete.response(terms(object)), :\n",
      "\"pseudoinverse used at -0.165\"\n",
      "Warning message in predLoess(object$y, object$x, newx = if (is.null(newdata)) object$x else if (is.data.frame(newdata)) as.matrix(model.frame(delete.response(terms(object)), :\n",
      "\"neighborhood radius 2.165\"\n",
      "Warning message in predLoess(object$y, object$x, newx = if (is.null(newdata)) object$x else if (is.data.frame(newdata)) as.matrix(model.frame(delete.response(terms(object)), :\n",
      "\"reciprocal condition number  3.8041e-016\"\n",
      "Warning message in predLoess(object$y, object$x, newx = if (is.null(newdata)) object$x else if (is.data.frame(newdata)) as.matrix(model.frame(delete.response(terms(object)), :\n",
      "\"There are other near singularities as well. 4\"\n"
     ]
    },
    {
     "name": "stdout",
     "output_type": "stream",
     "text": [
      "  |                                                                      |   0%"
     ]
    },
    {
     "name": "stderr",
     "output_type": "stream",
     "text": [
      "Warning message:\n",
      "\"Removed 4397 rows containing non-finite values (stat_smooth).\"\n",
      "Warning message in simpleLoess(y, x, w, span, degree = degree, parametric = parametric, :\n",
      "\"pseudoinverse used at 0.855\"\n",
      "Warning message in simpleLoess(y, x, w, span, degree = degree, parametric = parametric, :\n",
      "\"neighborhood radius 1.145\"\n",
      "Warning message in simpleLoess(y, x, w, span, degree = degree, parametric = parametric, :\n",
      "\"reciprocal condition number  0\"\n",
      "Warning message in simpleLoess(y, x, w, span, degree = degree, parametric = parametric, :\n",
      "\"There are other near singularities as well. 1\"\n",
      "Warning message in predLoess(object$y, object$x, newx = if (is.null(newdata)) object$x else if (is.data.frame(newdata)) as.matrix(model.frame(delete.response(terms(object)), :\n",
      "\"pseudoinverse used at 0.855\"\n",
      "Warning message in predLoess(object$y, object$x, newx = if (is.null(newdata)) object$x else if (is.data.frame(newdata)) as.matrix(model.frame(delete.response(terms(object)), :\n",
      "\"neighborhood radius 1.145\"\n",
      "Warning message in predLoess(object$y, object$x, newx = if (is.null(newdata)) object$x else if (is.data.frame(newdata)) as.matrix(model.frame(delete.response(terms(object)), :\n",
      "\"reciprocal condition number  0\"\n",
      "Warning message in predLoess(object$y, object$x, newx = if (is.null(newdata)) object$x else if (is.data.frame(newdata)) as.matrix(model.frame(delete.response(terms(object)), :\n",
      "\"There are other near singularities as well. 1\"\n"
     ]
    },
    {
     "name": "stdout",
     "output_type": "stream",
     "text": [
      "  |                                                                      |   0%"
     ]
    },
    {
     "name": "stderr",
     "output_type": "stream",
     "text": [
      "Warning message:\n",
      "\"Removed 4397 rows containing non-finite values (stat_smooth).\"\n",
      "Warning message in simpleLoess(y, x, w, span, degree = degree, parametric = parametric, :\n",
      "\"pseudoinverse used at -0.07\"\n",
      "Warning message in simpleLoess(y, x, w, span, degree = degree, parametric = parametric, :\n",
      "\"neighborhood radius 2.07\"\n",
      "Warning message in simpleLoess(y, x, w, span, degree = degree, parametric = parametric, :\n",
      "\"reciprocal condition number  6.6443e-016\"\n",
      "Warning message in simpleLoess(y, x, w, span, degree = degree, parametric = parametric, :\n",
      "\"There are other near singularities as well. 1\"\n",
      "Warning message in predLoess(object$y, object$x, newx = if (is.null(newdata)) object$x else if (is.data.frame(newdata)) as.matrix(model.frame(delete.response(terms(object)), :\n",
      "\"pseudoinverse used at -0.07\"\n",
      "Warning message in predLoess(object$y, object$x, newx = if (is.null(newdata)) object$x else if (is.data.frame(newdata)) as.matrix(model.frame(delete.response(terms(object)), :\n",
      "\"neighborhood radius 2.07\"\n",
      "Warning message in predLoess(object$y, object$x, newx = if (is.null(newdata)) object$x else if (is.data.frame(newdata)) as.matrix(model.frame(delete.response(terms(object)), :\n",
      "\"reciprocal condition number  6.6443e-016\"\n",
      "Warning message in predLoess(object$y, object$x, newx = if (is.null(newdata)) object$x else if (is.data.frame(newdata)) as.matrix(model.frame(delete.response(terms(object)), :\n",
      "\"There are other near singularities as well. 1\"\n"
     ]
    },
    {
     "name": "stdout",
     "output_type": "stream",
     "text": [
      "  |                                                                      |   0%"
     ]
    },
    {
     "name": "stderr",
     "output_type": "stream",
     "text": [
      "Warning message:\n",
      "\"Removed 4397 rows containing non-finite values (stat_smooth).\"\n",
      "Warning message in simpleLoess(y, x, w, span, degree = degree, parametric = parametric, :\n",
      "\"at  -0.06\"\n",
      "Warning message in simpleLoess(y, x, w, span, degree = degree, parametric = parametric, :\n",
      "\"radius  0.0036\"\n",
      "Warning message in simpleLoess(y, x, w, span, degree = degree, parametric = parametric, :\n",
      "\"all data on boundary of neighborhood. make span bigger\"\n",
      "Warning message in simpleLoess(y, x, w, span, degree = degree, parametric = parametric, :\n",
      "\"pseudoinverse used at -0.06\"\n",
      "Warning message in simpleLoess(y, x, w, span, degree = degree, parametric = parametric, :\n",
      "\"neighborhood radius 0.06\"\n",
      "Warning message in simpleLoess(y, x, w, span, degree = degree, parametric = parametric, :\n",
      "\"reciprocal condition number  1\"\n",
      "Warning message in simpleLoess(y, x, w, span, degree = degree, parametric = parametric, :\n",
      "\"zero-width neighborhood. make span bigger\"\n",
      "Warning message:\n",
      "\"Computation failed in `stat_smooth()`:\n",
      "NA/NaN/Inf in foreign function call (arg 5)\"\n"
     ]
    },
    {
     "name": "stdout",
     "output_type": "stream",
     "text": [
      "  |                                                                      |   0%"
     ]
    },
    {
     "name": "stderr",
     "output_type": "stream",
     "text": [
      "Warning message:\n",
      "\"Removed 4397 rows containing non-finite values (stat_smooth).\"\n"
     ]
    },
    {
     "name": "stdout",
     "output_type": "stream",
     "text": [
      "  |                                                                      |   0%"
     ]
    },
    {
     "name": "stderr",
     "output_type": "stream",
     "text": [
      "Warning message:\n",
      "\"Removed 4397 rows containing non-finite values (stat_smooth).\"\n"
     ]
    },
    {
     "name": "stdout",
     "output_type": "stream",
     "text": [
      "  |                                                                      |   0%"
     ]
    },
    {
     "name": "stderr",
     "output_type": "stream",
     "text": [
      "Warning message:\n",
      "\"Removed 4397 rows containing non-finite values (stat_smooth).\"\n",
      "Warning message in simpleLoess(y, x, w, span, degree = degree, parametric = parametric, :\n",
      "\"at  -0.26\"\n",
      "Warning message in simpleLoess(y, x, w, span, degree = degree, parametric = parametric, :\n",
      "\"radius  0.0676\"\n",
      "Warning message in simpleLoess(y, x, w, span, degree = degree, parametric = parametric, :\n",
      "\"all data on boundary of neighborhood. make span bigger\"\n",
      "Warning message in simpleLoess(y, x, w, span, degree = degree, parametric = parametric, :\n",
      "\"pseudoinverse used at -0.26\"\n",
      "Warning message in simpleLoess(y, x, w, span, degree = degree, parametric = parametric, :\n",
      "\"neighborhood radius 0.26\"\n",
      "Warning message in simpleLoess(y, x, w, span, degree = degree, parametric = parametric, :\n",
      "\"reciprocal condition number  1\"\n",
      "Warning message in simpleLoess(y, x, w, span, degree = degree, parametric = parametric, :\n",
      "\"zero-width neighborhood. make span bigger\"\n",
      "Warning message:\n",
      "\"Computation failed in `stat_smooth()`:\n",
      "NA/NaN/Inf in foreign function call (arg 5)\"\n"
     ]
    },
    {
     "name": "stdout",
     "output_type": "stream",
     "text": [
      "  |                                                                      |   0%"
     ]
    },
    {
     "name": "stderr",
     "output_type": "stream",
     "text": [
      "Warning message:\n",
      "\"Removed 4397 rows containing non-finite values (stat_smooth).\"\n",
      "Warning message in simpleLoess(y, x, w, span, degree = degree, parametric = parametric, :\n",
      "\"pseudoinverse used at 2\"\n",
      "Warning message in simpleLoess(y, x, w, span, degree = degree, parametric = parametric, :\n",
      "\"neighborhood radius 1\"\n",
      "Warning message in simpleLoess(y, x, w, span, degree = degree, parametric = parametric, :\n",
      "\"reciprocal condition number  0\"\n",
      "Warning message in predLoess(object$y, object$x, newx = if (is.null(newdata)) object$x else if (is.data.frame(newdata)) as.matrix(model.frame(delete.response(terms(object)), :\n",
      "\"pseudoinverse used at 2\"\n",
      "Warning message in predLoess(object$y, object$x, newx = if (is.null(newdata)) object$x else if (is.data.frame(newdata)) as.matrix(model.frame(delete.response(terms(object)), :\n",
      "\"neighborhood radius 1\"\n",
      "Warning message in predLoess(object$y, object$x, newx = if (is.null(newdata)) object$x else if (is.data.frame(newdata)) as.matrix(model.frame(delete.response(terms(object)), :\n",
      "\"reciprocal condition number  0\"\n"
     ]
    },
    {
     "name": "stdout",
     "output_type": "stream",
     "text": [
      "  |                                                                      |   0%"
     ]
    },
    {
     "name": "stderr",
     "output_type": "stream",
     "text": [
      "Warning message:\n",
      "\"Removed 4382 rows containing non-finite values (stat_smooth).\"\n"
     ]
    },
    {
     "name": "stdout",
     "output_type": "stream",
     "text": [
      "  |                                                                      |   0%"
     ]
    },
    {
     "name": "stderr",
     "output_type": "stream",
     "text": [
      "Warning message:\n",
      "\"Removed 4382 rows containing non-finite values (stat_smooth).\"\n"
     ]
    },
    {
     "name": "stdout",
     "output_type": "stream",
     "text": [
      "  |                                                                      |   0%"
     ]
    },
    {
     "name": "stderr",
     "output_type": "stream",
     "text": [
      "Warning message:\n",
      "\"Removed 4382 rows containing non-finite values (stat_smooth).\"\n"
     ]
    },
    {
     "name": "stdout",
     "output_type": "stream",
     "text": [
      "  |                                                                      |   0%"
     ]
    },
    {
     "name": "stderr",
     "output_type": "stream",
     "text": [
      "Warning message:\n",
      "\"Removed 4382 rows containing non-finite values (stat_smooth).\"\n"
     ]
    },
    {
     "name": "stdout",
     "output_type": "stream",
     "text": [
      "  |                                                                      |   0%"
     ]
    },
    {
     "name": "stderr",
     "output_type": "stream",
     "text": [
      "Warning message:\n",
      "\"Removed 4382 rows containing non-finite values (stat_smooth).\"\n"
     ]
    },
    {
     "name": "stdout",
     "output_type": "stream",
     "text": [
      "  |                                                                      |   0%"
     ]
    },
    {
     "name": "stderr",
     "output_type": "stream",
     "text": [
      "Warning message:\n",
      "\"Removed 4382 rows containing non-finite values (stat_smooth).\"\n"
     ]
    },
    {
     "name": "stdout",
     "output_type": "stream",
     "text": [
      "  |                                                                      |   0%"
     ]
    },
    {
     "name": "stderr",
     "output_type": "stream",
     "text": [
      "Warning message:\n",
      "\"Removed 4382 rows containing non-finite values (stat_smooth).\"\n"
     ]
    },
    {
     "name": "stdout",
     "output_type": "stream",
     "text": [
      "  |                                                                      |   0%"
     ]
    },
    {
     "name": "stderr",
     "output_type": "stream",
     "text": [
      "Warning message:\n",
      "\"Removed 4397 rows containing non-finite values (stat_smooth).\"\n",
      "Warning message in simpleLoess(y, x, w, span, degree = degree, parametric = parametric, :\n",
      "\"pseudoinverse used at -0.06\"\n",
      "Warning message in simpleLoess(y, x, w, span, degree = degree, parametric = parametric, :\n",
      "\"neighborhood radius 2.06\"\n",
      "Warning message in simpleLoess(y, x, w, span, degree = degree, parametric = parametric, :\n",
      "\"reciprocal condition number  3.575e-016\"\n",
      "Warning message in simpleLoess(y, x, w, span, degree = degree, parametric = parametric, :\n",
      "\"There are other near singularities as well. 4\"\n",
      "Warning message in predLoess(object$y, object$x, newx = if (is.null(newdata)) object$x else if (is.data.frame(newdata)) as.matrix(model.frame(delete.response(terms(object)), :\n",
      "\"pseudoinverse used at -0.06\"\n",
      "Warning message in predLoess(object$y, object$x, newx = if (is.null(newdata)) object$x else if (is.data.frame(newdata)) as.matrix(model.frame(delete.response(terms(object)), :\n",
      "\"neighborhood radius 2.06\"\n",
      "Warning message in predLoess(object$y, object$x, newx = if (is.null(newdata)) object$x else if (is.data.frame(newdata)) as.matrix(model.frame(delete.response(terms(object)), :\n",
      "\"reciprocal condition number  3.575e-016\"\n",
      "Warning message in predLoess(object$y, object$x, newx = if (is.null(newdata)) object$x else if (is.data.frame(newdata)) as.matrix(model.frame(delete.response(terms(object)), :\n",
      "\"There are other near singularities as well. 4\"\n"
     ]
    },
    {
     "name": "stdout",
     "output_type": "stream",
     "text": [
      "  |                                                                      |   0%"
     ]
    },
    {
     "name": "stderr",
     "output_type": "stream",
     "text": [
      "Warning message:\n",
      "\"Removed 4382 rows containing non-finite values (stat_smooth).\"\n"
     ]
    },
    {
     "name": "stdout",
     "output_type": "stream",
     "text": [
      "  |                                                                      |   0%"
     ]
    },
    {
     "name": "stderr",
     "output_type": "stream",
     "text": [
      "Warning message:\n",
      "\"Removed 4382 rows containing non-finite values (stat_smooth).\"\n"
     ]
    },
    {
     "name": "stdout",
     "output_type": "stream",
     "text": [
      "  |                                                                      |   0%"
     ]
    },
    {
     "name": "stderr",
     "output_type": "stream",
     "text": [
      "Warning message:\n",
      "\"Removed 4382 rows containing non-finite values (stat_smooth).\"\n"
     ]
    },
    {
     "name": "stdout",
     "output_type": "stream",
     "text": [
      "\r",
      "  |                                                                            \r",
      "  |===================================================================== |  99%"
     ]
    },
    {
     "name": "stderr",
     "output_type": "stream",
     "text": [
      "Warning message in system(cmd, intern = intern, wait = wait | intern, show.output.on.console = wait, :\n",
      "\"running command 'C:\\WINDOWS\\system32\\cmd.exe /c explorer  report2\\report.html' had status 1\"\n"
     ]
    },
    {
     "data": {
      "text/html": [],
      "text/latex": [],
      "text/markdown": [],
      "text/plain": [
       "character(0)\n",
       "attr(,\"status\")\n",
       "[1] 1"
      ]
     },
     "metadata": {},
     "output_type": "display_data"
    }
   ],
   "source": [
    "setwd(\"C:/Users/dannyvaks/Documents/GitHub/DataScience/stats\")\n",
    "exploreData(data=movies_ff , y = \"revenue\" , dir = \"report2\" )"
   ]
  },
  {
   "cell_type": "code",
   "execution_count": 22,
   "metadata": {},
   "outputs": [
    {
     "name": "stderr",
     "output_type": "stream",
     "text": [
      "Warning message:\n",
      "\"Removed 1 rows containing non-finite values (stat_bin).\"\n",
      "Warning message:\n",
      "\"Removed 1 rows containing non-finite values (stat_density).\"\n"
     ]
    },
    {
     "data": {
      "image/png": "[encoded data removed]",
      "text/plain": [
       "plot without title"
      ]
     },
     "metadata": {
      "image/png": {
       "height": 900,
       "width": 900
      }
     },
     "output_type": "display_data"
    }
   ],
   "source": [
    "# seasonality\n",
    "ggplot(movies_ff, aes(x=movies_ff$seasonality)) + \n",
    " geom_histogram(aes(y=..density..), colour=\"black\", fill=\"white\",bins = 50)+\n",
    " geom_density(alpha=0.2, fill=\"#E69F00\") + theme_get()"
   ]
  },
  {
   "cell_type": "code",
   "execution_count": 23,
   "metadata": {},
   "outputs": [],
   "source": [
    "movie.time <- movies_ff %>% \n",
    "    mutate(release_year,release_month) %>%\n",
    "    group_by(release_year,release_month) %>%\n",
    "    summarise(n=n(),revenue_mean=mean(revenue,na.rm=T)) %>%\n",
    "    select(release_year,release_month,n,revenue_mean) %>%\n",
    "    filter(between(release_year,1985,2016))\n",
    "\n",
    "movie.time$revenue_mean <- ifelse(is.na(movie.time$revenue_mean),0,movie.time$revenue_mean)\n",
    "\n",
    "movie.ts <- ts(movie.time$revenue_mean, start = c(1995, 1), end=c(2016,12), frequency = 12)"
   ]
  },
  {
   "cell_type": "code",
   "execution_count": 24,
   "metadata": {},
   "outputs": [
    {
     "data": {
      "image/png": "[encoded data removed]",
      "text/plain": [
       "plot without title"
      ]
     },
     "metadata": {
      "image/png": {
       "height": 900,
       "width": 900
      }
     },
     "output_type": "display_data"
    }
   ],
   "source": [
    "plot(movie.ts)"
   ]
  },
  {
   "cell_type": "code",
   "execution_count": 25,
   "metadata": {},
   "outputs": [
    {
     "data": {
      "image/png": "[encoded data removed]",
      "text/plain": [
       "plot without title"
      ]
     },
     "metadata": {
      "image/png": {
       "height": 900,
       "width": 900
      }
     },
     "output_type": "display_data"
    }
   ],
   "source": [
    "plot(decompose(movie.ts))"
   ]
  },
  {
   "cell_type": "code",
   "execution_count": 28,
   "metadata": {},
   "outputs": [
    {
     "name": "stderr",
     "output_type": "stream",
     "text": [
      "Loading required package: corrplot\n",
      "\n",
      "Warning message in library(package, lib.loc = lib.loc, character.only = TRUE, logical.return = TRUE, :\n",
      "\"there is no package called 'corrplot'\"\n"
     ]
    },
    {
     "name": "stdout",
     "output_type": "stream",
     "text": [
      "package 'corrplot' successfully unpacked and MD5 sums checked\n",
      "\n",
      "The downloaded binary packages are in\n",
      "\tC:\\Users\\dannyvaks\\AppData\\Local\\Temp\\RtmpgdT58i\\downloaded_packages\n"
     ]
    },
    {
     "name": "stderr",
     "output_type": "stream",
     "text": [
      "Loading required package: corrplot\n",
      "\n",
      "Warning message:\n",
      "\"package 'corrplot' was built under R version 3.6.2\"\n",
      "corrplot 0.84 loaded\n",
      "\n"
     ]
    }
   ],
   "source": [
    "if(!require(corrplot)) {install.packages(\"corrplot\");require(corrplot)}"
   ]
  },
  {
   "cell_type": "code",
   "execution_count": 36,
   "metadata": {},
   "outputs": [
    {
     "name": "stdout",
     "output_type": "stream",
     "text": [
      "package 'Hmisc' successfully unpacked and MD5 sums checked\n"
     ]
    },
    {
     "name": "stderr",
     "output_type": "stream",
     "text": [
      "Warning message:\n",
      "\"cannot remove prior installation of package 'Hmisc'\"\n",
      "Warning message in file.copy(savedcopy, lib, recursive = TRUE):\n",
      "\"problem copying C:\\Users\\dannyvaks\\.conda\\envs\\notebook\\Lib\\R\\library\\00LOCK\\Hmisc\\libs\\x64\\Hmisc.dll to C:\\Users\\dannyvaks\\.conda\\envs\\notebook\\Lib\\R\\library\\Hmisc\\libs\\x64\\Hmisc.dll: Permission denied\"\n",
      "Warning message:\n",
      "\"restored 'Hmisc'\"\n"
     ]
    },
    {
     "name": "stdout",
     "output_type": "stream",
     "text": [
      "\n",
      "The downloaded binary packages are in\n",
      "\tC:\\Users\\dannyvaks\\AppData\\Local\\Temp\\RtmpgdT58i\\downloaded_packages\n"
     ]
    }
   ],
   "source": [
    "install.packages(\"Hmisc\")"
   ]
  },
  {
   "cell_type": "code",
   "execution_count": 37,
   "metadata": {},
   "outputs": [
    {
     "name": "stderr",
     "output_type": "stream",
     "text": [
      "Warning message:\n",
      "\"package 'Hmisc' was built under R version 3.6.2\"\n",
      "Loading required package: survival\n",
      "\n",
      "Warning message:\n",
      "\"package 'survival' was built under R version 3.6.2\"\n",
      "Loading required package: Formula\n",
      "\n",
      "\n",
      "Attaching package: 'Hmisc'\n",
      "\n",
      "\n",
      "The following objects are masked from 'package:dplyr':\n",
      "\n",
      "    src, summarize\n",
      "\n",
      "\n",
      "The following objects are masked from 'package:base':\n",
      "\n",
      "    format.pval, units\n",
      "\n",
      "\n"
     ]
    }
   ],
   "source": [
    "library(Hmisc)"
   ]
  },
  {
   "cell_type": "code",
   "execution_count": 43,
   "metadata": {},
   "outputs": [
    {
     "ename": "ERROR",
     "evalue": "Error in cor(movies_ff, y = NULL, use = \"pairwise.complete.obs\"): 'x' must be numeric\n",
     "output_type": "error",
     "traceback": [
      "Error in cor(movies_ff, y = NULL, use = \"pairwise.complete.obs\"): 'x' must be numeric\nTraceback:\n",
      "1. cor(movies_ff, y = NULL, use = \"pairwise.complete.obs\")",
      "2. stop(\"'x' must be numeric\")"
     ]
    }
   ],
   "source": [
    "cor_res <- cor(movies_ff, y=NULL, use =\"pairwise.complete.obs\")\n"
   ]
  },
  {
   "cell_type": "code",
   "execution_count": 49,
   "metadata": {},
   "outputs": [
    {
     "data": {
      "text/html": [
       "<ol class=list-inline>\n",
       "\t<li>'movie_id'</li>\n",
       "\t<li>'budget'</li>\n",
       "\t<li>'popularity'</li>\n",
       "\t<li>'runtime'</li>\n",
       "\t<li>'revenue'</li>\n",
       "\t<li>'keyword_cnt'</li>\n",
       "\t<li>'release_year'</li>\n",
       "\t<li>'release_month'</li>\n",
       "\t<li>'release_day'</li>\n",
       "\t<li>'seasonality'</li>\n",
       "\t<li>'sw_collection'</li>\n",
       "\t<li>'producers_cnt'</li>\n",
       "\t<li>'countries_cnt'</li>\n",
       "\t<li>'keywords_cnt'</li>\n",
       "\t<li>'actor0_movies_cnt'</li>\n",
       "\t<li>'actor0_movies_5y_cnt'</li>\n",
       "\t<li>'actor1_movies_cnt'</li>\n",
       "\t<li>'actor1_movies_5y_cnt'</li>\n",
       "\t<li>'actor2_movies_cnt'</li>\n",
       "\t<li>'actor2_movies_5y_cnt'</li>\n",
       "\t<li>'actor0_prev_revenue'</li>\n",
       "\t<li>'actor1_prev_revenue'</li>\n",
       "\t<li>'actor2_prev_revenue'</li>\n",
       "\t<li>'director_movies_cnt'</li>\n",
       "\t<li>'director_movies_5y_cnt'</li>\n",
       "\t<li>'depart_Art'</li>\n",
       "\t<li>'depart_Camera'</li>\n",
       "\t<li>'depart_Crew'</li>\n",
       "\t<li>'depart_Custom_Mkup'</li>\n",
       "\t<li>'depart_Directing'</li>\n",
       "\t<li>'depart_Editing'</li>\n",
       "\t<li>'depart_Lighting'</li>\n",
       "\t<li>'depart_Production'</li>\n",
       "\t<li>'depart_Sound'</li>\n",
       "\t<li>'depart_Visual_Effects'</li>\n",
       "\t<li>'depart_Writing'</li>\n",
       "\t<li>'depart_Art_female'</li>\n",
       "\t<li>'depart_Camera_female'</li>\n",
       "\t<li>'depart_Crew_female'</li>\n",
       "\t<li>'depart_Custom_Mkup_female'</li>\n",
       "\t<li>'depart_Directing_female'</li>\n",
       "\t<li>'depart_Editing_female'</li>\n",
       "\t<li>'depart_Production_female'</li>\n",
       "\t<li>'depart_Sound_female'</li>\n",
       "\t<li>'depart_Visual_Effects_female'</li>\n",
       "</ol>\n"
      ],
      "text/latex": [
       "\\begin{enumerate*}\n",
       "\\item 'movie\\_id'\n",
       "\\item 'budget'\n",
       "\\item 'popularity'\n",
       "\\item 'runtime'\n",
       "\\item 'revenue'\n",
       "\\item 'keyword\\_cnt'\n",
       "\\item 'release\\_year'\n",
       "\\item 'release\\_month'\n",
       "\\item 'release\\_day'\n",
       "\\item 'seasonality'\n",
       "\\item 'sw\\_collection'\n",
       "\\item 'producers\\_cnt'\n",
       "\\item 'countries\\_cnt'\n",
       "\\item 'keywords\\_cnt'\n",
       "\\item 'actor0\\_movies\\_cnt'\n",
       "\\item 'actor0\\_movies\\_5y\\_cnt'\n",
       "\\item 'actor1\\_movies\\_cnt'\n",
       "\\item 'actor1\\_movies\\_5y\\_cnt'\n",
       "\\item 'actor2\\_movies\\_cnt'\n",
       "\\item 'actor2\\_movies\\_5y\\_cnt'\n",
       "\\item 'actor0\\_prev\\_revenue'\n",
       "\\item 'actor1\\_prev\\_revenue'\n",
       "\\item 'actor2\\_prev\\_revenue'\n",
       "\\item 'director\\_movies\\_cnt'\n",
       "\\item 'director\\_movies\\_5y\\_cnt'\n",
       "\\item 'depart\\_Art'\n",
       "\\item 'depart\\_Camera'\n",
       "\\item 'depart\\_Crew'\n",
       "\\item 'depart\\_Custom\\_Mkup'\n",
       "\\item 'depart\\_Directing'\n",
       "\\item 'depart\\_Editing'\n",
       "\\item 'depart\\_Lighting'\n",
       "\\item 'depart\\_Production'\n",
       "\\item 'depart\\_Sound'\n",
       "\\item 'depart\\_Visual\\_Effects'\n",
       "\\item 'depart\\_Writing'\n",
       "\\item 'depart\\_Art\\_female'\n",
       "\\item 'depart\\_Camera\\_female'\n",
       "\\item 'depart\\_Crew\\_female'\n",
       "\\item 'depart\\_Custom\\_Mkup\\_female'\n",
       "\\item 'depart\\_Directing\\_female'\n",
       "\\item 'depart\\_Editing\\_female'\n",
       "\\item 'depart\\_Production\\_female'\n",
       "\\item 'depart\\_Sound\\_female'\n",
       "\\item 'depart\\_Visual\\_Effects\\_female'\n",
       "\\end{enumerate*}\n"
      ],
      "text/markdown": [
       "1. 'movie_id'\n",
       "2. 'budget'\n",
       "3. 'popularity'\n",
       "4. 'runtime'\n",
       "5. 'revenue'\n",
       "6. 'keyword_cnt'\n",
       "7. 'release_year'\n",
       "8. 'release_month'\n",
       "9. 'release_day'\n",
       "10. 'seasonality'\n",
       "11. 'sw_collection'\n",
       "12. 'producers_cnt'\n",
       "13. 'countries_cnt'\n",
       "14. 'keywords_cnt'\n",
       "15. 'actor0_movies_cnt'\n",
       "16. 'actor0_movies_5y_cnt'\n",
       "17. 'actor1_movies_cnt'\n",
       "18. 'actor1_movies_5y_cnt'\n",
       "19. 'actor2_movies_cnt'\n",
       "20. 'actor2_movies_5y_cnt'\n",
       "21. 'actor0_prev_revenue'\n",
       "22. 'actor1_prev_revenue'\n",
       "23. 'actor2_prev_revenue'\n",
       "24. 'director_movies_cnt'\n",
       "25. 'director_movies_5y_cnt'\n",
       "26. 'depart_Art'\n",
       "27. 'depart_Camera'\n",
       "28. 'depart_Crew'\n",
       "29. 'depart_Custom_Mkup'\n",
       "30. 'depart_Directing'\n",
       "31. 'depart_Editing'\n",
       "32. 'depart_Lighting'\n",
       "33. 'depart_Production'\n",
       "34. 'depart_Sound'\n",
       "35. 'depart_Visual_Effects'\n",
       "36. 'depart_Writing'\n",
       "37. 'depart_Art_female'\n",
       "38. 'depart_Camera_female'\n",
       "39. 'depart_Crew_female'\n",
       "40. 'depart_Custom_Mkup_female'\n",
       "41. 'depart_Directing_female'\n",
       "42. 'depart_Editing_female'\n",
       "43. 'depart_Production_female'\n",
       "44. 'depart_Sound_female'\n",
       "45. 'depart_Visual_Effects_female'\n",
       "\n",
       "\n"
      ],
      "text/plain": [
       " [1] \"movie_id\"                     \"budget\"                      \n",
       " [3] \"popularity\"                   \"runtime\"                     \n",
       " [5] \"revenue\"                      \"keyword_cnt\"                 \n",
       " [7] \"release_year\"                 \"release_month\"               \n",
       " [9] \"release_day\"                  \"seasonality\"                 \n",
       "[11] \"sw_collection\"                \"producers_cnt\"               \n",
       "[13] \"countries_cnt\"                \"keywords_cnt\"                \n",
       "[15] \"actor0_movies_cnt\"            \"actor0_movies_5y_cnt\"        \n",
       "[17] \"actor1_movies_cnt\"            \"actor1_movies_5y_cnt\"        \n",
       "[19] \"actor2_movies_cnt\"            \"actor2_movies_5y_cnt\"        \n",
       "[21] \"actor0_prev_revenue\"          \"actor1_prev_revenue\"         \n",
       "[23] \"actor2_prev_revenue\"          \"director_movies_cnt\"         \n",
       "[25] \"director_movies_5y_cnt\"       \"depart_Art\"                  \n",
       "[27] \"depart_Camera\"                \"depart_Crew\"                 \n",
       "[29] \"depart_Custom_Mkup\"           \"depart_Directing\"            \n",
       "[31] \"depart_Editing\"               \"depart_Lighting\"             \n",
       "[33] \"depart_Production\"            \"depart_Sound\"                \n",
       "[35] \"depart_Visual_Effects\"        \"depart_Writing\"              \n",
       "[37] \"depart_Art_female\"            \"depart_Camera_female\"        \n",
       "[39] \"depart_Crew_female\"           \"depart_Custom_Mkup_female\"   \n",
       "[41] \"depart_Directing_female\"      \"depart_Editing_female\"       \n",
       "[43] \"depart_Production_female\"     \"depart_Sound_female\"         \n",
       "[45] \"depart_Visual_Effects_female\""
      ]
     },
     "metadata": {},
     "output_type": "display_data"
    }
   ],
   "source": [
    "vn <- names(movies_ff[,2:84])\n",
    "movies_continuous <- c('movie_id')\n",
    "for(v in vn) {\n",
    "        if((is.numeric(movies_ff[[v]])) & (max(movies_ff[[v]],na.rm=T)>1))\n",
    "            {movies_continuous <- c(movies_continuous,v)}}\n",
    "movies_continuous"
   ]
  },
  {
   "cell_type": "code",
   "execution_count": 45,
   "metadata": {},
   "outputs": [],
   "source": [
    "movies_outliers <- outlierMatrix(movies_ff)"
   ]
  },
  {
   "cell_type": "code",
   "execution_count": 46,
   "metadata": {},
   "outputs": [
    {
     "data": {
      "text/html": [
       "<table>\n",
       "<caption>A data.frame: 7375 × 82</caption>\n",
       "<thead>\n",
       "\t<tr><th scope=col>movie_id</th><th scope=col>budget</th><th scope=col>popularity</th><th scope=col>runtime</th><th scope=col>revenue</th><th scope=col>sw_lang_en</th><th scope=col>sw_web_presence</th><th scope=col>sw_has_poster</th><th scope=col>sw_tagline</th><th scope=col>keyword_cnt</th><th scope=col>...</th><th scope=col>depart_Camera_female</th><th scope=col>depart_Crew_female</th><th scope=col>depart_Custom_Mkup_female</th><th scope=col>depart_Directing_female</th><th scope=col>depart_Editing_female</th><th scope=col>depart_Lighting_female</th><th scope=col>depart_Production_female</th><th scope=col>depart_Sound_female</th><th scope=col>depart_Visual_Effects_female</th><th scope=col>depart_Writing_female</th></tr>\n",
       "\t<tr><th scope=col>&lt;dbl&gt;</th><th scope=col>&lt;dbl&gt;</th><th scope=col>&lt;dbl&gt;</th><th scope=col>&lt;dbl&gt;</th><th scope=col>&lt;dbl&gt;</th><th scope=col>&lt;dbl&gt;</th><th scope=col>&lt;dbl&gt;</th><th scope=col>&lt;dbl&gt;</th><th scope=col>&lt;dbl&gt;</th><th scope=col>&lt;dbl&gt;</th><th scope=col>...</th><th scope=col>&lt;dbl&gt;</th><th scope=col>&lt;dbl&gt;</th><th scope=col>&lt;dbl&gt;</th><th scope=col>&lt;dbl&gt;</th><th scope=col>&lt;dbl&gt;</th><th scope=col>&lt;dbl&gt;</th><th scope=col>&lt;dbl&gt;</th><th scope=col>&lt;dbl&gt;</th><th scope=col>&lt;dbl&gt;</th><th scope=col>&lt;dbl&gt;</th></tr>\n",
       "</thead>\n",
       "<tbody>\n",
       "\t<tr><td>0</td><td>0</td><td>0</td><td>0</td><td>0</td><td>0</td><td>0</td><td>0</td><td>0</td><td>0</td><td>...</td><td>0</td><td>0</td><td>0</td><td>0</td><td>0</td><td>0</td><td>0</td><td>0</td><td>0</td><td>0</td></tr>\n",
       "\t<tr><td>0</td><td>0</td><td>0</td><td>0</td><td>0</td><td>0</td><td>0</td><td>0</td><td>0</td><td>0</td><td>...</td><td>0</td><td>0</td><td>0</td><td>0</td><td>0</td><td>0</td><td>0</td><td>0</td><td>0</td><td>1</td></tr>\n",
       "\t<tr><td>0</td><td>0</td><td>1</td><td>0</td><td>0</td><td>0</td><td>0</td><td>0</td><td>0</td><td>0</td><td>...</td><td>0</td><td>1</td><td>0</td><td>0</td><td>0</td><td>0</td><td>0</td><td>0</td><td>0</td><td>0</td></tr>\n",
       "\t<tr><td>0</td><td>0</td><td>0</td><td>0</td><td>0</td><td>1</td><td>0</td><td>0</td><td>1</td><td>0</td><td>...</td><td>0</td><td>0</td><td>0</td><td>0</td><td>0</td><td>0</td><td>0</td><td>0</td><td>0</td><td>0</td></tr>\n",
       "\t<tr><td>0</td><td>0</td><td>0</td><td>0</td><td>0</td><td>1</td><td>0</td><td>0</td><td>1</td><td>0</td><td>...</td><td>0</td><td>0</td><td>0</td><td>0</td><td>0</td><td>0</td><td>0</td><td>0</td><td>0</td><td>0</td></tr>\n",
       "\t<tr><td>0</td><td>0</td><td>0</td><td>0</td><td>0</td><td>0</td><td>0</td><td>0</td><td>1</td><td>0</td><td>...</td><td>0</td><td>0</td><td>0</td><td>0</td><td>0</td><td>0</td><td>0</td><td>0</td><td>0</td><td>0</td></tr>\n",
       "\t<tr><td>0</td><td>0</td><td>0</td><td>0</td><td>0</td><td>0</td><td>0</td><td>0</td><td>0</td><td>0</td><td>...</td><td>0</td><td>0</td><td>0</td><td>1</td><td>0</td><td>0</td><td>0</td><td>0</td><td>0</td><td>0</td></tr>\n",
       "\t<tr><td>0</td><td>0</td><td>0</td><td>0</td><td>0</td><td>0</td><td>0</td><td>0</td><td>0</td><td>0</td><td>...</td><td>0</td><td>0</td><td>0</td><td>1</td><td>0</td><td>0</td><td>0</td><td>0</td><td>0</td><td>0</td></tr>\n",
       "\t<tr><td>0</td><td>0</td><td>0</td><td>0</td><td>0</td><td>0</td><td>0</td><td>0</td><td>0</td><td>0</td><td>...</td><td>0</td><td>0</td><td>0</td><td>0</td><td>0</td><td>0</td><td>0</td><td>0</td><td>0</td><td>0</td></tr>\n",
       "\t<tr><td>0</td><td>0</td><td>0</td><td>0</td><td>0</td><td>0</td><td>0</td><td>0</td><td>0</td><td>0</td><td>...</td><td>1</td><td>0</td><td>0</td><td>0</td><td>0</td><td>0</td><td>0</td><td>0</td><td>0</td><td>0</td></tr>\n",
       "\t<tr><td>0</td><td>0</td><td>0</td><td>0</td><td>0</td><td>0</td><td>0</td><td>0</td><td>0</td><td>0</td><td>...</td><td>0</td><td>0</td><td>0</td><td>1</td><td>1</td><td>0</td><td>0</td><td>0</td><td>0</td><td>0</td></tr>\n",
       "\t<tr><td>0</td><td>0</td><td>0</td><td>0</td><td>0</td><td>0</td><td>0</td><td>0</td><td>0</td><td>0</td><td>...</td><td>0</td><td>0</td><td>0</td><td>0</td><td>0</td><td>0</td><td>0</td><td>0</td><td>0</td><td>0</td></tr>\n",
       "\t<tr><td>0</td><td>0</td><td>0</td><td>0</td><td>1</td><td>0</td><td>0</td><td>0</td><td>0</td><td>1</td><td>...</td><td>0</td><td>1</td><td>1</td><td>1</td><td>0</td><td>0</td><td>0</td><td>0</td><td>0</td><td>0</td></tr>\n",
       "\t<tr><td>0</td><td>0</td><td>0</td><td>0</td><td>0</td><td>0</td><td>0</td><td>0</td><td>0</td><td>0</td><td>...</td><td>0</td><td>0</td><td>0</td><td>0</td><td>0</td><td>0</td><td>0</td><td>0</td><td>0</td><td>0</td></tr>\n",
       "\t<tr><td>0</td><td>1</td><td>0</td><td>0</td><td>1</td><td>0</td><td>0</td><td>0</td><td>0</td><td>0</td><td>...</td><td>0</td><td>1</td><td>0</td><td>1</td><td>0</td><td>0</td><td>0</td><td>0</td><td>0</td><td>0</td></tr>\n",
       "\t<tr><td>0</td><td>0</td><td>0</td><td>0</td><td>0</td><td>1</td><td>0</td><td>0</td><td>0</td><td>0</td><td>...</td><td>0</td><td>0</td><td>0</td><td>0</td><td>0</td><td>0</td><td>0</td><td>0</td><td>0</td><td>0</td></tr>\n",
       "\t<tr><td>0</td><td>0</td><td>0</td><td>0</td><td>0</td><td>0</td><td>0</td><td>0</td><td>0</td><td>0</td><td>...</td><td>0</td><td>0</td><td>1</td><td>1</td><td>0</td><td>0</td><td>0</td><td>0</td><td>0</td><td>0</td></tr>\n",
       "\t<tr><td>0</td><td>0</td><td>0</td><td>0</td><td>0</td><td>0</td><td>0</td><td>0</td><td>0</td><td>0</td><td>...</td><td>0</td><td>0</td><td>0</td><td>0</td><td>0</td><td>0</td><td>0</td><td>0</td><td>0</td><td>0</td></tr>\n",
       "\t<tr><td>0</td><td>0</td><td>0</td><td>0</td><td>0</td><td>0</td><td>0</td><td>0</td><td>0</td><td>0</td><td>...</td><td>0</td><td>0</td><td>0</td><td>0</td><td>0</td><td>0</td><td>0</td><td>0</td><td>0</td><td>0</td></tr>\n",
       "\t<tr><td>0</td><td>0</td><td>0</td><td>0</td><td>0</td><td>0</td><td>0</td><td>0</td><td>0</td><td>0</td><td>...</td><td>0</td><td>0</td><td>0</td><td>0</td><td>0</td><td>0</td><td>0</td><td>0</td><td>0</td><td>0</td></tr>\n",
       "\t<tr><td>0</td><td>1</td><td>0</td><td>0</td><td>0</td><td>0</td><td>0</td><td>0</td><td>0</td><td>0</td><td>...</td><td>0</td><td>0</td><td>0</td><td>1</td><td>0</td><td>0</td><td>0</td><td>0</td><td>0</td><td>0</td></tr>\n",
       "\t<tr><td>0</td><td>0</td><td>0</td><td>0</td><td>0</td><td>0</td><td>0</td><td>0</td><td>0</td><td>0</td><td>...</td><td>0</td><td>0</td><td>0</td><td>0</td><td>0</td><td>0</td><td>0</td><td>0</td><td>0</td><td>1</td></tr>\n",
       "\t<tr><td>0</td><td>0</td><td>0</td><td>0</td><td>0</td><td>0</td><td>0</td><td>0</td><td>0</td><td>0</td><td>...</td><td>0</td><td>0</td><td>0</td><td>0</td><td>0</td><td>0</td><td>0</td><td>0</td><td>0</td><td>0</td></tr>\n",
       "\t<tr><td>0</td><td>0</td><td>0</td><td>0</td><td>0</td><td>0</td><td>0</td><td>0</td><td>0</td><td>0</td><td>...</td><td>0</td><td>0</td><td>0</td><td>0</td><td>0</td><td>0</td><td>0</td><td>1</td><td>0</td><td>0</td></tr>\n",
       "\t<tr><td>0</td><td>0</td><td>0</td><td>0</td><td>0</td><td>0</td><td>0</td><td>0</td><td>0</td><td>0</td><td>...</td><td>0</td><td>0</td><td>0</td><td>0</td><td>0</td><td>0</td><td>0</td><td>1</td><td>0</td><td>0</td></tr>\n",
       "\t<tr><td>0</td><td>0</td><td>0</td><td>0</td><td>0</td><td>0</td><td>0</td><td>0</td><td>0</td><td>0</td><td>...</td><td>0</td><td>0</td><td>0</td><td>0</td><td>1</td><td>0</td><td>0</td><td>0</td><td>0</td><td>0</td></tr>\n",
       "\t<tr><td>0</td><td>0</td><td>0</td><td>0</td><td>0</td><td>0</td><td>0</td><td>0</td><td>0</td><td>0</td><td>...</td><td>0</td><td>0</td><td>0</td><td>1</td><td>1</td><td>0</td><td>0</td><td>0</td><td>0</td><td>0</td></tr>\n",
       "\t<tr><td>0</td><td>0</td><td>0</td><td>0</td><td>0</td><td>0</td><td>0</td><td>0</td><td>0</td><td>0</td><td>...</td><td>0</td><td>0</td><td>0</td><td>0</td><td>0</td><td>0</td><td>0</td><td>0</td><td>0</td><td>0</td></tr>\n",
       "\t<tr><td>0</td><td>0</td><td>0</td><td>0</td><td>0</td><td>0</td><td>0</td><td>0</td><td>0</td><td>0</td><td>...</td><td>0</td><td>0</td><td>0</td><td>0</td><td>0</td><td>0</td><td>0</td><td>0</td><td>0</td><td>0</td></tr>\n",
       "\t<tr><td>0</td><td>0</td><td>0</td><td>0</td><td>0</td><td>0</td><td>0</td><td>0</td><td>0</td><td>0</td><td>...</td><td>0</td><td>0</td><td>0</td><td>0</td><td>0</td><td>0</td><td>0</td><td>0</td><td>0</td><td>0</td></tr>\n",
       "\t<tr><td>...</td><td>...</td><td>...</td><td>...</td><td>...</td><td>...</td><td>...</td><td>...</td><td>...</td><td>...</td><td></td><td>...</td><td>...</td><td>...</td><td>...</td><td>...</td><td>...</td><td>...</td><td>...</td><td>...</td><td>...</td></tr>\n",
       "\t<tr><td>0</td><td>0</td><td>0</td><td>0</td><td>NA</td><td>0</td><td>0</td><td>0</td><td>1</td><td>0</td><td>...</td><td>0</td><td>0</td><td>0</td><td>0</td><td>0</td><td>0</td><td>0</td><td>0</td><td>0</td><td>0</td></tr>\n",
       "\t<tr><td>0</td><td>0</td><td>0</td><td>0</td><td>NA</td><td>0</td><td>0</td><td>0</td><td>0</td><td>0</td><td>...</td><td>0</td><td>0</td><td>0</td><td>0</td><td>0</td><td>0</td><td>0</td><td>0</td><td>0</td><td>0</td></tr>\n",
       "\t<tr><td>0</td><td>0</td><td>0</td><td>0</td><td>NA</td><td>0</td><td>0</td><td>0</td><td>1</td><td>0</td><td>...</td><td>0</td><td>0</td><td>0</td><td>0</td><td>0</td><td>0</td><td>0</td><td>0</td><td>0</td><td>0</td></tr>\n",
       "\t<tr><td>0</td><td>0</td><td>0</td><td>0</td><td>NA</td><td>0</td><td>0</td><td>0</td><td>0</td><td>0</td><td>...</td><td>0</td><td>0</td><td>0</td><td>0</td><td>1</td><td>0</td><td>0</td><td>0</td><td>0</td><td>0</td></tr>\n",
       "\t<tr><td>0</td><td>1</td><td>0</td><td>0</td><td>NA</td><td>0</td><td>0</td><td>0</td><td>0</td><td>0</td><td>...</td><td>0</td><td>0</td><td>0</td><td>0</td><td>1</td><td>0</td><td>0</td><td>1</td><td>0</td><td>0</td></tr>\n",
       "\t<tr><td>0</td><td>0</td><td>0</td><td>0</td><td>NA</td><td>0</td><td>0</td><td>0</td><td>0</td><td>1</td><td>...</td><td>0</td><td>0</td><td>0</td><td>1</td><td>0</td><td>0</td><td>0</td><td>0</td><td>0</td><td>0</td></tr>\n",
       "\t<tr><td>0</td><td>0</td><td>0</td><td>0</td><td>NA</td><td>0</td><td>0</td><td>0</td><td>0</td><td>0</td><td>...</td><td>0</td><td>0</td><td>0</td><td>1</td><td>0</td><td>0</td><td>0</td><td>1</td><td>0</td><td>1</td></tr>\n",
       "\t<tr><td>0</td><td>0</td><td>0</td><td>0</td><td>NA</td><td>1</td><td>0</td><td>0</td><td>1</td><td>0</td><td>...</td><td>0</td><td>0</td><td>0</td><td>0</td><td>0</td><td>0</td><td>0</td><td>0</td><td>0</td><td>0</td></tr>\n",
       "\t<tr><td>0</td><td>0</td><td>0</td><td>0</td><td>NA</td><td>0</td><td>0</td><td>0</td><td>0</td><td>0</td><td>...</td><td>0</td><td>0</td><td>0</td><td>0</td><td>0</td><td>0</td><td>0</td><td>0</td><td>0</td><td>0</td></tr>\n",
       "\t<tr><td>0</td><td>0</td><td>1</td><td>0</td><td>NA</td><td>0</td><td>0</td><td>0</td><td>0</td><td>0</td><td>...</td><td>0</td><td>1</td><td>1</td><td>1</td><td>0</td><td>0</td><td>0</td><td>0</td><td>0</td><td>0</td></tr>\n",
       "\t<tr><td>0</td><td>0</td><td>0</td><td>0</td><td>NA</td><td>0</td><td>0</td><td>0</td><td>0</td><td>0</td><td>...</td><td>0</td><td>0</td><td>0</td><td>0</td><td>0</td><td>0</td><td>0</td><td>0</td><td>0</td><td>0</td></tr>\n",
       "\t<tr><td>0</td><td>0</td><td>0</td><td>0</td><td>NA</td><td>0</td><td>0</td><td>0</td><td>0</td><td>0</td><td>...</td><td>0</td><td>1</td><td>0</td><td>0</td><td>1</td><td>0</td><td>0</td><td>0</td><td>0</td><td>0</td></tr>\n",
       "\t<tr><td>0</td><td>0</td><td>0</td><td>0</td><td>NA</td><td>0</td><td>0</td><td>0</td><td>1</td><td>0</td><td>...</td><td>0</td><td>0</td><td>0</td><td>0</td><td>0</td><td>0</td><td>0</td><td>0</td><td>0</td><td>0</td></tr>\n",
       "\t<tr><td>0</td><td>0</td><td>0</td><td>1</td><td>NA</td><td>0</td><td>0</td><td>0</td><td>0</td><td>0</td><td>...</td><td>0</td><td>0</td><td>0</td><td>1</td><td>1</td><td>0</td><td>0</td><td>0</td><td>0</td><td>0</td></tr>\n",
       "\t<tr><td>0</td><td>0</td><td>0</td><td>0</td><td>NA</td><td>0</td><td>0</td><td>0</td><td>1</td><td>0</td><td>...</td><td>0</td><td>0</td><td>0</td><td>0</td><td>0</td><td>0</td><td>0</td><td>0</td><td>0</td><td>0</td></tr>\n",
       "\t<tr><td>0</td><td>0</td><td>0</td><td>0</td><td>NA</td><td>0</td><td>0</td><td>0</td><td>0</td><td>0</td><td>...</td><td>0</td><td>0</td><td>0</td><td>0</td><td>0</td><td>0</td><td>0</td><td>0</td><td>0</td><td>0</td></tr>\n",
       "\t<tr><td>0</td><td>0</td><td>0</td><td>0</td><td>NA</td><td>0</td><td>0</td><td>0</td><td>0</td><td>0</td><td>...</td><td>0</td><td>0</td><td>0</td><td>0</td><td>0</td><td>0</td><td>0</td><td>0</td><td>0</td><td>0</td></tr>\n",
       "\t<tr><td>0</td><td>0</td><td>0</td><td>0</td><td>NA</td><td>0</td><td>0</td><td>0</td><td>0</td><td>1</td><td>...</td><td>0</td><td>0</td><td>0</td><td>0</td><td>0</td><td>0</td><td>0</td><td>0</td><td>0</td><td>0</td></tr>\n",
       "\t<tr><td>0</td><td>0</td><td>0</td><td>0</td><td>NA</td><td>0</td><td>0</td><td>0</td><td>0</td><td>0</td><td>...</td><td>0</td><td>0</td><td>0</td><td>0</td><td>0</td><td>0</td><td>0</td><td>0</td><td>0</td><td>0</td></tr>\n",
       "\t<tr><td>0</td><td>0</td><td>0</td><td>0</td><td>NA</td><td>0</td><td>0</td><td>0</td><td>0</td><td>0</td><td>...</td><td>0</td><td>0</td><td>0</td><td>0</td><td>0</td><td>0</td><td>0</td><td>0</td><td>0</td><td>0</td></tr>\n",
       "\t<tr><td>0</td><td>0</td><td>0</td><td>0</td><td>NA</td><td>0</td><td>0</td><td>0</td><td>1</td><td>0</td><td>...</td><td>0</td><td>0</td><td>0</td><td>0</td><td>0</td><td>0</td><td>0</td><td>0</td><td>0</td><td>0</td></tr>\n",
       "\t<tr><td>0</td><td>0</td><td>0</td><td>0</td><td>NA</td><td>0</td><td>0</td><td>0</td><td>0</td><td>0</td><td>...</td><td>0</td><td>0</td><td>0</td><td>0</td><td>0</td><td>0</td><td>0</td><td>0</td><td>0</td><td>0</td></tr>\n",
       "\t<tr><td>0</td><td>0</td><td>0</td><td>0</td><td>NA</td><td>0</td><td>0</td><td>0</td><td>0</td><td>0</td><td>...</td><td>0</td><td>0</td><td>0</td><td>0</td><td>0</td><td>0</td><td>0</td><td>0</td><td>0</td><td>1</td></tr>\n",
       "\t<tr><td>0</td><td>0</td><td>0</td><td>0</td><td>NA</td><td>0</td><td>0</td><td>0</td><td>0</td><td>0</td><td>...</td><td>0</td><td>0</td><td>0</td><td>0</td><td>0</td><td>0</td><td>0</td><td>0</td><td>0</td><td>1</td></tr>\n",
       "\t<tr><td>0</td><td>1</td><td>1</td><td>0</td><td>NA</td><td>0</td><td>0</td><td>0</td><td>0</td><td>0</td><td>...</td><td>1</td><td>0</td><td>0</td><td>0</td><td>0</td><td>0</td><td>0</td><td>0</td><td>0</td><td>1</td></tr>\n",
       "\t<tr><td>0</td><td>0</td><td>0</td><td>0</td><td>NA</td><td>0</td><td>0</td><td>0</td><td>0</td><td>0</td><td>...</td><td>0</td><td>0</td><td>0</td><td>0</td><td>0</td><td>0</td><td>0</td><td>0</td><td>0</td><td>0</td></tr>\n",
       "\t<tr><td>0</td><td>0</td><td>0</td><td>0</td><td>NA</td><td>0</td><td>0</td><td>0</td><td>0</td><td>0</td><td>...</td><td>0</td><td>0</td><td>0</td><td>1</td><td>1</td><td>0</td><td>0</td><td>0</td><td>0</td><td>0</td></tr>\n",
       "\t<tr><td>0</td><td>0</td><td>0</td><td>0</td><td>NA</td><td>0</td><td>0</td><td>0</td><td>0</td><td>0</td><td>...</td><td>0</td><td>0</td><td>0</td><td>0</td><td>0</td><td>0</td><td>0</td><td>0</td><td>0</td><td>0</td></tr>\n",
       "\t<tr><td>0</td><td>0</td><td>0</td><td>0</td><td>NA</td><td>0</td><td>0</td><td>0</td><td>0</td><td>0</td><td>...</td><td>0</td><td>0</td><td>0</td><td>0</td><td>0</td><td>0</td><td>0</td><td>0</td><td>0</td><td>0</td></tr>\n",
       "\t<tr><td>0</td><td>0</td><td>0</td><td>0</td><td>NA</td><td>1</td><td>0</td><td>0</td><td>0</td><td>0</td><td>...</td><td>0</td><td>0</td><td>0</td><td>1</td><td>0</td><td>0</td><td>0</td><td>0</td><td>0</td><td>0</td></tr>\n",
       "</tbody>\n",
       "</table>\n"
      ],
      "text/latex": [
       "A data.frame: 7375 × 82\n",
       "\\begin{tabular}{lllllllllllllllllllll}\n",
       " movie\\_id & budget & popularity & runtime & revenue & sw\\_lang\\_en & sw\\_web\\_presence & sw\\_has\\_poster & sw\\_tagline & keyword\\_cnt & ... & depart\\_Camera\\_female & depart\\_Crew\\_female & depart\\_Custom\\_Mkup\\_female & depart\\_Directing\\_female & depart\\_Editing\\_female & depart\\_Lighting\\_female & depart\\_Production\\_female & depart\\_Sound\\_female & depart\\_Visual\\_Effects\\_female & depart\\_Writing\\_female\\\\\n",
       " <dbl> & <dbl> & <dbl> & <dbl> & <dbl> & <dbl> & <dbl> & <dbl> & <dbl> & <dbl> & ... & <dbl> & <dbl> & <dbl> & <dbl> & <dbl> & <dbl> & <dbl> & <dbl> & <dbl> & <dbl>\\\\\n",
       "\\hline\n",
       "\t 0 & 0 & 0 & 0 & 0 & 0 & 0 & 0 & 0 & 0 & ... & 0 & 0 & 0 & 0 & 0 & 0 & 0 & 0 & 0 & 0\\\\\n",
       "\t 0 & 0 & 0 & 0 & 0 & 0 & 0 & 0 & 0 & 0 & ... & 0 & 0 & 0 & 0 & 0 & 0 & 0 & 0 & 0 & 1\\\\\n",
       "\t 0 & 0 & 1 & 0 & 0 & 0 & 0 & 0 & 0 & 0 & ... & 0 & 1 & 0 & 0 & 0 & 0 & 0 & 0 & 0 & 0\\\\\n",
       "\t 0 & 0 & 0 & 0 & 0 & 1 & 0 & 0 & 1 & 0 & ... & 0 & 0 & 0 & 0 & 0 & 0 & 0 & 0 & 0 & 0\\\\\n",
       "\t 0 & 0 & 0 & 0 & 0 & 1 & 0 & 0 & 1 & 0 & ... & 0 & 0 & 0 & 0 & 0 & 0 & 0 & 0 & 0 & 0\\\\\n",
       "\t 0 & 0 & 0 & 0 & 0 & 0 & 0 & 0 & 1 & 0 & ... & 0 & 0 & 0 & 0 & 0 & 0 & 0 & 0 & 0 & 0\\\\\n",
       "\t 0 & 0 & 0 & 0 & 0 & 0 & 0 & 0 & 0 & 0 & ... & 0 & 0 & 0 & 1 & 0 & 0 & 0 & 0 & 0 & 0\\\\\n",
       "\t 0 & 0 & 0 & 0 & 0 & 0 & 0 & 0 & 0 & 0 & ... & 0 & 0 & 0 & 1 & 0 & 0 & 0 & 0 & 0 & 0\\\\\n",
       "\t 0 & 0 & 0 & 0 & 0 & 0 & 0 & 0 & 0 & 0 & ... & 0 & 0 & 0 & 0 & 0 & 0 & 0 & 0 & 0 & 0\\\\\n",
       "\t 0 & 0 & 0 & 0 & 0 & 0 & 0 & 0 & 0 & 0 & ... & 1 & 0 & 0 & 0 & 0 & 0 & 0 & 0 & 0 & 0\\\\\n",
       "\t 0 & 0 & 0 & 0 & 0 & 0 & 0 & 0 & 0 & 0 & ... & 0 & 0 & 0 & 1 & 1 & 0 & 0 & 0 & 0 & 0\\\\\n",
       "\t 0 & 0 & 0 & 0 & 0 & 0 & 0 & 0 & 0 & 0 & ... & 0 & 0 & 0 & 0 & 0 & 0 & 0 & 0 & 0 & 0\\\\\n",
       "\t 0 & 0 & 0 & 0 & 1 & 0 & 0 & 0 & 0 & 1 & ... & 0 & 1 & 1 & 1 & 0 & 0 & 0 & 0 & 0 & 0\\\\\n",
       "\t 0 & 0 & 0 & 0 & 0 & 0 & 0 & 0 & 0 & 0 & ... & 0 & 0 & 0 & 0 & 0 & 0 & 0 & 0 & 0 & 0\\\\\n",
       "\t 0 & 1 & 0 & 0 & 1 & 0 & 0 & 0 & 0 & 0 & ... & 0 & 1 & 0 & 1 & 0 & 0 & 0 & 0 & 0 & 0\\\\\n",
       "\t 0 & 0 & 0 & 0 & 0 & 1 & 0 & 0 & 0 & 0 & ... & 0 & 0 & 0 & 0 & 0 & 0 & 0 & 0 & 0 & 0\\\\\n",
       "\t 0 & 0 & 0 & 0 & 0 & 0 & 0 & 0 & 0 & 0 & ... & 0 & 0 & 1 & 1 & 0 & 0 & 0 & 0 & 0 & 0\\\\\n",
       "\t 0 & 0 & 0 & 0 & 0 & 0 & 0 & 0 & 0 & 0 & ... & 0 & 0 & 0 & 0 & 0 & 0 & 0 & 0 & 0 & 0\\\\\n",
       "\t 0 & 0 & 0 & 0 & 0 & 0 & 0 & 0 & 0 & 0 & ... & 0 & 0 & 0 & 0 & 0 & 0 & 0 & 0 & 0 & 0\\\\\n",
       "\t 0 & 0 & 0 & 0 & 0 & 0 & 0 & 0 & 0 & 0 & ... & 0 & 0 & 0 & 0 & 0 & 0 & 0 & 0 & 0 & 0\\\\\n",
       "\t 0 & 1 & 0 & 0 & 0 & 0 & 0 & 0 & 0 & 0 & ... & 0 & 0 & 0 & 1 & 0 & 0 & 0 & 0 & 0 & 0\\\\\n",
       "\t 0 & 0 & 0 & 0 & 0 & 0 & 0 & 0 & 0 & 0 & ... & 0 & 0 & 0 & 0 & 0 & 0 & 0 & 0 & 0 & 1\\\\\n",
       "\t 0 & 0 & 0 & 0 & 0 & 0 & 0 & 0 & 0 & 0 & ... & 0 & 0 & 0 & 0 & 0 & 0 & 0 & 0 & 0 & 0\\\\\n",
       "\t 0 & 0 & 0 & 0 & 0 & 0 & 0 & 0 & 0 & 0 & ... & 0 & 0 & 0 & 0 & 0 & 0 & 0 & 1 & 0 & 0\\\\\n",
       "\t 0 & 0 & 0 & 0 & 0 & 0 & 0 & 0 & 0 & 0 & ... & 0 & 0 & 0 & 0 & 0 & 0 & 0 & 1 & 0 & 0\\\\\n",
       "\t 0 & 0 & 0 & 0 & 0 & 0 & 0 & 0 & 0 & 0 & ... & 0 & 0 & 0 & 0 & 1 & 0 & 0 & 0 & 0 & 0\\\\\n",
       "\t 0 & 0 & 0 & 0 & 0 & 0 & 0 & 0 & 0 & 0 & ... & 0 & 0 & 0 & 1 & 1 & 0 & 0 & 0 & 0 & 0\\\\\n",
       "\t 0 & 0 & 0 & 0 & 0 & 0 & 0 & 0 & 0 & 0 & ... & 0 & 0 & 0 & 0 & 0 & 0 & 0 & 0 & 0 & 0\\\\\n",
       "\t 0 & 0 & 0 & 0 & 0 & 0 & 0 & 0 & 0 & 0 & ... & 0 & 0 & 0 & 0 & 0 & 0 & 0 & 0 & 0 & 0\\\\\n",
       "\t 0 & 0 & 0 & 0 & 0 & 0 & 0 & 0 & 0 & 0 & ... & 0 & 0 & 0 & 0 & 0 & 0 & 0 & 0 & 0 & 0\\\\\n",
       "\t ... & ... & ... & ... & ... & ... & ... & ... & ... & ... &  & ... & ... & ... & ... & ... & ... & ... & ... & ... & ...\\\\\n",
       "\t 0 & 0 & 0 & 0 & NA & 0 & 0 & 0 & 1 & 0 & ... & 0 & 0 & 0 & 0 & 0 & 0 & 0 & 0 & 0 & 0\\\\\n",
       "\t 0 & 0 & 0 & 0 & NA & 0 & 0 & 0 & 0 & 0 & ... & 0 & 0 & 0 & 0 & 0 & 0 & 0 & 0 & 0 & 0\\\\\n",
       "\t 0 & 0 & 0 & 0 & NA & 0 & 0 & 0 & 1 & 0 & ... & 0 & 0 & 0 & 0 & 0 & 0 & 0 & 0 & 0 & 0\\\\\n",
       "\t 0 & 0 & 0 & 0 & NA & 0 & 0 & 0 & 0 & 0 & ... & 0 & 0 & 0 & 0 & 1 & 0 & 0 & 0 & 0 & 0\\\\\n",
       "\t 0 & 1 & 0 & 0 & NA & 0 & 0 & 0 & 0 & 0 & ... & 0 & 0 & 0 & 0 & 1 & 0 & 0 & 1 & 0 & 0\\\\\n",
       "\t 0 & 0 & 0 & 0 & NA & 0 & 0 & 0 & 0 & 1 & ... & 0 & 0 & 0 & 1 & 0 & 0 & 0 & 0 & 0 & 0\\\\\n",
       "\t 0 & 0 & 0 & 0 & NA & 0 & 0 & 0 & 0 & 0 & ... & 0 & 0 & 0 & 1 & 0 & 0 & 0 & 1 & 0 & 1\\\\\n",
       "\t 0 & 0 & 0 & 0 & NA & 1 & 0 & 0 & 1 & 0 & ... & 0 & 0 & 0 & 0 & 0 & 0 & 0 & 0 & 0 & 0\\\\\n",
       "\t 0 & 0 & 0 & 0 & NA & 0 & 0 & 0 & 0 & 0 & ... & 0 & 0 & 0 & 0 & 0 & 0 & 0 & 0 & 0 & 0\\\\\n",
       "\t 0 & 0 & 1 & 0 & NA & 0 & 0 & 0 & 0 & 0 & ... & 0 & 1 & 1 & 1 & 0 & 0 & 0 & 0 & 0 & 0\\\\\n",
       "\t 0 & 0 & 0 & 0 & NA & 0 & 0 & 0 & 0 & 0 & ... & 0 & 0 & 0 & 0 & 0 & 0 & 0 & 0 & 0 & 0\\\\\n",
       "\t 0 & 0 & 0 & 0 & NA & 0 & 0 & 0 & 0 & 0 & ... & 0 & 1 & 0 & 0 & 1 & 0 & 0 & 0 & 0 & 0\\\\\n",
       "\t 0 & 0 & 0 & 0 & NA & 0 & 0 & 0 & 1 & 0 & ... & 0 & 0 & 0 & 0 & 0 & 0 & 0 & 0 & 0 & 0\\\\\n",
       "\t 0 & 0 & 0 & 1 & NA & 0 & 0 & 0 & 0 & 0 & ... & 0 & 0 & 0 & 1 & 1 & 0 & 0 & 0 & 0 & 0\\\\\n",
       "\t 0 & 0 & 0 & 0 & NA & 0 & 0 & 0 & 1 & 0 & ... & 0 & 0 & 0 & 0 & 0 & 0 & 0 & 0 & 0 & 0\\\\\n",
       "\t 0 & 0 & 0 & 0 & NA & 0 & 0 & 0 & 0 & 0 & ... & 0 & 0 & 0 & 0 & 0 & 0 & 0 & 0 & 0 & 0\\\\\n",
       "\t 0 & 0 & 0 & 0 & NA & 0 & 0 & 0 & 0 & 0 & ... & 0 & 0 & 0 & 0 & 0 & 0 & 0 & 0 & 0 & 0\\\\\n",
       "\t 0 & 0 & 0 & 0 & NA & 0 & 0 & 0 & 0 & 1 & ... & 0 & 0 & 0 & 0 & 0 & 0 & 0 & 0 & 0 & 0\\\\\n",
       "\t 0 & 0 & 0 & 0 & NA & 0 & 0 & 0 & 0 & 0 & ... & 0 & 0 & 0 & 0 & 0 & 0 & 0 & 0 & 0 & 0\\\\\n",
       "\t 0 & 0 & 0 & 0 & NA & 0 & 0 & 0 & 0 & 0 & ... & 0 & 0 & 0 & 0 & 0 & 0 & 0 & 0 & 0 & 0\\\\\n",
       "\t 0 & 0 & 0 & 0 & NA & 0 & 0 & 0 & 1 & 0 & ... & 0 & 0 & 0 & 0 & 0 & 0 & 0 & 0 & 0 & 0\\\\\n",
       "\t 0 & 0 & 0 & 0 & NA & 0 & 0 & 0 & 0 & 0 & ... & 0 & 0 & 0 & 0 & 0 & 0 & 0 & 0 & 0 & 0\\\\\n",
       "\t 0 & 0 & 0 & 0 & NA & 0 & 0 & 0 & 0 & 0 & ... & 0 & 0 & 0 & 0 & 0 & 0 & 0 & 0 & 0 & 1\\\\\n",
       "\t 0 & 0 & 0 & 0 & NA & 0 & 0 & 0 & 0 & 0 & ... & 0 & 0 & 0 & 0 & 0 & 0 & 0 & 0 & 0 & 1\\\\\n",
       "\t 0 & 1 & 1 & 0 & NA & 0 & 0 & 0 & 0 & 0 & ... & 1 & 0 & 0 & 0 & 0 & 0 & 0 & 0 & 0 & 1\\\\\n",
       "\t 0 & 0 & 0 & 0 & NA & 0 & 0 & 0 & 0 & 0 & ... & 0 & 0 & 0 & 0 & 0 & 0 & 0 & 0 & 0 & 0\\\\\n",
       "\t 0 & 0 & 0 & 0 & NA & 0 & 0 & 0 & 0 & 0 & ... & 0 & 0 & 0 & 1 & 1 & 0 & 0 & 0 & 0 & 0\\\\\n",
       "\t 0 & 0 & 0 & 0 & NA & 0 & 0 & 0 & 0 & 0 & ... & 0 & 0 & 0 & 0 & 0 & 0 & 0 & 0 & 0 & 0\\\\\n",
       "\t 0 & 0 & 0 & 0 & NA & 0 & 0 & 0 & 0 & 0 & ... & 0 & 0 & 0 & 0 & 0 & 0 & 0 & 0 & 0 & 0\\\\\n",
       "\t 0 & 0 & 0 & 0 & NA & 1 & 0 & 0 & 0 & 0 & ... & 0 & 0 & 0 & 1 & 0 & 0 & 0 & 0 & 0 & 0\\\\\n",
       "\\end{tabular}\n"
      ],
      "text/markdown": [
       "\n",
       "A data.frame: 7375 × 82\n",
       "\n",
       "| movie_id &lt;dbl&gt; | budget &lt;dbl&gt; | popularity &lt;dbl&gt; | runtime &lt;dbl&gt; | revenue &lt;dbl&gt; | sw_lang_en &lt;dbl&gt; | sw_web_presence &lt;dbl&gt; | sw_has_poster &lt;dbl&gt; | sw_tagline &lt;dbl&gt; | keyword_cnt &lt;dbl&gt; | ... ... | depart_Camera_female &lt;dbl&gt; | depart_Crew_female &lt;dbl&gt; | depart_Custom_Mkup_female &lt;dbl&gt; | depart_Directing_female &lt;dbl&gt; | depart_Editing_female &lt;dbl&gt; | depart_Lighting_female &lt;dbl&gt; | depart_Production_female &lt;dbl&gt; | depart_Sound_female &lt;dbl&gt; | depart_Visual_Effects_female &lt;dbl&gt; | depart_Writing_female &lt;dbl&gt; |\n",
       "|---|---|---|---|---|---|---|---|---|---|---|---|---|---|---|---|---|---|---|---|---|\n",
       "| 0 | 0 | 0 | 0 | 0 | 0 | 0 | 0 | 0 | 0 | ... | 0 | 0 | 0 | 0 | 0 | 0 | 0 | 0 | 0 | 0 |\n",
       "| 0 | 0 | 0 | 0 | 0 | 0 | 0 | 0 | 0 | 0 | ... | 0 | 0 | 0 | 0 | 0 | 0 | 0 | 0 | 0 | 1 |\n",
       "| 0 | 0 | 1 | 0 | 0 | 0 | 0 | 0 | 0 | 0 | ... | 0 | 1 | 0 | 0 | 0 | 0 | 0 | 0 | 0 | 0 |\n",
       "| 0 | 0 | 0 | 0 | 0 | 1 | 0 | 0 | 1 | 0 | ... | 0 | 0 | 0 | 0 | 0 | 0 | 0 | 0 | 0 | 0 |\n",
       "| 0 | 0 | 0 | 0 | 0 | 1 | 0 | 0 | 1 | 0 | ... | 0 | 0 | 0 | 0 | 0 | 0 | 0 | 0 | 0 | 0 |\n",
       "| 0 | 0 | 0 | 0 | 0 | 0 | 0 | 0 | 1 | 0 | ... | 0 | 0 | 0 | 0 | 0 | 0 | 0 | 0 | 0 | 0 |\n",
       "| 0 | 0 | 0 | 0 | 0 | 0 | 0 | 0 | 0 | 0 | ... | 0 | 0 | 0 | 1 | 0 | 0 | 0 | 0 | 0 | 0 |\n",
       "| 0 | 0 | 0 | 0 | 0 | 0 | 0 | 0 | 0 | 0 | ... | 0 | 0 | 0 | 1 | 0 | 0 | 0 | 0 | 0 | 0 |\n",
       "| 0 | 0 | 0 | 0 | 0 | 0 | 0 | 0 | 0 | 0 | ... | 0 | 0 | 0 | 0 | 0 | 0 | 0 | 0 | 0 | 0 |\n",
       "| 0 | 0 | 0 | 0 | 0 | 0 | 0 | 0 | 0 | 0 | ... | 1 | 0 | 0 | 0 | 0 | 0 | 0 | 0 | 0 | 0 |\n",
       "| 0 | 0 | 0 | 0 | 0 | 0 | 0 | 0 | 0 | 0 | ... | 0 | 0 | 0 | 1 | 1 | 0 | 0 | 0 | 0 | 0 |\n",
       "| 0 | 0 | 0 | 0 | 0 | 0 | 0 | 0 | 0 | 0 | ... | 0 | 0 | 0 | 0 | 0 | 0 | 0 | 0 | 0 | 0 |\n",
       "| 0 | 0 | 0 | 0 | 1 | 0 | 0 | 0 | 0 | 1 | ... | 0 | 1 | 1 | 1 | 0 | 0 | 0 | 0 | 0 | 0 |\n",
       "| 0 | 0 | 0 | 0 | 0 | 0 | 0 | 0 | 0 | 0 | ... | 0 | 0 | 0 | 0 | 0 | 0 | 0 | 0 | 0 | 0 |\n",
       "| 0 | 1 | 0 | 0 | 1 | 0 | 0 | 0 | 0 | 0 | ... | 0 | 1 | 0 | 1 | 0 | 0 | 0 | 0 | 0 | 0 |\n",
       "| 0 | 0 | 0 | 0 | 0 | 1 | 0 | 0 | 0 | 0 | ... | 0 | 0 | 0 | 0 | 0 | 0 | 0 | 0 | 0 | 0 |\n",
       "| 0 | 0 | 0 | 0 | 0 | 0 | 0 | 0 | 0 | 0 | ... | 0 | 0 | 1 | 1 | 0 | 0 | 0 | 0 | 0 | 0 |\n",
       "| 0 | 0 | 0 | 0 | 0 | 0 | 0 | 0 | 0 | 0 | ... | 0 | 0 | 0 | 0 | 0 | 0 | 0 | 0 | 0 | 0 |\n",
       "| 0 | 0 | 0 | 0 | 0 | 0 | 0 | 0 | 0 | 0 | ... | 0 | 0 | 0 | 0 | 0 | 0 | 0 | 0 | 0 | 0 |\n",
       "| 0 | 0 | 0 | 0 | 0 | 0 | 0 | 0 | 0 | 0 | ... | 0 | 0 | 0 | 0 | 0 | 0 | 0 | 0 | 0 | 0 |\n",
       "| 0 | 1 | 0 | 0 | 0 | 0 | 0 | 0 | 0 | 0 | ... | 0 | 0 | 0 | 1 | 0 | 0 | 0 | 0 | 0 | 0 |\n",
       "| 0 | 0 | 0 | 0 | 0 | 0 | 0 | 0 | 0 | 0 | ... | 0 | 0 | 0 | 0 | 0 | 0 | 0 | 0 | 0 | 1 |\n",
       "| 0 | 0 | 0 | 0 | 0 | 0 | 0 | 0 | 0 | 0 | ... | 0 | 0 | 0 | 0 | 0 | 0 | 0 | 0 | 0 | 0 |\n",
       "| 0 | 0 | 0 | 0 | 0 | 0 | 0 | 0 | 0 | 0 | ... | 0 | 0 | 0 | 0 | 0 | 0 | 0 | 1 | 0 | 0 |\n",
       "| 0 | 0 | 0 | 0 | 0 | 0 | 0 | 0 | 0 | 0 | ... | 0 | 0 | 0 | 0 | 0 | 0 | 0 | 1 | 0 | 0 |\n",
       "| 0 | 0 | 0 | 0 | 0 | 0 | 0 | 0 | 0 | 0 | ... | 0 | 0 | 0 | 0 | 1 | 0 | 0 | 0 | 0 | 0 |\n",
       "| 0 | 0 | 0 | 0 | 0 | 0 | 0 | 0 | 0 | 0 | ... | 0 | 0 | 0 | 1 | 1 | 0 | 0 | 0 | 0 | 0 |\n",
       "| 0 | 0 | 0 | 0 | 0 | 0 | 0 | 0 | 0 | 0 | ... | 0 | 0 | 0 | 0 | 0 | 0 | 0 | 0 | 0 | 0 |\n",
       "| 0 | 0 | 0 | 0 | 0 | 0 | 0 | 0 | 0 | 0 | ... | 0 | 0 | 0 | 0 | 0 | 0 | 0 | 0 | 0 | 0 |\n",
       "| 0 | 0 | 0 | 0 | 0 | 0 | 0 | 0 | 0 | 0 | ... | 0 | 0 | 0 | 0 | 0 | 0 | 0 | 0 | 0 | 0 |\n",
       "| ... | ... | ... | ... | ... | ... | ... | ... | ... | ... | <!----> | ... | ... | ... | ... | ... | ... | ... | ... | ... | ... |\n",
       "| 0 | 0 | 0 | 0 | NA | 0 | 0 | 0 | 1 | 0 | ... | 0 | 0 | 0 | 0 | 0 | 0 | 0 | 0 | 0 | 0 |\n",
       "| 0 | 0 | 0 | 0 | NA | 0 | 0 | 0 | 0 | 0 | ... | 0 | 0 | 0 | 0 | 0 | 0 | 0 | 0 | 0 | 0 |\n",
       "| 0 | 0 | 0 | 0 | NA | 0 | 0 | 0 | 1 | 0 | ... | 0 | 0 | 0 | 0 | 0 | 0 | 0 | 0 | 0 | 0 |\n",
       "| 0 | 0 | 0 | 0 | NA | 0 | 0 | 0 | 0 | 0 | ... | 0 | 0 | 0 | 0 | 1 | 0 | 0 | 0 | 0 | 0 |\n",
       "| 0 | 1 | 0 | 0 | NA | 0 | 0 | 0 | 0 | 0 | ... | 0 | 0 | 0 | 0 | 1 | 0 | 0 | 1 | 0 | 0 |\n",
       "| 0 | 0 | 0 | 0 | NA | 0 | 0 | 0 | 0 | 1 | ... | 0 | 0 | 0 | 1 | 0 | 0 | 0 | 0 | 0 | 0 |\n",
       "| 0 | 0 | 0 | 0 | NA | 0 | 0 | 0 | 0 | 0 | ... | 0 | 0 | 0 | 1 | 0 | 0 | 0 | 1 | 0 | 1 |\n",
       "| 0 | 0 | 0 | 0 | NA | 1 | 0 | 0 | 1 | 0 | ... | 0 | 0 | 0 | 0 | 0 | 0 | 0 | 0 | 0 | 0 |\n",
       "| 0 | 0 | 0 | 0 | NA | 0 | 0 | 0 | 0 | 0 | ... | 0 | 0 | 0 | 0 | 0 | 0 | 0 | 0 | 0 | 0 |\n",
       "| 0 | 0 | 1 | 0 | NA | 0 | 0 | 0 | 0 | 0 | ... | 0 | 1 | 1 | 1 | 0 | 0 | 0 | 0 | 0 | 0 |\n",
       "| 0 | 0 | 0 | 0 | NA | 0 | 0 | 0 | 0 | 0 | ... | 0 | 0 | 0 | 0 | 0 | 0 | 0 | 0 | 0 | 0 |\n",
       "| 0 | 0 | 0 | 0 | NA | 0 | 0 | 0 | 0 | 0 | ... | 0 | 1 | 0 | 0 | 1 | 0 | 0 | 0 | 0 | 0 |\n",
       "| 0 | 0 | 0 | 0 | NA | 0 | 0 | 0 | 1 | 0 | ... | 0 | 0 | 0 | 0 | 0 | 0 | 0 | 0 | 0 | 0 |\n",
       "| 0 | 0 | 0 | 1 | NA | 0 | 0 | 0 | 0 | 0 | ... | 0 | 0 | 0 | 1 | 1 | 0 | 0 | 0 | 0 | 0 |\n",
       "| 0 | 0 | 0 | 0 | NA | 0 | 0 | 0 | 1 | 0 | ... | 0 | 0 | 0 | 0 | 0 | 0 | 0 | 0 | 0 | 0 |\n",
       "| 0 | 0 | 0 | 0 | NA | 0 | 0 | 0 | 0 | 0 | ... | 0 | 0 | 0 | 0 | 0 | 0 | 0 | 0 | 0 | 0 |\n",
       "| 0 | 0 | 0 | 0 | NA | 0 | 0 | 0 | 0 | 0 | ... | 0 | 0 | 0 | 0 | 0 | 0 | 0 | 0 | 0 | 0 |\n",
       "| 0 | 0 | 0 | 0 | NA | 0 | 0 | 0 | 0 | 1 | ... | 0 | 0 | 0 | 0 | 0 | 0 | 0 | 0 | 0 | 0 |\n",
       "| 0 | 0 | 0 | 0 | NA | 0 | 0 | 0 | 0 | 0 | ... | 0 | 0 | 0 | 0 | 0 | 0 | 0 | 0 | 0 | 0 |\n",
       "| 0 | 0 | 0 | 0 | NA | 0 | 0 | 0 | 0 | 0 | ... | 0 | 0 | 0 | 0 | 0 | 0 | 0 | 0 | 0 | 0 |\n",
       "| 0 | 0 | 0 | 0 | NA | 0 | 0 | 0 | 1 | 0 | ... | 0 | 0 | 0 | 0 | 0 | 0 | 0 | 0 | 0 | 0 |\n",
       "| 0 | 0 | 0 | 0 | NA | 0 | 0 | 0 | 0 | 0 | ... | 0 | 0 | 0 | 0 | 0 | 0 | 0 | 0 | 0 | 0 |\n",
       "| 0 | 0 | 0 | 0 | NA | 0 | 0 | 0 | 0 | 0 | ... | 0 | 0 | 0 | 0 | 0 | 0 | 0 | 0 | 0 | 1 |\n",
       "| 0 | 0 | 0 | 0 | NA | 0 | 0 | 0 | 0 | 0 | ... | 0 | 0 | 0 | 0 | 0 | 0 | 0 | 0 | 0 | 1 |\n",
       "| 0 | 1 | 1 | 0 | NA | 0 | 0 | 0 | 0 | 0 | ... | 1 | 0 | 0 | 0 | 0 | 0 | 0 | 0 | 0 | 1 |\n",
       "| 0 | 0 | 0 | 0 | NA | 0 | 0 | 0 | 0 | 0 | ... | 0 | 0 | 0 | 0 | 0 | 0 | 0 | 0 | 0 | 0 |\n",
       "| 0 | 0 | 0 | 0 | NA | 0 | 0 | 0 | 0 | 0 | ... | 0 | 0 | 0 | 1 | 1 | 0 | 0 | 0 | 0 | 0 |\n",
       "| 0 | 0 | 0 | 0 | NA | 0 | 0 | 0 | 0 | 0 | ... | 0 | 0 | 0 | 0 | 0 | 0 | 0 | 0 | 0 | 0 |\n",
       "| 0 | 0 | 0 | 0 | NA | 0 | 0 | 0 | 0 | 0 | ... | 0 | 0 | 0 | 0 | 0 | 0 | 0 | 0 | 0 | 0 |\n",
       "| 0 | 0 | 0 | 0 | NA | 1 | 0 | 0 | 0 | 0 | ... | 0 | 0 | 0 | 1 | 0 | 0 | 0 | 0 | 0 | 0 |\n",
       "\n"
      ],
      "text/plain": [
       "     movie_id budget popularity runtime revenue sw_lang_en sw_web_presence\n",
       "1    0        0      0          0       0       0          0              \n",
       "2    0        0      0          0       0       0          0              \n",
       "3    0        0      1          0       0       0          0              \n",
       "4    0        0      0          0       0       1          0              \n",
       "5    0        0      0          0       0       1          0              \n",
       "6    0        0      0          0       0       0          0              \n",
       "7    0        0      0          0       0       0          0              \n",
       "8    0        0      0          0       0       0          0              \n",
       "9    0        0      0          0       0       0          0              \n",
       "10   0        0      0          0       0       0          0              \n",
       "11   0        0      0          0       0       0          0              \n",
       "12   0        0      0          0       0       0          0              \n",
       "13   0        0      0          0       1       0          0              \n",
       "14   0        0      0          0       0       0          0              \n",
       "15   0        1      0          0       1       0          0              \n",
       "16   0        0      0          0       0       1          0              \n",
       "17   0        0      0          0       0       0          0              \n",
       "18   0        0      0          0       0       0          0              \n",
       "19   0        0      0          0       0       0          0              \n",
       "20   0        0      0          0       0       0          0              \n",
       "21   0        1      0          0       0       0          0              \n",
       "22   0        0      0          0       0       0          0              \n",
       "23   0        0      0          0       0       0          0              \n",
       "24   0        0      0          0       0       0          0              \n",
       "25   0        0      0          0       0       0          0              \n",
       "26   0        0      0          0       0       0          0              \n",
       "27   0        0      0          0       0       0          0              \n",
       "28   0        0      0          0       0       0          0              \n",
       "29   0        0      0          0       0       0          0              \n",
       "30   0        0      0          0       0       0          0              \n",
       "...  ...      ...    ...        ...     ...     ...        ...            \n",
       "7346 0        0      0          0       NA      0          0              \n",
       "7347 0        0      0          0       NA      0          0              \n",
       "7348 0        0      0          0       NA      0          0              \n",
       "7349 0        0      0          0       NA      0          0              \n",
       "7350 0        1      0          0       NA      0          0              \n",
       "7351 0        0      0          0       NA      0          0              \n",
       "7352 0        0      0          0       NA      0          0              \n",
       "7353 0        0      0          0       NA      1          0              \n",
       "7354 0        0      0          0       NA      0          0              \n",
       "7355 0        0      1          0       NA      0          0              \n",
       "7356 0        0      0          0       NA      0          0              \n",
       "7357 0        0      0          0       NA      0          0              \n",
       "7358 0        0      0          0       NA      0          0              \n",
       "7359 0        0      0          1       NA      0          0              \n",
       "7360 0        0      0          0       NA      0          0              \n",
       "7361 0        0      0          0       NA      0          0              \n",
       "7362 0        0      0          0       NA      0          0              \n",
       "7363 0        0      0          0       NA      0          0              \n",
       "7364 0        0      0          0       NA      0          0              \n",
       "7365 0        0      0          0       NA      0          0              \n",
       "7366 0        0      0          0       NA      0          0              \n",
       "7367 0        0      0          0       NA      0          0              \n",
       "7368 0        0      0          0       NA      0          0              \n",
       "7369 0        0      0          0       NA      0          0              \n",
       "7370 0        1      1          0       NA      0          0              \n",
       "7371 0        0      0          0       NA      0          0              \n",
       "7372 0        0      0          0       NA      0          0              \n",
       "7373 0        0      0          0       NA      0          0              \n",
       "7374 0        0      0          0       NA      0          0              \n",
       "7375 0        0      0          0       NA      1          0              \n",
       "     sw_has_poster sw_tagline keyword_cnt ... depart_Camera_female\n",
       "1    0             0          0           ... 0                   \n",
       "2    0             0          0           ... 0                   \n",
       "3    0             0          0           ... 0                   \n",
       "4    0             1          0           ... 0                   \n",
       "5    0             1          0           ... 0                   \n",
       "6    0             1          0           ... 0                   \n",
       "7    0             0          0           ... 0                   \n",
       "8    0             0          0           ... 0                   \n",
       "9    0             0          0           ... 0                   \n",
       "10   0             0          0           ... 1                   \n",
       "11   0             0          0           ... 0                   \n",
       "12   0             0          0           ... 0                   \n",
       "13   0             0          1           ... 0                   \n",
       "14   0             0          0           ... 0                   \n",
       "15   0             0          0           ... 0                   \n",
       "16   0             0          0           ... 0                   \n",
       "17   0             0          0           ... 0                   \n",
       "18   0             0          0           ... 0                   \n",
       "19   0             0          0           ... 0                   \n",
       "20   0             0          0           ... 0                   \n",
       "21   0             0          0           ... 0                   \n",
       "22   0             0          0           ... 0                   \n",
       "23   0             0          0           ... 0                   \n",
       "24   0             0          0           ... 0                   \n",
       "25   0             0          0           ... 0                   \n",
       "26   0             0          0           ... 0                   \n",
       "27   0             0          0           ... 0                   \n",
       "28   0             0          0           ... 0                   \n",
       "29   0             0          0           ... 0                   \n",
       "30   0             0          0           ... 0                   \n",
       "...  ...           ...        ...             ...                 \n",
       "7346 0             1          0           ... 0                   \n",
       "7347 0             0          0           ... 0                   \n",
       "7348 0             1          0           ... 0                   \n",
       "7349 0             0          0           ... 0                   \n",
       "7350 0             0          0           ... 0                   \n",
       "7351 0             0          1           ... 0                   \n",
       "7352 0             0          0           ... 0                   \n",
       "7353 0             1          0           ... 0                   \n",
       "7354 0             0          0           ... 0                   \n",
       "7355 0             0          0           ... 0                   \n",
       "7356 0             0          0           ... 0                   \n",
       "7357 0             0          0           ... 0                   \n",
       "7358 0             1          0           ... 0                   \n",
       "7359 0             0          0           ... 0                   \n",
       "7360 0             1          0           ... 0                   \n",
       "7361 0             0          0           ... 0                   \n",
       "7362 0             0          0           ... 0                   \n",
       "7363 0             0          1           ... 0                   \n",
       "7364 0             0          0           ... 0                   \n",
       "7365 0             0          0           ... 0                   \n",
       "7366 0             1          0           ... 0                   \n",
       "7367 0             0          0           ... 0                   \n",
       "7368 0             0          0           ... 0                   \n",
       "7369 0             0          0           ... 0                   \n",
       "7370 0             0          0           ... 1                   \n",
       "7371 0             0          0           ... 0                   \n",
       "7372 0             0          0           ... 0                   \n",
       "7373 0             0          0           ... 0                   \n",
       "7374 0             0          0           ... 0                   \n",
       "7375 0             0          0           ... 0                   \n",
       "     depart_Crew_female depart_Custom_Mkup_female depart_Directing_female\n",
       "1    0                  0                         0                      \n",
       "2    0                  0                         0                      \n",
       "3    1                  0                         0                      \n",
       "4    0                  0                         0                      \n",
       "5    0                  0                         0                      \n",
       "6    0                  0                         0                      \n",
       "7    0                  0                         1                      \n",
       "8    0                  0                         1                      \n",
       "9    0                  0                         0                      \n",
       "10   0                  0                         0                      \n",
       "11   0                  0                         1                      \n",
       "12   0                  0                         0                      \n",
       "13   1                  1                         1                      \n",
       "14   0                  0                         0                      \n",
       "15   1                  0                         1                      \n",
       "16   0                  0                         0                      \n",
       "17   0                  1                         1                      \n",
       "18   0                  0                         0                      \n",
       "19   0                  0                         0                      \n",
       "20   0                  0                         0                      \n",
       "21   0                  0                         1                      \n",
       "22   0                  0                         0                      \n",
       "23   0                  0                         0                      \n",
       "24   0                  0                         0                      \n",
       "25   0                  0                         0                      \n",
       "26   0                  0                         0                      \n",
       "27   0                  0                         1                      \n",
       "28   0                  0                         0                      \n",
       "29   0                  0                         0                      \n",
       "30   0                  0                         0                      \n",
       "...  ...                ...                       ...                    \n",
       "7346 0                  0                         0                      \n",
       "7347 0                  0                         0                      \n",
       "7348 0                  0                         0                      \n",
       "7349 0                  0                         0                      \n",
       "7350 0                  0                         0                      \n",
       "7351 0                  0                         1                      \n",
       "7352 0                  0                         1                      \n",
       "7353 0                  0                         0                      \n",
       "7354 0                  0                         0                      \n",
       "7355 1                  1                         1                      \n",
       "7356 0                  0                         0                      \n",
       "7357 1                  0                         0                      \n",
       "7358 0                  0                         0                      \n",
       "7359 0                  0                         1                      \n",
       "7360 0                  0                         0                      \n",
       "7361 0                  0                         0                      \n",
       "7362 0                  0                         0                      \n",
       "7363 0                  0                         0                      \n",
       "7364 0                  0                         0                      \n",
       "7365 0                  0                         0                      \n",
       "7366 0                  0                         0                      \n",
       "7367 0                  0                         0                      \n",
       "7368 0                  0                         0                      \n",
       "7369 0                  0                         0                      \n",
       "7370 0                  0                         0                      \n",
       "7371 0                  0                         0                      \n",
       "7372 0                  0                         1                      \n",
       "7373 0                  0                         0                      \n",
       "7374 0                  0                         0                      \n",
       "7375 0                  0                         1                      \n",
       "     depart_Editing_female depart_Lighting_female depart_Production_female\n",
       "1    0                     0                      0                       \n",
       "2    0                     0                      0                       \n",
       "3    0                     0                      0                       \n",
       "4    0                     0                      0                       \n",
       "5    0                     0                      0                       \n",
       "6    0                     0                      0                       \n",
       "7    0                     0                      0                       \n",
       "8    0                     0                      0                       \n",
       "9    0                     0                      0                       \n",
       "10   0                     0                      0                       \n",
       "11   1                     0                      0                       \n",
       "12   0                     0                      0                       \n",
       "13   0                     0                      0                       \n",
       "14   0                     0                      0                       \n",
       "15   0                     0                      0                       \n",
       "16   0                     0                      0                       \n",
       "17   0                     0                      0                       \n",
       "18   0                     0                      0                       \n",
       "19   0                     0                      0                       \n",
       "20   0                     0                      0                       \n",
       "21   0                     0                      0                       \n",
       "22   0                     0                      0                       \n",
       "23   0                     0                      0                       \n",
       "24   0                     0                      0                       \n",
       "25   0                     0                      0                       \n",
       "26   1                     0                      0                       \n",
       "27   1                     0                      0                       \n",
       "28   0                     0                      0                       \n",
       "29   0                     0                      0                       \n",
       "30   0                     0                      0                       \n",
       "...  ...                   ...                    ...                     \n",
       "7346 0                     0                      0                       \n",
       "7347 0                     0                      0                       \n",
       "7348 0                     0                      0                       \n",
       "7349 1                     0                      0                       \n",
       "7350 1                     0                      0                       \n",
       "7351 0                     0                      0                       \n",
       "7352 0                     0                      0                       \n",
       "7353 0                     0                      0                       \n",
       "7354 0                     0                      0                       \n",
       "7355 0                     0                      0                       \n",
       "7356 0                     0                      0                       \n",
       "7357 1                     0                      0                       \n",
       "7358 0                     0                      0                       \n",
       "7359 1                     0                      0                       \n",
       "7360 0                     0                      0                       \n",
       "7361 0                     0                      0                       \n",
       "7362 0                     0                      0                       \n",
       "7363 0                     0                      0                       \n",
       "7364 0                     0                      0                       \n",
       "7365 0                     0                      0                       \n",
       "7366 0                     0                      0                       \n",
       "7367 0                     0                      0                       \n",
       "7368 0                     0                      0                       \n",
       "7369 0                     0                      0                       \n",
       "7370 0                     0                      0                       \n",
       "7371 0                     0                      0                       \n",
       "7372 1                     0                      0                       \n",
       "7373 0                     0                      0                       \n",
       "7374 0                     0                      0                       \n",
       "7375 0                     0                      0                       \n",
       "     depart_Sound_female depart_Visual_Effects_female depart_Writing_female\n",
       "1    0                   0                            0                    \n",
       "2    0                   0                            1                    \n",
       "3    0                   0                            0                    \n",
       "4    0                   0                            0                    \n",
       "5    0                   0                            0                    \n",
       "6    0                   0                            0                    \n",
       "7    0                   0                            0                    \n",
       "8    0                   0                            0                    \n",
       "9    0                   0                            0                    \n",
       "10   0                   0                            0                    \n",
       "11   0                   0                            0                    \n",
       "12   0                   0                            0                    \n",
       "13   0                   0                            0                    \n",
       "14   0                   0                            0                    \n",
       "15   0                   0                            0                    \n",
       "16   0                   0                            0                    \n",
       "17   0                   0                            0                    \n",
       "18   0                   0                            0                    \n",
       "19   0                   0                            0                    \n",
       "20   0                   0                            0                    \n",
       "21   0                   0                            0                    \n",
       "22   0                   0                            1                    \n",
       "23   0                   0                            0                    \n",
       "24   1                   0                            0                    \n",
       "25   1                   0                            0                    \n",
       "26   0                   0                            0                    \n",
       "27   0                   0                            0                    \n",
       "28   0                   0                            0                    \n",
       "29   0                   0                            0                    \n",
       "30   0                   0                            0                    \n",
       "...  ...                 ...                          ...                  \n",
       "7346 0                   0                            0                    \n",
       "7347 0                   0                            0                    \n",
       "7348 0                   0                            0                    \n",
       "7349 0                   0                            0                    \n",
       "7350 1                   0                            0                    \n",
       "7351 0                   0                            0                    \n",
       "7352 1                   0                            1                    \n",
       "7353 0                   0                            0                    \n",
       "7354 0                   0                            0                    \n",
       "7355 0                   0                            0                    \n",
       "7356 0                   0                            0                    \n",
       "7357 0                   0                            0                    \n",
       "7358 0                   0                            0                    \n",
       "7359 0                   0                            0                    \n",
       "7360 0                   0                            0                    \n",
       "7361 0                   0                            0                    \n",
       "7362 0                   0                            0                    \n",
       "7363 0                   0                            0                    \n",
       "7364 0                   0                            0                    \n",
       "7365 0                   0                            0                    \n",
       "7366 0                   0                            0                    \n",
       "7367 0                   0                            0                    \n",
       "7368 0                   0                            1                    \n",
       "7369 0                   0                            1                    \n",
       "7370 0                   0                            1                    \n",
       "7371 0                   0                            0                    \n",
       "7372 0                   0                            0                    \n",
       "7373 0                   0                            0                    \n",
       "7374 0                   0                            0                    \n",
       "7375 0                   0                            0                    "
      ]
     },
     "metadata": {},
     "output_type": "display_data"
    }
   ],
   "source": [
    "movies_outliers"
   ]
  },
  {
   "cell_type": "code",
   "execution_count": 50,
   "metadata": {},
   "outputs": [
    {
     "ename": "ERROR",
     "evalue": "Error in movies_continuous[, 1:44]: incorrect number of dimensions\n",
     "output_type": "error",
     "traceback": [
      "Error in movies_continuous[, 1:44]: incorrect number of dimensions\nTraceback:\n"
     ]
    }
   ],
   "source": [
    "options(repr.plot.width = 8, repr.plot.height = 8)\n",
    "par(mfrow=c(4,3))\n",
    "for(v in names(movies_continuous[,1:44])) {\n",
    "    outlier_values <- boxplot.stats(movies_continuous[,v])$out\n",
    "    boxplot(movies_ff[[v]],main=v)\n",
    "    mtext(paste(\"Outliers: \", paste(length(outlier_values), collapse=\", \")), cex=1)\n",
    "}\n",
    "par(mfrow=c(1,1))"
   ]
  },
  {
   "cell_type": "code",
   "execution_count": null,
   "metadata": {},
   "outputs": [],
   "source": []
  }
 ],
 "metadata": {
  "kernelspec": {
   "display_name": "R",
   "language": "R",
   "name": "ir"
  },
  "language_info": {
   "codemirror_mode": "r",
   "file_extension": ".r",
   "mimetype": "text/x-r-source",
   "name": "R",
   "pygments_lexer": "r",
   "version": "3.6.1"
  }
 },
 "nbformat": 4,
 "nbformat_minor": 2
}
